{
  "nbformat": 4,
  "nbformat_minor": 0,
  "metadata": {
    "colab": {
      "provenance": []
    },
    "kernelspec": {
      "name": "python3",
      "display_name": "Python 3"
    },
    "language_info": {
      "name": "python"
    }
  },
  "cells": [
    {
      "cell_type": "code",
      "execution_count": 1,
      "metadata": {
        "id": "7OnPfK13PEb6"
      },
      "outputs": [],
      "source": [
        "x = \"double quotes\""
      ]
    },
    {
      "cell_type": "code",
      "source": [
        "y = 'single quotes'"
      ],
      "metadata": {
        "id": "ucDR4pR_PS28"
      },
      "execution_count": null,
      "outputs": []
    },
    {
      "cell_type": "code",
      "source": [
        "z = '''triple quotes''' # docstrings"
      ],
      "metadata": {
        "id": "JEkNeSnNPSy-"
      },
      "execution_count": null,
      "outputs": []
    },
    {
      "cell_type": "code",
      "source": [
        "a = \"\"\"triple double quotes\"\"\" # docstrings"
      ],
      "metadata": {
        "id": "E5ITZhH3PSvH"
      },
      "execution_count": null,
      "outputs": []
    },
    {
      "cell_type": "code",
      "source": [
        "# we can't use mixed quotations"
      ],
      "metadata": {
        "id": "G50jGCfxPSrJ"
      },
      "execution_count": null,
      "outputs": []
    },
    {
      "cell_type": "code",
      "source": [
        "a = 'String\""
      ],
      "metadata": {
        "colab": {
          "base_uri": "https://localhost:8080/",
          "height": 130
        },
        "id": "yjYJ-M5RPSnT",
        "outputId": "d52b0a1a-b062-4c6c-e8dd-4983ad32bd3b"
      },
      "execution_count": 2,
      "outputs": [
        {
          "output_type": "error",
          "ename": "SyntaxError",
          "evalue": "ignored",
          "traceback": [
            "\u001b[0;36m  File \u001b[0;32m\"<ipython-input-2-00305aefbc0b>\"\u001b[0;36m, line \u001b[0;32m1\u001b[0m\n\u001b[0;31m    a = 'String\"\u001b[0m\n\u001b[0m        ^\u001b[0m\n\u001b[0;31mSyntaxError\u001b[0m\u001b[0;31m:\u001b[0m unterminated string literal (detected at line 1)\n"
          ]
        }
      ]
    },
    {
      "cell_type": "code",
      "source": [
        "z = \"\\\"ab\\\"\" # escape characters\n",
        "print(z)"
      ],
      "metadata": {
        "colab": {
          "base_uri": "https://localhost:8080/"
        },
        "id": "fbmSyUZ6PSjA",
        "outputId": "7f798f4d-6a81-4620-e0e4-4eaa96c029fa"
      },
      "execution_count": 6,
      "outputs": [
        {
          "output_type": "stream",
          "name": "stdout",
          "text": [
            "\"ab\"\n"
          ]
        }
      ]
    },
    {
      "cell_type": "code",
      "source": [
        "\"a\" > \"A\"\n",
        "# This comparison happens on the basis of ASCII values"
      ],
      "metadata": {
        "colab": {
          "base_uri": "https://localhost:8080/"
        },
        "id": "SYMWSRwRPSe_",
        "outputId": "3cc49698-d1c8-4aa0-b483-0bdccdbbc7b7"
      },
      "execution_count": 7,
      "outputs": [
        {
          "output_type": "execute_result",
          "data": {
            "text/plain": [
              "True"
            ]
          },
          "metadata": {},
          "execution_count": 7
        }
      ]
    },
    {
      "cell_type": "code",
      "source": [
        "\"random\" + \"random2\" # concatenation"
      ],
      "metadata": {
        "colab": {
          "base_uri": "https://localhost:8080/",
          "height": 35
        },
        "id": "9PHZ_cwmPSao",
        "outputId": "0458810f-74d7-40e8-956a-b3e172bbb08f"
      },
      "execution_count": 8,
      "outputs": [
        {
          "output_type": "execute_result",
          "data": {
            "text/plain": [
              "'randomrandom2'"
            ],
            "application/vnd.google.colaboratory.intrinsic+json": {
              "type": "string"
            }
          },
          "metadata": {},
          "execution_count": 8
        }
      ]
    },
    {
      "cell_type": "code",
      "source": [
        "a = \"a\" * 3 * 2\n",
        "a"
      ],
      "metadata": {
        "colab": {
          "base_uri": "https://localhost:8080/",
          "height": 35
        },
        "id": "tZgIcER2PSWb",
        "outputId": "5e6326c7-0798-4576-85a4-9363313c4525"
      },
      "execution_count": 11,
      "outputs": [
        {
          "output_type": "execute_result",
          "data": {
            "text/plain": [
              "'aaaaaa'"
            ],
            "application/vnd.google.colaboratory.intrinsic+json": {
              "type": "string"
            }
          },
          "metadata": {},
          "execution_count": 11
        }
      ]
    },
    {
      "cell_type": "code",
      "source": [
        "\"abc\" > \"cba\" # lexicographical comparison"
      ],
      "metadata": {
        "colab": {
          "base_uri": "https://localhost:8080/"
        },
        "id": "1ARe5zKFPSSu",
        "outputId": "632e6e82-1c3e-40a2-ccd0-947e6b8e9065"
      },
      "execution_count": 12,
      "outputs": [
        {
          "output_type": "execute_result",
          "data": {
            "text/plain": [
              "False"
            ]
          },
          "metadata": {},
          "execution_count": 12
        }
      ]
    },
    {
      "cell_type": "code",
      "source": [
        "\"zebra\" > \"abeyasdsdjhfvskdahdhagdfhadjkbfvjahdfjDHSVGHfzgs\"\n",
        "# LEXICOGRAPHICAL\n",
        "# String which comes later in a dictionary has higher value"
      ],
      "metadata": {
        "colab": {
          "base_uri": "https://localhost:8080/"
        },
        "id": "GCOzWDx0PSNI",
        "outputId": "31031ba9-74e1-4627-888f-10cc37d689b6"
      },
      "execution_count": 13,
      "outputs": [
        {
          "output_type": "execute_result",
          "data": {
            "text/plain": [
              "True"
            ]
          },
          "metadata": {},
          "execution_count": 13
        }
      ]
    },
    {
      "cell_type": "code",
      "source": [
        "\"zebra\" > \"ZEBRA\"\n",
        "# ASCII BASED"
      ],
      "metadata": {
        "colab": {
          "base_uri": "https://localhost:8080/"
        },
        "id": "pAKHd2gkPSJO",
        "outputId": "b33baa4c-faa5-4bbe-a2cd-3f085cba02fa"
      },
      "execution_count": 14,
      "outputs": [
        {
          "output_type": "execute_result",
          "data": {
            "text/plain": [
              "True"
            ]
          },
          "metadata": {},
          "execution_count": 14
        }
      ]
    },
    {
      "cell_type": "code",
      "source": [
        "s1 = \"string1\"\n",
        "s2 = \"string2\"\n",
        "\n",
        "a = f\"{s1}, {s2}\"\n",
        "\n",
        "print(a)"
      ],
      "metadata": {
        "colab": {
          "base_uri": "https://localhost:8080/"
        },
        "id": "8j9U742XPSEj",
        "outputId": "0b3ad800-fbec-44cf-bf79-c3bd9f4f0eee"
      },
      "execution_count": 17,
      "outputs": [
        {
          "output_type": "stream",
          "name": "stdout",
          "text": [
            "string1, string2\n"
          ]
        }
      ]
    },
    {
      "cell_type": "code",
      "source": [
        "ord(\"a\") # check integer value of character"
      ],
      "metadata": {
        "colab": {
          "base_uri": "https://localhost:8080/"
        },
        "id": "8rpsdV3cPSAo",
        "outputId": "466b7d7c-8e18-46a1-88bb-68b8544c62b2"
      },
      "execution_count": 18,
      "outputs": [
        {
          "output_type": "execute_result",
          "data": {
            "text/plain": [
              "97"
            ]
          },
          "metadata": {},
          "execution_count": 18
        }
      ]
    },
    {
      "cell_type": "code",
      "source": [
        "ord('\\n')"
      ],
      "metadata": {
        "colab": {
          "base_uri": "https://localhost:8080/"
        },
        "id": "2lOarihUR2nx",
        "outputId": "9a1bae00-deec-49ac-c628-da94876d7369"
      },
      "execution_count": 19,
      "outputs": [
        {
          "output_type": "execute_result",
          "data": {
            "text/plain": [
              "10"
            ]
          },
          "metadata": {},
          "execution_count": 19
        }
      ]
    },
    {
      "cell_type": "code",
      "source": [
        "chr(56) # get character from integer value"
      ],
      "metadata": {
        "colab": {
          "base_uri": "https://localhost:8080/",
          "height": 35
        },
        "id": "yezQWKZaPR88",
        "outputId": "bea849f8-9c45-454f-882e-f4fe13a7d4ff"
      },
      "execution_count": 20,
      "outputs": [
        {
          "output_type": "execute_result",
          "data": {
            "text/plain": [
              "'8'"
            ],
            "application/vnd.google.colaboratory.intrinsic+json": {
              "type": "string"
            }
          },
          "metadata": {},
          "execution_count": 20
        }
      ]
    },
    {
      "cell_type": "code",
      "source": [
        "# check palindrome\n",
        "a = input()\n",
        "\n",
        "def check_palindrome(a):\n",
        "  a = a.lower()\n",
        "  return \"Palindrome\" if a[:] == a[::-1] else \"Not Palindrome\"\n",
        "\n",
        "check_palindrome(a)"
      ],
      "metadata": {
        "colab": {
          "base_uri": "https://localhost:8080/",
          "height": 53
        },
        "id": "Xb6ypP0_PRxM",
        "outputId": "3b7d51d2-2295-4ad5-a020-601232944851"
      },
      "execution_count": 30,
      "outputs": [
        {
          "name": "stdout",
          "output_type": "stream",
          "text": [
            "madaM\n"
          ]
        },
        {
          "output_type": "execute_result",
          "data": {
            "text/plain": [
              "'Palindrome'"
            ],
            "application/vnd.google.colaboratory.intrinsic+json": {
              "type": "string"
            }
          },
          "metadata": {},
          "execution_count": 30
        }
      ]
    },
    {
      "cell_type": "code",
      "source": [
        "'''\n",
        "1. Take a string as input from the user.\n",
        "2. Print the number of uppercase characters in that string. (alphabets)\n",
        "\n",
        "INPUT - \"This is a Random%^&*()\"\n",
        "OUTPUT - 2\n",
        "'''"
      ],
      "metadata": {
        "id": "c_DxNI2KR_7v"
      },
      "execution_count": null,
      "outputs": []
    },
    {
      "cell_type": "code",
      "source": [
        "string = \"This is a Random%^&*()\"\n",
        "\n",
        "def upperCase_count(s):\n",
        "  count = 0\n",
        "  for i in s:\n",
        "    if i >= 'A' and i <= 'Z':\n",
        "      count += 1\n",
        "  return count\n",
        "\n",
        "upperCase_count(string)"
      ],
      "metadata": {
        "colab": {
          "base_uri": "https://localhost:8080/"
        },
        "id": "q_YGQNryR-rM",
        "outputId": "bee10d59-3ba0-40a5-ec4b-299b038555ee"
      },
      "execution_count": 37,
      "outputs": [
        {
          "output_type": "execute_result",
          "data": {
            "text/plain": [
              "2"
            ]
          },
          "metadata": {},
          "execution_count": 37
        }
      ]
    },
    {
      "cell_type": "code",
      "source": [
        "def count_uppercase(a):\n",
        "    count = 0\n",
        "\n",
        "    for i in a:\n",
        "        if ord(i) >= 65 and ord(i) <= 90:\n",
        "            count += 1\n",
        "\n",
        "    return count\n",
        "\n",
        "count_uppercase(string)"
      ],
      "metadata": {
        "colab": {
          "base_uri": "https://localhost:8080/"
        },
        "id": "Z96bz-ifR-mg",
        "outputId": "9e6ed322-7116-4f05-a4a5-553c84d7fc74"
      },
      "execution_count": 38,
      "outputs": [
        {
          "output_type": "execute_result",
          "data": {
            "text/plain": [
              "2"
            ]
          },
          "metadata": {},
          "execution_count": 38
        }
      ]
    },
    {
      "cell_type": "code",
      "source": [
        "def count_uppercase_easy(a):\n",
        "    count = 0\n",
        "\n",
        "    for i in a:\n",
        "        if i.isupper():\n",
        "            count += 1\n",
        "\n",
        "    return count\n",
        "\n",
        "\n",
        "count_uppercase_easy(string)"
      ],
      "metadata": {
        "colab": {
          "base_uri": "https://localhost:8080/"
        },
        "id": "ql7QZONyR-ic",
        "outputId": "265f4dea-6233-4e0a-c32d-c715e04b4e42"
      },
      "execution_count": 39,
      "outputs": [
        {
          "output_type": "execute_result",
          "data": {
            "text/plain": [
              "2"
            ]
          },
          "metadata": {},
          "execution_count": 39
        }
      ]
    },
    {
      "cell_type": "code",
      "source": [
        "\"A\".isupper()"
      ],
      "metadata": {
        "colab": {
          "base_uri": "https://localhost:8080/"
        },
        "id": "VItJ1xixXXl0",
        "outputId": "0745cd3c-32f6-468b-8ec2-b93c5775f95a"
      },
      "execution_count": 40,
      "outputs": [
        {
          "output_type": "execute_result",
          "data": {
            "text/plain": [
              "True"
            ]
          },
          "metadata": {},
          "execution_count": 40
        }
      ]
    },
    {
      "cell_type": "code",
      "source": [
        "'b'.islower()"
      ],
      "metadata": {
        "colab": {
          "base_uri": "https://localhost:8080/"
        },
        "id": "S6bE0gGzXXhj",
        "outputId": "18b97d2f-2418-4973-ac87-e7cb1fd7a8bb"
      },
      "execution_count": 41,
      "outputs": [
        {
          "output_type": "execute_result",
          "data": {
            "text/plain": [
              "True"
            ]
          },
          "metadata": {},
          "execution_count": 41
        }
      ]
    },
    {
      "cell_type": "code",
      "source": [
        "# Split"
      ],
      "metadata": {
        "id": "z97eQnuUXXdP"
      },
      "execution_count": null,
      "outputs": []
    },
    {
      "cell_type": "code",
      "source": [
        "a = \"this is a long string of words!\""
      ],
      "metadata": {
        "id": "HFaWAD47XXXV"
      },
      "execution_count": 43,
      "outputs": []
    },
    {
      "cell_type": "code",
      "source": [
        "a.split(' ')"
      ],
      "metadata": {
        "colab": {
          "base_uri": "https://localhost:8080/"
        },
        "id": "I0W6H1u8XXR9",
        "outputId": "9541b8b0-93d8-4ff3-aae4-c257f65ff870"
      },
      "execution_count": 44,
      "outputs": [
        {
          "output_type": "execute_result",
          "data": {
            "text/plain": [
              "['this', 'is', 'a', 'long', 'string', 'of', 'words!']"
            ]
          },
          "metadata": {},
          "execution_count": 44
        }
      ]
    },
    {
      "cell_type": "code",
      "source": [
        "a = \"this+is+random\""
      ],
      "metadata": {
        "id": "efpUUqlQXXN3"
      },
      "execution_count": 46,
      "outputs": []
    },
    {
      "cell_type": "code",
      "source": [
        "a.split(\"+\") # output will be a list of all splitted elements"
      ],
      "metadata": {
        "colab": {
          "base_uri": "https://localhost:8080/"
        },
        "id": "TD8H_gUtXXJg",
        "outputId": "3abd9d3d-8e47-407a-cc56-d14b1442402d"
      },
      "execution_count": 47,
      "outputs": [
        {
          "output_type": "execute_result",
          "data": {
            "text/plain": [
              "['this', 'is', 'random']"
            ]
          },
          "metadata": {},
          "execution_count": 47
        }
      ]
    },
    {
      "cell_type": "code",
      "source": [
        "a = \"this is a random string with various S!\""
      ],
      "metadata": {
        "id": "-bGBxAdAYLWd"
      },
      "execution_count": 48,
      "outputs": []
    },
    {
      "cell_type": "code",
      "source": [
        "a.split('s')"
      ],
      "metadata": {
        "colab": {
          "base_uri": "https://localhost:8080/"
        },
        "id": "CXHx5JpxYLMe",
        "outputId": "80e660fe-ba13-44bf-8360-9c278602cedf"
      },
      "execution_count": 49,
      "outputs": [
        {
          "output_type": "execute_result",
          "data": {
            "text/plain": [
              "['thi', ' i', ' a random ', 'tring with variou', ' S!']"
            ]
          },
          "metadata": {},
          "execution_count": 49
        }
      ]
    },
    {
      "cell_type": "code",
      "source": [
        "# JOIN"
      ],
      "metadata": {
        "id": "5kzgAg-rYMsn"
      },
      "execution_count": null,
      "outputs": []
    },
    {
      "cell_type": "code",
      "source": [
        "a = [\"this\", \"is\", \"a\", \"list\", \"of\", \"strings!\"]"
      ],
      "metadata": {
        "id": "7Rp1jRS_YMn7"
      },
      "execution_count": 50,
      "outputs": []
    },
    {
      "cell_type": "code",
      "source": [
        "\" \".join(a)"
      ],
      "metadata": {
        "colab": {
          "base_uri": "https://localhost:8080/",
          "height": 35
        },
        "id": "2DHaisS5YMjJ",
        "outputId": "25cff962-b6b2-4317-af41-3f23986eb774"
      },
      "execution_count": 51,
      "outputs": [
        {
          "output_type": "execute_result",
          "data": {
            "text/plain": [
              "'this is a list of strings!'"
            ],
            "application/vnd.google.colaboratory.intrinsic+json": {
              "type": "string"
            }
          },
          "metadata": {},
          "execution_count": 51
        }
      ]
    },
    {
      "cell_type": "code",
      "source": [
        "# FIND"
      ],
      "metadata": {
        "id": "EBCZTG22YMfA"
      },
      "execution_count": null,
      "outputs": []
    },
    {
      "cell_type": "code",
      "source": [
        "\"this is a random string\".find(\"a\")\n",
        "# returns index of the first instance of the given substring"
      ],
      "metadata": {
        "colab": {
          "base_uri": "https://localhost:8080/"
        },
        "id": "ZyHZulT9ZDUK",
        "outputId": "12974ab1-1a23-4baf-d244-1efdf5985185"
      },
      "execution_count": 52,
      "outputs": [
        {
          "output_type": "execute_result",
          "data": {
            "text/plain": [
              "8"
            ]
          },
          "metadata": {},
          "execution_count": 52
        }
      ]
    },
    {
      "cell_type": "code",
      "source": [
        "\"this is a random string\".find(\"DOES NOT EXIST\")\n",
        "# -1 means this substring does not exist within the string"
      ],
      "metadata": {
        "colab": {
          "base_uri": "https://localhost:8080/"
        },
        "id": "8JTIZygjZDOH",
        "outputId": "3aab3bcf-84a2-4e00-9ba1-149c3fe60219"
      },
      "execution_count": 53,
      "outputs": [
        {
          "output_type": "execute_result",
          "data": {
            "text/plain": [
              "-1"
            ]
          },
          "metadata": {},
          "execution_count": 53
        }
      ]
    },
    {
      "cell_type": "code",
      "source": [
        "\"this is a random string randomest!\".find(\"is\")"
      ],
      "metadata": {
        "colab": {
          "base_uri": "https://localhost:8080/"
        },
        "id": "s2mx6jWmZDIJ",
        "outputId": "6e1e5fdd-89b3-4a66-faaf-78c006a81fb8"
      },
      "execution_count": 54,
      "outputs": [
        {
          "output_type": "execute_result",
          "data": {
            "text/plain": [
              "2"
            ]
          },
          "metadata": {},
          "execution_count": 54
        }
      ]
    },
    {
      "cell_type": "code",
      "source": [
        "# replace\n",
        "a = \"this is a string random with random very much random!\""
      ],
      "metadata": {
        "id": "OmJYZfRIZDC-"
      },
      "execution_count": 55,
      "outputs": []
    },
    {
      "cell_type": "code",
      "source": [
        "a_replaced = a.replace(\"random\", \"SUPER RANDOM\")\n",
        "a_replaced"
      ],
      "metadata": {
        "colab": {
          "base_uri": "https://localhost:8080/",
          "height": 35
        },
        "id": "VTats2BgZC-h",
        "outputId": "4c73ca13-03a5-4fd2-e289-e3e70c474373"
      },
      "execution_count": 57,
      "outputs": [
        {
          "output_type": "execute_result",
          "data": {
            "text/plain": [
              "'this is a string SUPER RANDOM with SUPER RANDOM very much SUPER RANDOM!'"
            ],
            "application/vnd.google.colaboratory.intrinsic+json": {
              "type": "string"
            }
          },
          "metadata": {},
          "execution_count": 57
        }
      ]
    },
    {
      "cell_type": "code",
      "source": [
        "a_replaced = a.replace(\" \", \",\")\n",
        "a_replaced"
      ],
      "metadata": {
        "colab": {
          "base_uri": "https://localhost:8080/",
          "height": 35
        },
        "id": "_KXKsY2fZC5r",
        "outputId": "da03bf5e-bc14-48f8-e0e2-a2d2502d6439"
      },
      "execution_count": 58,
      "outputs": [
        {
          "output_type": "execute_result",
          "data": {
            "text/plain": [
              "'this,is,a,string,random,with,random,very,much,random!'"
            ],
            "application/vnd.google.colaboratory.intrinsic+json": {
              "type": "string"
            }
          },
          "metadata": {},
          "execution_count": 58
        }
      ]
    },
    {
      "cell_type": "code",
      "source": [
        "'''\n",
        "1. Take a string as input.\n",
        "2. Convert that string to lower case without using any internal function.\n",
        "\n",
        "Note - You can use chr and ord :)\n",
        "\"A\" (65) -> \"a\" (97) difference of 32\n",
        "'''"
      ],
      "metadata": {
        "id": "u_1BUxwCZzan"
      },
      "execution_count": null,
      "outputs": []
    },
    {
      "cell_type": "code",
      "source": [
        "def custom_lower(a):\n",
        "    result = \"\"\n",
        "\n",
        "    for i in a:\n",
        "        order = ord(i)\n",
        "        order += 32\n",
        "        result += chr(order)\n",
        "\n",
        "    return result\n",
        "\n",
        "\n",
        "custom_lower(\"This iS a STriNG\")"
      ],
      "metadata": {
        "id": "H4qnOxc4ZzRY"
      },
      "execution_count": null,
      "outputs": []
    },
    {
      "cell_type": "code",
      "source": [
        "# MEMBERSHIP OPERATOR"
      ],
      "metadata": {
        "id": "DVLK6q3AasQi"
      },
      "execution_count": null,
      "outputs": []
    },
    {
      "cell_type": "code",
      "source": [
        "5 in range(4,8) # this can also work to check for a number in a range"
      ],
      "metadata": {
        "colab": {
          "base_uri": "https://localhost:8080/"
        },
        "id": "L6_p-RsPZzKt",
        "outputId": "64be12d7-975b-4203-9e3c-4cd3d2866007"
      },
      "execution_count": 59,
      "outputs": [
        {
          "output_type": "execute_result",
          "data": {
            "text/plain": [
              "True"
            ]
          },
          "metadata": {},
          "execution_count": 59
        }
      ]
    },
    {
      "cell_type": "code",
      "source": [
        "5 in [4,5,6,7]"
      ],
      "metadata": {
        "colab": {
          "base_uri": "https://localhost:8080/"
        },
        "id": "X7Ju2Q7dZzFU",
        "outputId": "39ded740-6875-4022-dccc-9c795663505b"
      },
      "execution_count": 60,
      "outputs": [
        {
          "output_type": "execute_result",
          "data": {
            "text/plain": [
              "True"
            ]
          },
          "metadata": {},
          "execution_count": 60
        }
      ]
    },
    {
      "cell_type": "code",
      "source": [
        "\"amazing\" in \"youallareamazing!\""
      ],
      "metadata": {
        "colab": {
          "base_uri": "https://localhost:8080/"
        },
        "id": "g-zAPVI6ZzAy",
        "outputId": "a9579b35-2709-4176-bd09-62491d2746fd"
      },
      "execution_count": 61,
      "outputs": [
        {
          "output_type": "execute_result",
          "data": {
            "text/plain": [
              "True"
            ]
          },
          "metadata": {},
          "execution_count": 61
        }
      ]
    },
    {
      "cell_type": "code",
      "source": [
        "# SOME MORE INTERESTING FUNCTIONS"
      ],
      "metadata": {
        "id": "iupdAwQuZy8K"
      },
      "execution_count": null,
      "outputs": []
    },
    {
      "cell_type": "code",
      "source": [
        "\"6\".isdigit() # true if digit otherwise false"
      ],
      "metadata": {
        "colab": {
          "base_uri": "https://localhost:8080/"
        },
        "id": "ah5gXVMAZy25",
        "outputId": "d5d97d67-dff6-44e6-a049-3b559f4879c8"
      },
      "execution_count": 62,
      "outputs": [
        {
          "output_type": "execute_result",
          "data": {
            "text/plain": [
              "True"
            ]
          },
          "metadata": {},
          "execution_count": 62
        }
      ]
    },
    {
      "cell_type": "code",
      "source": [
        "\"45.67\".isdigit()"
      ],
      "metadata": {
        "colab": {
          "base_uri": "https://localhost:8080/"
        },
        "id": "so88d2guZyya",
        "outputId": "55a2b126-0cec-42f1-84ce-c26dcc1c956b"
      },
      "execution_count": 63,
      "outputs": [
        {
          "output_type": "execute_result",
          "data": {
            "text/plain": [
              "False"
            ]
          },
          "metadata": {},
          "execution_count": 63
        }
      ]
    },
    {
      "cell_type": "code",
      "source": [
        "\"a\".isalpha() # true if all alphabets else false"
      ],
      "metadata": {
        "colab": {
          "base_uri": "https://localhost:8080/"
        },
        "id": "wUAS4OPEbBIA",
        "outputId": "277a1722-2b03-4ba3-904e-059bd36781b0"
      },
      "execution_count": 65,
      "outputs": [
        {
          "output_type": "execute_result",
          "data": {
            "text/plain": [
              "True"
            ]
          },
          "metadata": {},
          "execution_count": 65
        }
      ]
    },
    {
      "cell_type": "code",
      "source": [
        "\"a3\".isalpha()"
      ],
      "metadata": {
        "colab": {
          "base_uri": "https://localhost:8080/"
        },
        "id": "jEvwocykbBBe",
        "outputId": "ace5255d-8167-44fa-a6ac-6d6fefb0ed06"
      },
      "execution_count": 66,
      "outputs": [
        {
          "output_type": "execute_result",
          "data": {
            "text/plain": [
              "False"
            ]
          },
          "metadata": {},
          "execution_count": 66
        }
      ]
    },
    {
      "cell_type": "code",
      "source": [
        "\" \".isspace()"
      ],
      "metadata": {
        "colab": {
          "base_uri": "https://localhost:8080/"
        },
        "id": "rKj-IVa-bA8g",
        "outputId": "a3f12b38-a7ef-463e-e389-47c35e85fc3d"
      },
      "execution_count": 67,
      "outputs": [
        {
          "output_type": "execute_result",
          "data": {
            "text/plain": [
              "True"
            ]
          },
          "metadata": {},
          "execution_count": 67
        }
      ]
    },
    {
      "cell_type": "code",
      "source": [
        "# Escape Characters"
      ],
      "metadata": {
        "id": "KYpaKWmZbA3W"
      },
      "execution_count": null,
      "outputs": []
    },
    {
      "cell_type": "code",
      "source": [
        "a = \"abc is a \\\"random person\\\" inside double quotes\"\n",
        "a"
      ],
      "metadata": {
        "colab": {
          "base_uri": "https://localhost:8080/",
          "height": 35
        },
        "id": "GsqNkUbrbAyT",
        "outputId": "a5d7d634-ca53-4792-d880-d0f8b9ef7d44"
      },
      "execution_count": 68,
      "outputs": [
        {
          "output_type": "execute_result",
          "data": {
            "text/plain": [
              "'abc is a \"random person\" inside double quotes'"
            ],
            "application/vnd.google.colaboratory.intrinsic+json": {
              "type": "string"
            }
          },
          "metadata": {},
          "execution_count": 68
        }
      ]
    },
    {
      "cell_type": "code",
      "source": [
        "# replace character at index 5 with \"x\""
      ],
      "metadata": {
        "id": "xVgxWuA4bArC"
      },
      "execution_count": null,
      "outputs": []
    },
    {
      "cell_type": "code",
      "source": [
        "a = \"stringrandom\"\n",
        "result = a[:5]+\"x\"+a[6:]"
      ],
      "metadata": {
        "id": "BQ6Yy9x6bAlk"
      },
      "execution_count": 70,
      "outputs": []
    },
    {
      "cell_type": "code",
      "source": [
        "result"
      ],
      "metadata": {
        "colab": {
          "base_uri": "https://localhost:8080/",
          "height": 35
        },
        "id": "wHN32nOTbAfz",
        "outputId": "7b19d472-aae1-4d15-b846-667ae3388083"
      },
      "execution_count": 71,
      "outputs": [
        {
          "output_type": "execute_result",
          "data": {
            "text/plain": [
              "'strinxrandom'"
            ],
            "application/vnd.google.colaboratory.intrinsic+json": {
              "type": "string"
            }
          },
          "metadata": {},
          "execution_count": 71
        }
      ]
    },
    {
      "cell_type": "code",
      "source": [],
      "metadata": {
        "id": "MDSxWmkSbAYB"
      },
      "execution_count": null,
      "outputs": []
    },
    {
      "cell_type": "code",
      "source": [],
      "metadata": {
        "id": "asXPVr97Zyta"
      },
      "execution_count": null,
      "outputs": []
    }
  ]
}