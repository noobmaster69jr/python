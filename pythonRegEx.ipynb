{
  "nbformat": 4,
  "nbformat_minor": 0,
  "metadata": {
    "colab": {
      "provenance": []
    },
    "kernelspec": {
      "name": "python3",
      "display_name": "Python 3"
    },
    "language_info": {
      "name": "python"
    }
  },
  "cells": [
    {
      "cell_type": "code",
      "execution_count": 2,
      "metadata": {
        "colab": {
          "base_uri": "https://localhost:8080/"
        },
        "id": "gadapEuLt6C_",
        "outputId": "cac293fc-92e7-4033-d5b4-d680b292a662"
      },
      "outputs": [
        {
          "output_type": "stream",
          "name": "stdout",
          "text": [
            "Downloading...\n",
            "From: https://drive.google.com/uc?id=1sSDV5UspYZL3UUOGuiuxppSGcv1wS9ex\n",
            "To: /content/data.txt\n",
            "\r  0% 0.00/9.33k [00:00<?, ?B/s]\r100% 9.33k/9.33k [00:00<00:00, 32.5MB/s]\n"
          ]
        }
      ],
      "source": [
        "!gdown 1sSDV5UspYZL3UUOGuiuxppSGcv1wS9ex"
      ]
    },
    {
      "cell_type": "code",
      "source": [
        "data = open(\"data.txt\", 'r').read()"
      ],
      "metadata": {
        "id": "8lNZk7BeuBLb"
      },
      "execution_count": 3,
      "outputs": []
    },
    {
      "cell_type": "code",
      "source": [
        "len(data)"
      ],
      "metadata": {
        "colab": {
          "base_uri": "https://localhost:8080/"
        },
        "id": "ZddPQvpvaJ5a",
        "outputId": "829bd0a6-19af-49b4-ad4a-9418aa7c0b9a"
      },
      "execution_count": 5,
      "outputs": [
        {
          "output_type": "execute_result",
          "data": {
            "text/plain": [
              "8822"
            ]
          },
          "metadata": {},
          "execution_count": 5
        }
      ]
    },
    {
      "cell_type": "code",
      "source": [
        "print(data[:500])"
      ],
      "metadata": {
        "colab": {
          "base_uri": "https://localhost:8080/"
        },
        "id": "rbuXW8WquBPn",
        "outputId": "9a86522a-c592-47aa-ad7e-09ba66580745"
      },
      "execution_count": null,
      "outputs": [
        {
          "output_type": "stream",
          "name": "stdout",
          "text": [
            "Dave Martin\n",
            "615-555-7164\n",
            "173 Main St., Springfield RI 55924\n",
            "davemartin@bogusemail.com\n",
            "\n",
            "Charles Harris\n",
            "800-555-5669\n",
            "969 High St., Atlantis VA 34075\n",
            "charlesharris@bogusemail.com\n",
            "\n",
            "Eric Williams\n",
            "560-555-5153\n",
            "806 1st St., Faketown AK 86847\n",
            "laurawilliams@bogusemail.com\n",
            "\n",
            "Corey Jefferson\n",
            "900-555-9340\n",
            "826 Elm St., Epicburg NE 10671\n",
            "coreyjefferson@bogusemail.com\n",
            "\n",
            "Jennifer Martin-White\n",
            "714-555-7405\n",
            "212 Cedar St., Sunnydale CT 74983\n",
            "jenniferwhite@bogusemail.com\n",
            "\n",
            "Erick Davis\n",
            "800-555-6771\n",
            "519 Washington St., \n"
          ]
        }
      ]
    },
    {
      "cell_type": "code",
      "source": [
        "# masking email\n",
        "\n",
        "def mask_email(s):\n",
        "  if \"@\" in s:\n",
        "    name, domain = s.split(\"@\")\n",
        "    return f\"{name[0]}#######{name[-1]}@{domain}\""
      ],
      "metadata": {
        "id": "XfNTCU92uBU_"
      },
      "execution_count": null,
      "outputs": []
    },
    {
      "cell_type": "code",
      "source": [
        "# masking email\n",
        "\n",
        "def mask_email(s):\n",
        "  if '@' in s:\n",
        "    name, domain = s.split('@')\n",
        "    return f\"{name[0]}#######{name[-1]}@{domain}\"\n",
        "\n",
        "mask_email('brassh22@gmail.com')"
      ],
      "metadata": {
        "colab": {
          "base_uri": "https://localhost:8080/",
          "height": 35
        },
        "id": "VK-wYiH1uBZV",
        "outputId": "a4defc05-5df4-44e7-85cc-b0c1f1d8cbba"
      },
      "execution_count": 6,
      "outputs": [
        {
          "output_type": "execute_result",
          "data": {
            "text/plain": [
              "'b#######2@gmail.com'"
            ],
            "application/vnd.google.colaboratory.intrinsic+json": {
              "type": "string"
            }
          },
          "metadata": {},
          "execution_count": 6
        }
      ]
    },
    {
      "cell_type": "code",
      "source": [
        "mask_email(\"ashs.gmail.com\")"
      ],
      "metadata": {
        "id": "1VhZ15o6uBde"
      },
      "execution_count": 7,
      "outputs": []
    },
    {
      "cell_type": "code",
      "source": [
        "import re"
      ],
      "metadata": {
        "id": "IpaZZVLZuBg6"
      },
      "execution_count": 8,
      "outputs": []
    },
    {
      "cell_type": "code",
      "source": [
        "def is_vemail(s):\n",
        "  email_pattern = \"^\\w+([\\.-]?\\w+)*@\\w+([\\.-]?\\w+)*(\\.\\w{2,3})+$\"\n",
        "  res = re.search(email_pattern, s)\n",
        "  if res:\n",
        "    return True\n",
        "  return False\n",
        "\n",
        "\n",
        "is_vemail(\"srashween22.gmail.com\")"
      ],
      "metadata": {
        "colab": {
          "base_uri": "https://localhost:8080/"
        },
        "id": "ixXls9clbEZB",
        "outputId": "96cb69f9-68ee-477e-9764-e242eed7222a"
      },
      "execution_count": 11,
      "outputs": [
        {
          "output_type": "execute_result",
          "data": {
            "text/plain": [
              "False"
            ]
          },
          "metadata": {},
          "execution_count": 11
        }
      ]
    },
    {
      "cell_type": "markdown",
      "source": [],
      "metadata": {
        "id": "WVu4KfeSccQx"
      }
    },
    {
      "cell_type": "markdown",
      "source": [
        "```\n",
        "# Character classes\n",
        ".       - Any Character Except New Line\n",
        "\\d      - Digit (0-9)\n",
        "\\D      - Not a Digit (0-9)\n",
        "\\w      - Word Character (a-z, A-Z, 0-9, _)\n",
        "\\W      - Not a Word Character\n",
        "\\s      - Whitespace (space, tab, newline)\n",
        "\\S      - Not Whitespace (space, tab, newline)\n",
        "\n",
        "# Assertions\n",
        "\\b      - Word Boundary\n",
        "\\B      - Not a Word Boundary\n",
        "^       - Beginning of a String\n",
        "$       - End of a String\n",
        "\n",
        "# Anchors\n",
        "[]      - Matches Characters in brackets\n",
        "[^ ]    - Matches Characters NOT in brackets\n",
        "|       - Either Or\n",
        "( )     - Group\n",
        "\n",
        "\n",
        "# Quantifiers\n",
        "*       - 0 or More\n",
        "+       - 1 or More\n",
        "?       - 0 or One\n",
        "{3}     - Exact Number\n",
        "{3,4}   - Range of Numbers (Minimum, Maximum)\n",
        "```"
      ],
      "metadata": {
        "id": "9GRhzb8goVjq"
      }
    },
    {
      "cell_type": "code",
      "source": [
        "def is_vemail(s):\n",
        "  email_pattern = \"^\\w+([\\.-]?\\w+)*@\\w+([\\.-]?\\w+)*(\\.\\w{2,3})+$\" # not readable\n",
        "  res = re.search(email_pattern, s)\n",
        "  if res:\n",
        "    return True\n",
        "  else:\n",
        "    return False"
      ],
      "metadata": {
        "id": "sPaeydQTbEU9"
      },
      "execution_count": null,
      "outputs": []
    },
    {
      "cell_type": "code",
      "source": [
        "regex_verbose = re.compile(r\"\"\"           # VERY readable and easy to understand. Software maintanability.\n",
        "            ^\\w+([\\.-]?\\w+)*              # start, \\w+,\n",
        "            @                             # single @ sign\n",
        "            \\w+([\\.-]?\\w+)*               # Domain name\n",
        "            (\\.\\w{2,3})+$                 # .com, .ac.in,\n",
        "             \"\"\",re.VERBOSE | re.IGNORECASE)   # no need to worry about these flags for now\n",
        "\n",
        "res = regex_verbose.match(\"abcd@iisc.ac.in\"); # no need to worry about the Python functions for now\n",
        "print(res.string)\n",
        "print(res)"
      ],
      "metadata": {
        "id": "Q5SueV1dbEQr"
      },
      "execution_count": null,
      "outputs": []
    },
    {
      "cell_type": "markdown",
      "source": [
        "The re. compile function creates a regular expression object by compiling a regular expression pattern, which can be used as a matching pattern in the re. match, re.search, etc. functions."
      ],
      "metadata": {
        "id": "hKk7kDeiflvw"
      }
    },
    {
      "cell_type": "markdown",
      "source": [
        "re.VERBOSE : This flag allows you to write regular expressions that look nicer and are more readable by allowing you to visually separate logical sections of the pattern and add comments."
      ],
      "metadata": {
        "id": "m7ODL9iTflaa"
      }
    },
    {
      "cell_type": "markdown",
      "source": [
        "re.IGNORECASE : This flag allows for case-insensitive matching of the Regular Expression with the given string i.e. expressions like [A-Z] will match lowercase letters, too. Generally, It’s passed as an optional argument to re.compile()."
      ],
      "metadata": {
        "id": "ZYcxl9ZYgLYN"
      }
    },
    {
      "cell_type": "markdown",
      "source": [],
      "metadata": {
        "id": "boPt7kTbgVlK"
      }
    },
    {
      "cell_type": "markdown",
      "source": [
        "1. match : Checks for a match only at the beginning of the string\n",
        "2. search : Locates the pattern in the string\n",
        "3. findall : Find all occurence of the string\n",
        "4. finditer: Return an iterator yielding match objects over all non-overlapping matches"
      ],
      "metadata": {
        "id": "rekhH78UkR5v"
      }
    },
    {
      "cell_type": "code",
      "source": [
        "data[:500]"
      ],
      "metadata": {
        "colab": {
          "base_uri": "https://localhost:8080/",
          "height": 87
        },
        "id": "w8DtI9fwbEMt",
        "outputId": "3cdc6f43-915d-4070-96db-035f80e260c5"
      },
      "execution_count": 12,
      "outputs": [
        {
          "output_type": "execute_result",
          "data": {
            "text/plain": [
              "'Dave Martin\\n615-555-7164\\n173 Main St., Springfield RI 55924\\ndavemartin@bogusemail.com\\n\\nCharles Harris\\n800-555-5669\\n969 High St., Atlantis VA 34075\\ncharlesharris@bogusemail.com\\n\\nEric Williams\\n560-555-5153\\n806 1st St., Faketown AK 86847\\nlaurawilliams@bogusemail.com\\n\\nCorey Jefferson\\n900-555-9340\\n826 Elm St., Epicburg NE 10671\\ncoreyjefferson@bogusemail.com\\n\\nJennifer Martin-White\\n714-555-7405\\n212 Cedar St., Sunnydale CT 74983\\njenniferwhite@bogusemail.com\\n\\nErick Davis\\n800-555-6771\\n519 Washington St., '"
            ],
            "application/vnd.google.colaboratory.intrinsic+json": {
              "type": "string"
            }
          },
          "metadata": {},
          "execution_count": 12
        }
      ]
    },
    {
      "cell_type": "code",
      "source": [
        "pattern =\"\\d{3}-\\d{3}-\\d{4}\"\n",
        "print(re.search(pattern, data))"
      ],
      "metadata": {
        "colab": {
          "base_uri": "https://localhost:8080/"
        },
        "id": "uI_W8cksgY4N",
        "outputId": "5bc447b3-f82c-4754-f88c-ddf06d6542ad"
      },
      "execution_count": 17,
      "outputs": [
        {
          "output_type": "stream",
          "name": "stdout",
          "text": [
            "None\n"
          ]
        }
      ]
    },
    {
      "cell_type": "code",
      "source": [
        "pattern =\"\\d{3}-\\d{3}-\\d{4}\"\n",
        "print(re.search(pattern, data))"
      ],
      "metadata": {
        "colab": {
          "base_uri": "https://localhost:8080/"
        },
        "id": "gm1_HUYdgY0O",
        "outputId": "d3abb5d3-07d6-4721-910f-99e027cd8e58"
      },
      "execution_count": 21,
      "outputs": [
        {
          "output_type": "stream",
          "name": "stdout",
          "text": [
            "<re.Match object; span=(12, 24), match='615-555-7164'>\n"
          ]
        }
      ]
    },
    {
      "cell_type": "code",
      "source": [
        "# extrat phone numbers\n",
        "pattern = \"\\d{3}-\\d{3}-\\d{4}\"\n",
        "print(re.findall(pattern, data))"
      ],
      "metadata": {
        "colab": {
          "base_uri": "https://localhost:8080/"
        },
        "id": "IMlo-REnhb0z",
        "outputId": "e53ddce2-0b25-4d0c-e23e-ae1c21284317"
      },
      "execution_count": 23,
      "outputs": [
        {
          "output_type": "stream",
          "name": "stdout",
          "text": [
            "['615-555-7164', '800-555-5669', '560-555-5153', '900-555-9340', '714-555-7405', '800-555-6771', '783-555-4799', '516-555-4615', '127-555-1867', '608-555-4938', '568-555-6051', '292-555-1875', '900-555-3205', '614-555-1166', '530-555-2676', '470-555-2750', '800-555-6089', '880-555-8319', '777-555-8378', '998-555-7385', '800-555-7100', '903-555-8277', '196-555-5674', '900-555-5118', '905-555-1630', '203-555-3475', '884-555-8444', '904-555-8559', '889-555-7393', '195-555-2405', '321-555-9053', '133-555-1711', '900-555-5428', '760-555-7147', '391-555-6621', '932-555-7724', '609-555-7908', '800-555-8810', '149-555-7657', '130-555-9709', '143-555-9295', '903-555-9878', '574-555-3194', '496-555-7533', '210-555-3757', '900-555-9598', '866-555-9844', '669-555-7159', '152-555-7417', '893-555-9832', '217-555-7123', '786-555-6544', '780-555-2574', '926-555-8735', '895-555-3539', '874-555-3949', '800-555-2420', '936-555-6340', '372-555-9809', '890-555-5618', '670-555-3005', '509-555-5997', '721-555-5632', '900-555-3567', '147-555-6830', '582-555-3426', '400-555-1706', '525-555-1793', '317-555-6700', '974-555-8301', '800-555-3216', '746-555-4094', '922-555-1773', '711-555-4427', '355-555-1872', '852-555-6521', '691-555-5773', '332-555-5441', '900-555-7755', '379-555-3685', '127-555-9682', '789-555-7032', '783-555-5135', '315-555-6507', '481-555-5835', '365-555-8287', '911-555-7535', '681-555-2460', '274-555-9800', '800-555-1372', '300-555-7821', '133-555-3889', '705-555-6863', '215-555-9449', '988-555-6112', '623-555-3006', '192-555-4977', '178-555-4899', '952-555-3089', '900-555-6426']\n"
          ]
        }
      ]
    },
    {
      "cell_type": "code",
      "source": [
        "# extrat phone numbers\n",
        "pattern = \"\\d{3}-\\d{3}-\\d{4}\"\n",
        "nums = re.finditer(pattern, data)\n",
        "\n",
        "for i, num in enumerate(nums):\n",
        "  print(num)\n",
        "  if i == 5:\n",
        "    break;\n"
      ],
      "metadata": {
        "colab": {
          "base_uri": "https://localhost:8080/"
        },
        "id": "AGWE7b2lh4FA",
        "outputId": "a4e630a8-23c8-481e-b371-3f554cd06517"
      },
      "execution_count": 25,
      "outputs": [
        {
          "output_type": "stream",
          "name": "stdout",
          "text": [
            "<re.Match object; span=(12, 24), match='615-555-7164'>\n",
            "<re.Match object; span=(102, 114), match='800-555-5669'>\n",
            "<re.Match object; span=(191, 203), match='560-555-5153'>\n",
            "<re.Match object; span=(281, 293), match='900-555-9340'>\n",
            "<re.Match object; span=(378, 390), match='714-555-7405'>\n",
            "<re.Match object; span=(467, 479), match='800-555-6771'>\n"
          ]
        }
      ]
    },
    {
      "cell_type": "code",
      "source": [
        "# extract phone numbers\n",
        "pattern =\"\\d{3}-\\d{3}-\\d{4}\"\n",
        "nums = re.finditer(pattern, data)\n",
        "for i, num in enumerate(nums):\n",
        "  print(num.start(), num.end(), num.group())\n",
        "  if i == 5:\n",
        "    break"
      ],
      "metadata": {
        "colab": {
          "base_uri": "https://localhost:8080/"
        },
        "id": "94nr9QxYicGW",
        "outputId": "eebad14c-2ba8-49fa-caee-470898fdfa6d"
      },
      "execution_count": 26,
      "outputs": [
        {
          "output_type": "stream",
          "name": "stdout",
          "text": [
            "12 24 615-555-7164\n",
            "102 114 800-555-5669\n",
            "191 203 560-555-5153\n",
            "281 293 900-555-9340\n",
            "378 390 714-555-7405\n",
            "467 479 800-555-6771\n"
          ]
        }
      ]
    },
    {
      "cell_type": "code",
      "source": [
        "# extract emails\n",
        "pattern = \"\\w+@\\w+.\\w{2,3}\"\n",
        "emails = re.finditer(pattern, data)\n",
        "for i, email in enumerate(emails):\n",
        "  print(email.start(), email.end(), email.group())\n",
        "  if i == 5:\n",
        "    break"
      ],
      "metadata": {
        "colab": {
          "base_uri": "https://localhost:8080/"
        },
        "id": "BDbbfsmEihYF",
        "outputId": "3edc75e5-153b-4b5c-aa91-958b733bd417"
      },
      "execution_count": 33,
      "outputs": [
        {
          "output_type": "stream",
          "name": "stdout",
          "text": [
            "60 85 davemartin@bogusemail.com\n",
            "147 175 charlesharris@bogusemail.com\n",
            "235 263 laurawilliams@bogusemail.com\n",
            "325 354 coreyjefferson@bogusemail.com\n",
            "425 453 jenniferwhite@bogusemail.com\n",
            "517 540 tomdavis@bogusemail.com\n"
          ]
        }
      ]
    },
    {
      "cell_type": "code",
      "source": [
        "pattern = '\\w+([\\.-]?\\w+)*@\\w+([\\.-]?\\w+)*(\\.\\w{2,3})+'\n",
        "emails = re.finditer(pattern, data)\n",
        "for i, email in enumerate(emails):\n",
        "  print(email.start(), email.end(), email.group())\n",
        "  if i == 5:\n",
        "    break"
      ],
      "metadata": {
        "colab": {
          "base_uri": "https://localhost:8080/"
        },
        "id": "CC0miUVginji",
        "outputId": "30b383c1-cdad-4ce6-e1ce-ea3ea87da77a"
      },
      "execution_count": 34,
      "outputs": [
        {
          "output_type": "stream",
          "name": "stdout",
          "text": [
            "60 85 davemartin@bogusemail.com\n",
            "147 175 charlesharris@bogusemail.com\n",
            "235 263 laurawilliams@bogusemail.com\n",
            "325 354 coreyjefferson@bogusemail.com\n",
            "425 453 jenniferwhite@bogusemail.com\n",
            "517 540 tomdavis@bogusemail.com\n"
          ]
        }
      ]
    },
    {
      "cell_type": "code",
      "source": [
        "# Extract Names"
      ],
      "metadata": {
        "id": "Fou7wvaUinfB"
      },
      "execution_count": null,
      "outputs": []
    },
    {
      "cell_type": "code",
      "source": [
        "pattern = \"[A-Z][a-z]*\\s[A-Z][a-z]{2}\"\n",
        "names = re.finditer(pattern,data)\n",
        "for i, name in enumerate(names):\n",
        "  print(name)\n",
        "  if i == 5:\n",
        "    break"
      ],
      "metadata": {
        "colab": {
          "base_uri": "https://localhost:8080/"
        },
        "id": "KnioqIJeinax",
        "outputId": "426fd204-a6e4-4f16-a47e-60a568b4f58c"
      },
      "execution_count": 37,
      "outputs": [
        {
          "output_type": "stream",
          "name": "stdout",
          "text": [
            "<re.Match object; span=(0, 8), match='Dave Mar'>\n",
            "<re.Match object; span=(87, 98), match='Charles Har'>\n",
            "<re.Match object; span=(177, 185), match='Eric Wil'>\n",
            "<re.Match object; span=(265, 274), match='Corey Jef'>\n",
            "<re.Match object; span=(356, 368), match='Jennifer Mar'>\n",
            "<re.Match object; span=(455, 464), match='Erick Dav'>\n"
          ]
        }
      ]
    },
    {
      "cell_type": "code",
      "source": [
        "regex_verbose = re.compile(r\"\"\"           # VERY readable and easy to understand. Software maintanability.\n",
        "            ^\\w+([\\.-]?\\w+)*              # start, \\w+,\n",
        "            @                             # single @ sign\n",
        "            \\w+([\\.-]?\\w+)*               # Domain name\n",
        "            (\\.\\w{2,3})+$                 # .com, .ac.in,\n",
        "             \"\"\",re.VERBOSE | re.IGNORECASE)\n",
        "res = regex_verbose.match(\"abcd@iisc.ac.in\");\n",
        "print(res.string)\n",
        "print(res)"
      ],
      "metadata": {
        "colab": {
          "base_uri": "https://localhost:8080/"
        },
        "id": "xvcJan6jjM2r",
        "outputId": "ab96fa12-c59d-411c-827b-d0436809e013"
      },
      "execution_count": 39,
      "outputs": [
        {
          "output_type": "stream",
          "name": "stdout",
          "text": [
            "abcd@iisc.ac.in\n",
            "<re.Match object; span=(0, 15), match='abcd@iisc.ac.in'>\n"
          ]
        }
      ]
    },
    {
      "cell_type": "code",
      "source": [
        "re.search(\"a+\", \"aaaAAA\")"
      ],
      "metadata": {
        "colab": {
          "base_uri": "https://localhost:8080/"
        },
        "id": "riZh8jPAjMye",
        "outputId": "157a3ac7-eb24-422b-ba6c-2ec6da061742"
      },
      "execution_count": 40,
      "outputs": [
        {
          "output_type": "execute_result",
          "data": {
            "text/plain": [
              "<re.Match object; span=(0, 3), match='aaa'>"
            ]
          },
          "metadata": {},
          "execution_count": 40
        }
      ]
    },
    {
      "cell_type": "code",
      "source": [
        "re.search(\"A+\", \"aaaAAA\")"
      ],
      "metadata": {
        "colab": {
          "base_uri": "https://localhost:8080/"
        },
        "id": "CqQXa5rxjMuV",
        "outputId": "0c4246e5-e3a3-4042-f812-eab0e2af77e9"
      },
      "execution_count": 41,
      "outputs": [
        {
          "output_type": "execute_result",
          "data": {
            "text/plain": [
              "<re.Match object; span=(3, 6), match='AAA'>"
            ]
          },
          "metadata": {},
          "execution_count": 41
        }
      ]
    },
    {
      "cell_type": "code",
      "source": [
        "re.search(\"[aA]+\", \"aaaAAA\")"
      ],
      "metadata": {
        "colab": {
          "base_uri": "https://localhost:8080/"
        },
        "id": "LdvWUrYljMpy",
        "outputId": "13e176c1-9a72-4a10-f262-3b626a7655a2"
      },
      "execution_count": 42,
      "outputs": [
        {
          "output_type": "execute_result",
          "data": {
            "text/plain": [
              "<re.Match object; span=(0, 6), match='aaaAAA'>"
            ]
          },
          "metadata": {},
          "execution_count": 42
        }
      ]
    },
    {
      "cell_type": "code",
      "source": [
        "re.search(\"[a]+\", \"aaaAAA\", re.IGNORECASE)"
      ],
      "metadata": {
        "colab": {
          "base_uri": "https://localhost:8080/"
        },
        "id": "exTFc2PKjLVH",
        "outputId": "da05a68f-c7e4-4759-b0d6-d32eaa1de4c7"
      },
      "execution_count": 44,
      "outputs": [
        {
          "output_type": "execute_result",
          "data": {
            "text/plain": [
              "<re.Match object; span=(0, 6), match='aaaAAA'>"
            ]
          },
          "metadata": {},
          "execution_count": 44
        }
      ]
    },
    {
      "cell_type": "code",
      "source": [
        "re.search(\"a+\", \"aaaAAA\", re.I)"
      ],
      "metadata": {
        "colab": {
          "base_uri": "https://localhost:8080/"
        },
        "id": "SHFv57Zbkelf",
        "outputId": "4699380a-c224-4eea-91f1-4be09c1ae2a3"
      },
      "execution_count": 45,
      "outputs": [
        {
          "output_type": "execute_result",
          "data": {
            "text/plain": [
              "<re.Match object; span=(0, 6), match='aaaAAA'>"
            ]
          },
          "metadata": {},
          "execution_count": 45
        }
      ]
    },
    {
      "cell_type": "code",
      "source": [
        "# re.VERBOSE = re.X\n",
        "# re.ASCII"
      ],
      "metadata": {
        "id": "QSsf8BCFkeg1"
      },
      "execution_count": 46,
      "outputs": []
    },
    {
      "cell_type": "code",
      "source": [
        "target_str = \"Priya is an Instructor at Scaler and her salary is 100000\""
      ],
      "metadata": {
        "id": "KatqHIemkeai"
      },
      "execution_count": 47,
      "outputs": []
    },
    {
      "cell_type": "code",
      "source": [
        "pattern = \"^([A-Z]\\w{2,}).+(\\d{6,})$\"\n",
        "result = re.match(pattern, target_str)\n",
        "result"
      ],
      "metadata": {
        "colab": {
          "base_uri": "https://localhost:8080/"
        },
        "id": "eIaUYT0MkeT7",
        "outputId": "c478005b-316d-45b5-802b-7afb274f9d85"
      },
      "execution_count": 48,
      "outputs": [
        {
          "output_type": "execute_result",
          "data": {
            "text/plain": [
              "<re.Match object; span=(0, 57), match='Priya is an Instructor at Scaler and her salary i>"
            ]
          },
          "metadata": {},
          "execution_count": 48
        }
      ]
    },
    {
      "cell_type": "code",
      "source": [
        "result.start(), result.end(), result.group()"
      ],
      "metadata": {
        "colab": {
          "base_uri": "https://localhost:8080/"
        },
        "id": "79Cmnjr6lfAo",
        "outputId": "bfd53c27-e8d9-4b3e-f8a6-1c4ef81122f7"
      },
      "execution_count": 53,
      "outputs": [
        {
          "output_type": "execute_result",
          "data": {
            "text/plain": [
              "(0, 57, 'Priya is an Instructor at Scaler and her salary is 100000')"
            ]
          },
          "metadata": {},
          "execution_count": 53
        }
      ]
    },
    {
      "cell_type": "code",
      "source": [
        "result.group(1)"
      ],
      "metadata": {
        "colab": {
          "base_uri": "https://localhost:8080/",
          "height": 35
        },
        "id": "D97ymxjlkePG",
        "outputId": "34f7dc2f-8543-479e-eb71-35ba6d8db3ef"
      },
      "execution_count": 50,
      "outputs": [
        {
          "output_type": "execute_result",
          "data": {
            "text/plain": [
              "'Priya'"
            ],
            "application/vnd.google.colaboratory.intrinsic+json": {
              "type": "string"
            }
          },
          "metadata": {},
          "execution_count": 50
        }
      ]
    },
    {
      "cell_type": "code",
      "source": [
        "result.group(2)"
      ],
      "metadata": {
        "colab": {
          "base_uri": "https://localhost:8080/",
          "height": 35
        },
        "id": "UcsKkL0ilS-b",
        "outputId": "71f9c588-4ea7-4969-ed38-ed18643144bb"
      },
      "execution_count": 51,
      "outputs": [
        {
          "output_type": "execute_result",
          "data": {
            "text/plain": [
              "'100000'"
            ],
            "application/vnd.google.colaboratory.intrinsic+json": {
              "type": "string"
            }
          },
          "metadata": {},
          "execution_count": 51
        }
      ]
    },
    {
      "cell_type": "code",
      "source": [
        "pattern = r'(\\w+)@(\\w+)\\.(\\w{2,3})'\n",
        "emails = re.finditer(pattern, data)\n",
        "for i, email in enumerate(emails):\n",
        "  print(email.group(), email.group(1), email.group(2), email.group(3))\n",
        "  if i == 5: # printing first five\n",
        "    break"
      ],
      "metadata": {
        "colab": {
          "base_uri": "https://localhost:8080/"
        },
        "id": "u_AhTJp4luzP",
        "outputId": "9f1e6a0c-3ab9-4a1b-c324-da3bb6bc684f"
      },
      "execution_count": 54,
      "outputs": [
        {
          "output_type": "stream",
          "name": "stdout",
          "text": [
            "davemartin@bogusemail.com davemartin bogusemail com\n",
            "charlesharris@bogusemail.com charlesharris bogusemail com\n",
            "laurawilliams@bogusemail.com laurawilliams bogusemail com\n",
            "coreyjefferson@bogusemail.com coreyjefferson bogusemail com\n",
            "jenniferwhite@bogusemail.com jenniferwhite bogusemail com\n",
            "tomdavis@bogusemail.com tomdavis bogusemail com\n"
          ]
        }
      ]
    },
    {
      "cell_type": "code",
      "source": [
        "def mask_email(s):\n",
        "  if \"@\" in s:\n",
        "    name, domain = s.split(\"@\")\n",
        "    return f\"{name[0]}#######{name[-1]}@{domain}\"\n",
        "\n",
        "\n",
        "pattern = '\\w+@\\w+.[a-z]{3}'\n",
        "emails = re.findall(pattern,data)\n",
        "print(emails)"
      ],
      "metadata": {
        "colab": {
          "base_uri": "https://localhost:8080/"
        },
        "id": "5tHorvg9lu4u",
        "outputId": "862bada4-8611-4e33-f8a6-be8f6f74d69a"
      },
      "execution_count": 55,
      "outputs": [
        {
          "output_type": "stream",
          "name": "stdout",
          "text": [
            "['davemartin@bogusemail.com', 'charlesharris@bogusemail.com', 'laurawilliams@bogusemail.com', 'coreyjefferson@bogusemail.com', 'jenniferwhite@bogusemail.com', 'tomdavis@bogusemail.com', 'neilpatterson@bogusemail.com', 'laurajefferson@bogusemail.com', 'mariajohnson@bogusemail.com', 'michaelarnold@bogusemail.com', 'michaelsmith@bogusemail.com', 'robertstuart@bogusemail.com', 'lauramartin@bogusemail.com', 'barbaramartin@bogusemail.com', 'lindajackson@bogusemail.com', 'stevemiller@bogusemail.com', 'davearnold@bogusemail.com', 'jenniferjacobs@bogusemail.com', 'neilwilson@bogusemail.com', 'kurtjackson@bogusemail.com', 'maryjacobs@bogusemail.com', 'michaelwhite@bogusemail.com', 'jenniferjenkins@bogusemail.com', 'samwright@bogusemail.com', 'johndavis@bogusemail.com', 'neildavis@bogusemail.com', 'laurajackson@bogusemail.com', 'johnwilliams@bogusemail.com', 'michaelmartin@bogusemail.com', 'maggiebrown@bogusemail.com', 'kurtwilson@bogusemail.com', 'elizabetharnold@bogusemail.com', 'janemartin@bogusemail.com', 'travisjohnson@bogusemail.com', 'laurajefferson@bogusemail.com', 'tomwilliams@bogusemail.com', 'jennifertaylor@bogusemail.com', 'jenniferwright@bogusemail.com', 'stevedoe@bogusemail.com', 'kurtdavis@bogusemail.com', 'coreyharris@bogusemail.com', 'nicoletaylor@bogusemail.com', 'elizabethdavis@bogusemail.com', 'maggiejenkins@bogusemail.com', 'lindadavis@bogusemail.com', 'davemoore@bogusemail.com', 'lindajenkins@bogusemail.com', 'samwhite@bogusemail.com', 'laurarobinson@bogusemail.com', 'charlespatterson@bogusemail.com', 'joejackson@bogusemail.com', 'michaeljohnson@bogusemail.com', 'coreymiller@bogusemail.com', 'jamesmoore@bogusemail.com', 'jenniferstuart@bogusemail.com', 'charlesmartin@bogusemail.com', 'joewilks@bogusemail.com', 'elizabetharnold@bogusemail.com', 'johnmiller@bogusemail.com', 'coreyjackson@bogusemail.com', 'samthomas@bogusemail.com', 'patriciathomas@bogusemail.com', 'jenniferdavis@bogusemail.com', 'patriciabrown@bogusemail.com', 'barbarawilliams@bogusemail.com', 'jamestaylor@bogusemail.com', 'barbaraharris@bogusemail.com', 'travisanderson@bogusemail.com', 'samrobinson@bogusemail.com', 'steverobinson@bogusemail.com', 'marywilson@bogusemail.com', 'samwilson@bogusemail.com', 'charlesjones@bogusemail.com', 'laurabrown@bogusemail.com', 'tomharris@bogusemail.com', 'patriciataylor@bogusemail.com', 'barbarawilliams@bogusemail.com', 'maggiejohnson@bogusemail.com', 'kurtmiller@bogusemail.com', 'neilstuart@bogusemail.com', 'lindapatterson@bogusemail.com', 'charlesdavis@bogusemail.com', 'jenniferjefferson@bogusemail.com', 'coreytaylor@bogusemail.com', 'robertwilks@bogusemail.com', 'travisjackson@bogusemail.com', 'travisjackson@bogusemail.com', 'laurawilks@bogusemail.com', 'neilarnold@bogusemail.com', 'lindajohnson@bogusemail.com', 'jenniferwilson@bogusemail.com', 'nicolewhite@bogusemail.com', 'mariaarnold@bogusemail.com', 'jenniferdavis@bogusemail.com', 'marypatterson@bogusemail.com', 'janestuart@bogusemail.com', 'robertdavis@bogusemail.com', 'jamestaylor@bogusemail.com', 'johnstuart@bogusemail.com', 'charlesmiller@bogusemail.com']\n"
          ]
        }
      ]
    },
    {
      "cell_type": "code",
      "source": [
        "for email in emails:\n",
        "  print(mask_email(email))"
      ],
      "metadata": {
        "colab": {
          "base_uri": "https://localhost:8080/"
        },
        "id": "p-uzUcrBlu9w",
        "outputId": "e0c882c2-0c56-4786-a273-358fab48bee6"
      },
      "execution_count": 60,
      "outputs": [
        {
          "output_type": "stream",
          "name": "stdout",
          "text": [
            "d#######n@bogusemail.com\n",
            "c#######s@bogusemail.com\n",
            "l#######s@bogusemail.com\n",
            "c#######n@bogusemail.com\n",
            "j#######e@bogusemail.com\n",
            "t#######s@bogusemail.com\n",
            "n#######n@bogusemail.com\n",
            "l#######n@bogusemail.com\n",
            "m#######n@bogusemail.com\n",
            "m#######d@bogusemail.com\n",
            "m#######h@bogusemail.com\n",
            "r#######t@bogusemail.com\n",
            "l#######n@bogusemail.com\n",
            "b#######n@bogusemail.com\n",
            "l#######n@bogusemail.com\n",
            "s#######r@bogusemail.com\n",
            "d#######d@bogusemail.com\n",
            "j#######s@bogusemail.com\n",
            "n#######n@bogusemail.com\n",
            "k#######n@bogusemail.com\n",
            "m#######s@bogusemail.com\n",
            "m#######e@bogusemail.com\n",
            "j#######s@bogusemail.com\n",
            "s#######t@bogusemail.com\n",
            "j#######s@bogusemail.com\n",
            "n#######s@bogusemail.com\n",
            "l#######n@bogusemail.com\n",
            "j#######s@bogusemail.com\n",
            "m#######n@bogusemail.com\n",
            "m#######n@bogusemail.com\n",
            "k#######n@bogusemail.com\n",
            "e#######d@bogusemail.com\n",
            "j#######n@bogusemail.com\n",
            "t#######n@bogusemail.com\n",
            "l#######n@bogusemail.com\n",
            "t#######s@bogusemail.com\n",
            "j#######r@bogusemail.com\n",
            "j#######t@bogusemail.com\n",
            "s#######e@bogusemail.com\n",
            "k#######s@bogusemail.com\n",
            "c#######s@bogusemail.com\n",
            "n#######r@bogusemail.com\n",
            "e#######s@bogusemail.com\n",
            "m#######s@bogusemail.com\n",
            "l#######s@bogusemail.com\n",
            "d#######e@bogusemail.com\n",
            "l#######s@bogusemail.com\n",
            "s#######e@bogusemail.com\n",
            "l#######n@bogusemail.com\n",
            "c#######n@bogusemail.com\n",
            "j#######n@bogusemail.com\n",
            "m#######n@bogusemail.com\n",
            "c#######r@bogusemail.com\n",
            "j#######e@bogusemail.com\n",
            "j#######t@bogusemail.com\n",
            "c#######n@bogusemail.com\n",
            "j#######s@bogusemail.com\n",
            "e#######d@bogusemail.com\n",
            "j#######r@bogusemail.com\n",
            "c#######n@bogusemail.com\n",
            "s#######s@bogusemail.com\n",
            "p#######s@bogusemail.com\n",
            "j#######s@bogusemail.com\n",
            "p#######n@bogusemail.com\n",
            "b#######s@bogusemail.com\n",
            "j#######r@bogusemail.com\n",
            "b#######s@bogusemail.com\n",
            "t#######n@bogusemail.com\n",
            "s#######n@bogusemail.com\n",
            "s#######n@bogusemail.com\n",
            "m#######n@bogusemail.com\n",
            "s#######n@bogusemail.com\n",
            "c#######s@bogusemail.com\n",
            "l#######n@bogusemail.com\n",
            "t#######s@bogusemail.com\n",
            "p#######r@bogusemail.com\n",
            "b#######s@bogusemail.com\n",
            "m#######n@bogusemail.com\n",
            "k#######r@bogusemail.com\n",
            "n#######t@bogusemail.com\n",
            "l#######n@bogusemail.com\n",
            "c#######s@bogusemail.com\n",
            "j#######n@bogusemail.com\n",
            "c#######r@bogusemail.com\n",
            "r#######s@bogusemail.com\n",
            "t#######n@bogusemail.com\n",
            "t#######n@bogusemail.com\n",
            "l#######s@bogusemail.com\n",
            "n#######d@bogusemail.com\n",
            "l#######n@bogusemail.com\n",
            "j#######n@bogusemail.com\n",
            "n#######e@bogusemail.com\n",
            "m#######d@bogusemail.com\n",
            "j#######s@bogusemail.com\n",
            "m#######n@bogusemail.com\n",
            "j#######t@bogusemail.com\n",
            "r#######s@bogusemail.com\n",
            "j#######r@bogusemail.com\n",
            "j#######t@bogusemail.com\n",
            "c#######r@bogusemail.com\n"
          ]
        }
      ]
    },
    {
      "cell_type": "code",
      "source": [
        "pattern = \"\\d{3}-\\d{3}-\\d{4}\"\n",
        "nums = re.findall(pattern,data)\n",
        "print(nums)"
      ],
      "metadata": {
        "colab": {
          "base_uri": "https://localhost:8080/"
        },
        "id": "0Y9oMvB6lvCR",
        "outputId": "c312f85e-5319-4845-9ab9-c5a6880671b7"
      },
      "execution_count": 61,
      "outputs": [
        {
          "output_type": "stream",
          "name": "stdout",
          "text": [
            "['615-555-7164', '800-555-5669', '560-555-5153', '900-555-9340', '714-555-7405', '800-555-6771', '783-555-4799', '516-555-4615', '127-555-1867', '608-555-4938', '568-555-6051', '292-555-1875', '900-555-3205', '614-555-1166', '530-555-2676', '470-555-2750', '800-555-6089', '880-555-8319', '777-555-8378', '998-555-7385', '800-555-7100', '903-555-8277', '196-555-5674', '900-555-5118', '905-555-1630', '203-555-3475', '884-555-8444', '904-555-8559', '889-555-7393', '195-555-2405', '321-555-9053', '133-555-1711', '900-555-5428', '760-555-7147', '391-555-6621', '932-555-7724', '609-555-7908', '800-555-8810', '149-555-7657', '130-555-9709', '143-555-9295', '903-555-9878', '574-555-3194', '496-555-7533', '210-555-3757', '900-555-9598', '866-555-9844', '669-555-7159', '152-555-7417', '893-555-9832', '217-555-7123', '786-555-6544', '780-555-2574', '926-555-8735', '895-555-3539', '874-555-3949', '800-555-2420', '936-555-6340', '372-555-9809', '890-555-5618', '670-555-3005', '509-555-5997', '721-555-5632', '900-555-3567', '147-555-6830', '582-555-3426', '400-555-1706', '525-555-1793', '317-555-6700', '974-555-8301', '800-555-3216', '746-555-4094', '922-555-1773', '711-555-4427', '355-555-1872', '852-555-6521', '691-555-5773', '332-555-5441', '900-555-7755', '379-555-3685', '127-555-9682', '789-555-7032', '783-555-5135', '315-555-6507', '481-555-5835', '365-555-8287', '911-555-7535', '681-555-2460', '274-555-9800', '800-555-1372', '300-555-7821', '133-555-3889', '705-555-6863', '215-555-9449', '988-555-6112', '623-555-3006', '192-555-4977', '178-555-4899', '952-555-3089', '900-555-6426']\n"
          ]
        }
      ]
    },
    {
      "cell_type": "code",
      "source": [
        "def mask_phone(p):\n",
        "  if len(p) == 12:\n",
        "    return f\"###-###-{p[-3:]}\""
      ],
      "metadata": {
        "id": "tZuqn5rnlvKX"
      },
      "execution_count": 62,
      "outputs": []
    },
    {
      "cell_type": "code",
      "source": [
        "print([mask_phone(num) for num in nums])"
      ],
      "metadata": {
        "colab": {
          "base_uri": "https://localhost:8080/"
        },
        "id": "79xpFTrYlvPu",
        "outputId": "4d3e4d7e-12f1-4008-db61-e26cf645b792"
      },
      "execution_count": 63,
      "outputs": [
        {
          "output_type": "stream",
          "name": "stdout",
          "text": [
            "['###-###-164', '###-###-669', '###-###-153', '###-###-340', '###-###-405', '###-###-771', '###-###-799', '###-###-615', '###-###-867', '###-###-938', '###-###-051', '###-###-875', '###-###-205', '###-###-166', '###-###-676', '###-###-750', '###-###-089', '###-###-319', '###-###-378', '###-###-385', '###-###-100', '###-###-277', '###-###-674', '###-###-118', '###-###-630', '###-###-475', '###-###-444', '###-###-559', '###-###-393', '###-###-405', '###-###-053', '###-###-711', '###-###-428', '###-###-147', '###-###-621', '###-###-724', '###-###-908', '###-###-810', '###-###-657', '###-###-709', '###-###-295', '###-###-878', '###-###-194', '###-###-533', '###-###-757', '###-###-598', '###-###-844', '###-###-159', '###-###-417', '###-###-832', '###-###-123', '###-###-544', '###-###-574', '###-###-735', '###-###-539', '###-###-949', '###-###-420', '###-###-340', '###-###-809', '###-###-618', '###-###-005', '###-###-997', '###-###-632', '###-###-567', '###-###-830', '###-###-426', '###-###-706', '###-###-793', '###-###-700', '###-###-301', '###-###-216', '###-###-094', '###-###-773', '###-###-427', '###-###-872', '###-###-521', '###-###-773', '###-###-441', '###-###-755', '###-###-685', '###-###-682', '###-###-032', '###-###-135', '###-###-507', '###-###-835', '###-###-287', '###-###-535', '###-###-460', '###-###-800', '###-###-372', '###-###-821', '###-###-889', '###-###-863', '###-###-449', '###-###-112', '###-###-006', '###-###-977', '###-###-899', '###-###-089', '###-###-426']\n"
          ]
        }
      ]
    },
    {
      "cell_type": "code",
      "source": [
        "new_input = ['18:29', '23:55', '123', 'ab:de', '18:299', '99:99']\n",
        "results = lambda x: re.match('[0-9]{2}:[0-9]{2}', x) != None\n",
        "for x in new_input:\n",
        "  print(results(x),end=\" \")"
      ],
      "metadata": {
        "colab": {
          "base_uri": "https://localhost:8080/"
        },
        "id": "iY_3LbF5lvUG",
        "outputId": "7355e618-2128-4b03-f3af-198ba4809de5"
      },
      "execution_count": 64,
      "outputs": [
        {
          "output_type": "stream",
          "name": "stdout",
          "text": [
            "True True False False True True "
          ]
        }
      ]
    },
    {
      "cell_type": "code",
      "source": [
        "# Complete the code in order to convert the date format from yyyy-mm-dd to dd-mm-yyyy.\n",
        "\n",
        "# re.sub(pattern , replacement, string)\n",
        "\n",
        "\n",
        "def change_format(date):\n",
        "  return re.sub(r\"(\\d{4})-(\\d{2})-(\\d{2})\", r\"\\3-\\2-\\1\" , date)\n",
        "\n",
        "date1 = \"The Date is 2020-01-02\"\n",
        "print(change_format(date1))"
      ],
      "metadata": {
        "colab": {
          "base_uri": "https://localhost:8080/"
        },
        "id": "EdZ00GjtlvYi",
        "outputId": "242d61f0-4bbb-4f8a-fb81-8589c52d8f7f"
      },
      "execution_count": 68,
      "outputs": [
        {
          "output_type": "stream",
          "name": "stdout",
          "text": [
            "The Date is 02-01-2020\n"
          ]
        }
      ]
    },
    {
      "cell_type": "code",
      "source": [
        "text = ''' Extract the doamin from the urls www.mascoder.com'''\n",
        "pattern = r'(www.([A-Za-z_0-9-]+)(.\\w+))'\n",
        "find_iter_result = re.finditer(pattern, text)\n",
        "for i in find_iter_result:\n",
        "  print(i.group(0))     #output1\n",
        "\n",
        "find_all_result = re.findall(pattern, text)\n",
        "for i in find_all_result:\n",
        "  print(i[1])          #output2"
      ],
      "metadata": {
        "colab": {
          "base_uri": "https://localhost:8080/"
        },
        "id": "7uOceqPflvdk",
        "outputId": "8e207fa2-d34b-459c-90a5-6ef9e81345b7"
      },
      "execution_count": 72,
      "outputs": [
        {
          "output_type": "stream",
          "name": "stdout",
          "text": [
            "www.mascoder.com\n",
            "mascoder\n"
          ]
        }
      ]
    },
    {
      "cell_type": "code",
      "source": [
        "text = '''\n",
        "\"One cannot have enough socks with him\", said Dora.\n",
        "\"Another has come and gone and I didn't get a single pair.\n",
        "People will keep on insisting on giving me books.\"\n",
        "Christmas Quote\n",
        "'''\n",
        "regex = 'Christ.*'\n",
        "print(re.match(regex, text),\",\",re.findall(regex, text))"
      ],
      "metadata": {
        "colab": {
          "base_uri": "https://localhost:8080/"
        },
        "id": "juEhRNArthlk",
        "outputId": "1e5b2949-e68a-471a-b92d-7d252c73066e"
      },
      "execution_count": 73,
      "outputs": [
        {
          "output_type": "stream",
          "name": "stdout",
          "text": [
            "None , ['Christmas Quote ']\n"
          ]
        }
      ]
    },
    {
      "cell_type": "code",
      "source": [
        "sentence = 'peter piper picked a peck of pickled peppers'\n",
        "result = re.findall('p.*?e.*?r', sentence)\n",
        "print(result)"
      ],
      "metadata": {
        "colab": {
          "base_uri": "https://localhost:8080/"
        },
        "id": "NWHqYTqZthgs",
        "outputId": "facb0364-4325-4431-f178-2ae9018787b2"
      },
      "execution_count": 75,
      "outputs": [
        {
          "output_type": "stream",
          "name": "stdout",
          "text": [
            "['peter', 'piper', 'picked a peck of pickled pepper']\n"
          ]
        }
      ]
    },
    {
      "cell_type": "code",
      "source": [
        "paragraph = '''\n",
        "An investment of  $1 in the year 1801,  would have given you $18087791.41 today.\n",
        "This is a 7.967% return on investment.\n",
        "But with an investment of only $0.25 in 1801, you would end up with $4521947.8525.\n",
        "'''\n",
        "result = [x[0] for x in re.findall('(\\$[0-9]+(\\.[0-9]*)?)', paragraph)]\n",
        "\n",
        "print(result)"
      ],
      "metadata": {
        "colab": {
          "base_uri": "https://localhost:8080/"
        },
        "id": "bR7w4RwHthYC",
        "outputId": "609b891d-fc5b-4c78-b050-5523d44d765a"
      },
      "execution_count": 79,
      "outputs": [
        {
          "output_type": "stream",
          "name": "stdout",
          "text": [
            "['$1', '$18087791.41', '$0.25', '$4521947.8525']\n"
          ]
        }
      ]
    },
    {
      "cell_type": "code",
      "source": [
        "text = '''The intellectual content in a physical book need not be a composition, nor even be called a book. Books can consist only of drawings, engravings or photographs, crossword puzzles or cut-out dolls. In a physical book, the pages can be left blank or can feature an abstract set of lines to support entries. '''\n",
        "print(re.findall('b..k', text))"
      ],
      "metadata": {
        "colab": {
          "base_uri": "https://localhost:8080/"
        },
        "id": "xyl3pB3tthQY",
        "outputId": "33f5a741-5a60-42b3-ff11-370aab7b0109"
      },
      "execution_count": 82,
      "outputs": [
        {
          "output_type": "stream",
          "name": "stdout",
          "text": [
            "['book', 'book', 'book']\n"
          ]
        }
      ]
    },
    {
      "cell_type": "code",
      "source": [
        "s1 = 'Artificial Intelligence consists of Machine Learning and Deep Learning'\n",
        "pattern = 'Learning'\n",
        "for match in re.finditer(pattern, s1):\n",
        "  s = match.start()\n",
        "  e = match.end()\n",
        "  print('%d:%d'%(s, e),end=\" \")\n"
      ],
      "metadata": {
        "colab": {
          "base_uri": "https://localhost:8080/"
        },
        "id": "-Vw7Q4HN3KBk",
        "outputId": "5123c9e8-1661-4a72-8a8a-79fefdcc2dec"
      },
      "execution_count": 88,
      "outputs": [
        {
          "output_type": "stream",
          "name": "stdout",
          "text": [
            "44:52 62:70 "
          ]
        }
      ]
    },
    {
      "cell_type": "code",
      "source": [
        "print(re.findall('a{3,5}b','aba'))"
      ],
      "metadata": {
        "colab": {
          "base_uri": "https://localhost:8080/"
        },
        "id": "RcJaFPWL35Ax",
        "outputId": "d663bfc5-643b-4cbb-ce5e-0e93a622bffa"
      },
      "execution_count": 91,
      "outputs": [
        {
          "output_type": "stream",
          "name": "stdout",
          "text": [
            "[]\n"
          ]
        }
      ]
    },
    {
      "cell_type": "code",
      "source": [
        "a = re.sub(r\" ?\\([^)]+\\)\", \"\",\"Machine Learning (.com)\")\n",
        "print(a)"
      ],
      "metadata": {
        "colab": {
          "base_uri": "https://localhost:8080/"
        },
        "id": "1m3dTvaS345A",
        "outputId": "1f05ec35-21d7-42f8-c219-654d847e9106"
      },
      "execution_count": 92,
      "outputs": [
        {
          "output_type": "stream",
          "name": "stdout",
          "text": [
            "Machine Learning\n"
          ]
        }
      ]
    },
    {
      "cell_type": "code",
      "source": [
        "pattern = r'[456]\\d{15}$'\n",
        "credit_no = \"7245647893112578\"\n",
        "print(re.match(pattern, credit_no))"
      ],
      "metadata": {
        "colab": {
          "base_uri": "https://localhost:8080/"
        },
        "id": "jirxUHs9340C",
        "outputId": "17a9d2b6-b045-444c-8311-74b3e9a2e938"
      },
      "execution_count": 106,
      "outputs": [
        {
          "output_type": "stream",
          "name": "stdout",
          "text": [
            "None\n"
          ]
        }
      ]
    },
    {
      "cell_type": "markdown",
      "source": [
        "You opened your bank account in an XYZ bank. You received your debit card recently but you want to check whether its a valid debit card or not.\n",
        "\n",
        "A valid debit card has the following characteristics:\n",
        "\n",
        "It must start with a 4,5 or 6.\n",
        "It must contain exactly 16 digits.\n",
        "It must only consist of digits\n",
        "It must NOT use any separator like ' ', '_', etc.\n",
        "Sample Input:\n",
        "\n",
        "\"4245647893112578\"\n",
        "Sample Output:\n",
        "\n",
        "\"Valid\""
      ],
      "metadata": {
        "id": "Fy0vnwv69ZpZ"
      }
    },
    {
      "cell_type": "code",
      "source": [
        "# credit-card validator\n",
        "\n",
        "def validator(s):\n",
        "  pattern = r'^[456]\\d{15}$'\n",
        "  result = re.match(pattern, s)\n",
        "  if result:\n",
        "    return \"valid\"\n",
        "  return \"invalid\"\n",
        "\n",
        "\n",
        "num1 = \"7245647893112578\"\n",
        "num2 = \"4245647893112578\"\n",
        "print(validator(num1))\n",
        "print(validator(num2))"
      ],
      "metadata": {
        "colab": {
          "base_uri": "https://localhost:8080/"
        },
        "id": "956LrdAr34uK",
        "outputId": "47fbb858-f9b5-4ce4-c450-a3ebbe9cff93"
      },
      "execution_count": 108,
      "outputs": [
        {
          "output_type": "stream",
          "name": "stdout",
          "text": [
            "invalid\n",
            "valid\n"
          ]
        }
      ]
    },
    {
      "cell_type": "markdown",
      "source": [
        "Write a program to check if a postal code is a valid postal code or not. A valid code has to fulfill the below requirements:\n",
        "1. must be a six-digit number.\n",
        "2. must not contain more than one alternating repetitive digit pair.\n",
        "Alternating repetitive digits are digits that repeat immediately after the next digit. In other words, an alternating repetitive digit pair is formed by two equal digits that have just a single digit between them.\n",
        "\n",
        "Input Format:\n",
        "\n",
        "A string\n",
        "Output Format:\n",
        "\n",
        "True/False"
      ],
      "metadata": {
        "id": "Q7RffiK19cB3"
      }
    },
    {
      "cell_type": "code",
      "source": [
        "def is_valid_postal_code(postal_code):\n",
        "    # Requirement 1: Must be a six-digit number\n",
        "    if not re.match(r\"^\\d{6}$\", postal_code):\n",
        "        return False\n",
        "\n",
        "    # Requirement 2: Must not contain more than one alternating repetitive digit pair\n",
        "    pattern = r\"(\\d)(?=\\d\\1)\"\n",
        "    alternating_pairs = re.findall(pattern, postal_code)\n",
        "    if len(alternating_pairs) > 1:\n",
        "        return False\n",
        "\n",
        "    return True\n",
        "\n",
        "# Example postal codes\n",
        "postal_codes = [\n",
        "    \"121212\",  # Valid: One alternating repetitive pair (12)\n",
        "    \"112233\",  # Invalid: Two alternating repetitive pairs (11 and 22)\n",
        "    \"123456\",  # Invalid: No alternating repetitive pair\n",
        "    \"122334\",  # Valid: One alternating repetitive pair (23)\n",
        "    \"121121\"   # Invalid: Two alternating repetitive pairs (12 and 21)\n",
        "]\n",
        "\n",
        "# Check the validity of each postal code\n",
        "for postal_code in postal_codes:\n",
        "    if is_valid_postal_code(postal_code):\n",
        "        print(f\"{postal_code} is a valid postal code.\")\n",
        "    else:\n",
        "        print(f\"{postal_code} is NOT a valid postal code.\")\n"
      ],
      "metadata": {
        "colab": {
          "base_uri": "https://localhost:8080/"
        },
        "id": "_OR56eQm8hWg",
        "outputId": "d65f0005-f4fe-451e-8da1-1ea98cde6940"
      },
      "execution_count": 111,
      "outputs": [
        {
          "output_type": "stream",
          "name": "stdout",
          "text": [
            "121212 is NOT a valid postal code.\n",
            "112233 is a valid postal code.\n",
            "123456 is a valid postal code.\n",
            "122334 is a valid postal code.\n",
            "121121 is NOT a valid postal code.\n"
          ]
        }
      ]
    },
    {
      "cell_type": "code",
      "source": [
        "import re\n",
        "\n",
        "def is_valid_password(password):\n",
        "    # Requirement 1: Should be at least eight characters long\n",
        "    if len(password) < 8:\n",
        "        return False\n",
        "\n",
        "    # Requirement 2: Contains at least one uppercase character\n",
        "    if not re.search(r\"[A-Z]\", password):\n",
        "        return False\n",
        "\n",
        "    # Requirement 3: Contains at least one lowercase character\n",
        "    if not re.search(r\"[a-z]\", password):\n",
        "        return False\n",
        "\n",
        "    # Requirement 4: Has at least one digit\n",
        "    if not re.search(r\"\\d\", password):\n",
        "        return False\n",
        "\n",
        "    # Requirement 5: Has at least one special character\n",
        "    if not re.search(r\"[$#@]\", password):\n",
        "        return False\n",
        "\n",
        "    # Requirement 6: Shouldn't have any space\n",
        "    if \" \" in password:\n",
        "        return False\n",
        "\n",
        "    return True\n",
        "\n",
        "# Example passwords\n",
        "passwords = [\n",
        "    \"Passw0rd#\",   # Valid\n",
        "    \"secureP@ss\",  # Valid\n",
        "    \"12345678\",    # Invalid: No lowercase letter\n",
        "    \"ABCDabcd\",    # Invalid: No digit or special character\n",
        "    \"P@ss word\",   # Invalid: Contains space\n",
        "    \"Short@1\"      # Invalid: Too short\n",
        "]\n",
        "\n",
        "# Check the validity of each password\n",
        "for password in passwords:\n",
        "    if is_valid_password(password):\n",
        "        print(f\"{password} is a valid password.\")\n",
        "    else:\n",
        "        print(f\"{password} is NOT a valid password.\")\n"
      ],
      "metadata": {
        "id": "CMqWNQFl8hOx"
      },
      "execution_count": null,
      "outputs": []
    },
    {
      "cell_type": "code",
      "source": [
        "sentence = 'cheetah is faster than a leopard'\n",
        "matched = re.search('is', sentence)\n",
        "print(matched.span())"
      ],
      "metadata": {
        "colab": {
          "base_uri": "https://localhost:8080/"
        },
        "id": "0M5o_C0h8hJV",
        "outputId": "ca2f8607-c0f1-4c1a-c4c5-17d1a1986513"
      },
      "execution_count": 112,
      "outputs": [
        {
          "output_type": "stream",
          "name": "stdout",
          "text": [
            "(8, 10)\n"
          ]
        }
      ]
    },
    {
      "cell_type": "markdown",
      "source": [
        "Write a program to convert a given string to snake case format.\n",
        "Snake case refers to the style of writing in which each space is replaced by a dash (-) character and the first letter of each word is written in lowercase."
      ],
      "metadata": {
        "id": "gxHN3MbOAjEG"
      }
    },
    {
      "cell_type": "code",
      "source": [
        "import re\n",
        "\n",
        "def to_snake_case(input_string):\n",
        "    # Convert spaces to dashes and lowercase the string\n",
        "    snake_case_string = re.sub(r'\\s+', '-', input_string).lower()\n",
        "    return snake_case_string\n",
        "\n",
        "# Example input strings\n",
        "input_strings = [\n",
        "    \"Hello World\",\n",
        "    \"Python Programming Language\",\n",
        "    \"This Is A Test String\",\n",
        "    \"Another_Example_String\"\n",
        "]\n",
        "\n",
        "# Convert and print the snake case format of each input string\n",
        "for input_str in input_strings:\n",
        "    snake_case_str = to_snake_case(input_str)\n",
        "    print(f\"Original: '{input_str}' => Snake Case: '{snake_case_str}'\")\n"
      ],
      "metadata": {
        "colab": {
          "base_uri": "https://localhost:8080/"
        },
        "id": "XKGjM5-B8hD8",
        "outputId": "bb6ed004-2681-40ac-b80e-fc21b830e330"
      },
      "execution_count": 113,
      "outputs": [
        {
          "output_type": "stream",
          "name": "stdout",
          "text": [
            "Original: 'Hello World' => Snake Case: 'hello-world'\n",
            "Original: 'Python Programming Language' => Snake Case: 'python-programming-language'\n",
            "Original: 'This Is A Test String' => Snake Case: 'this-is-a-test-string'\n",
            "Original: 'Another_Example_String' => Snake Case: 'another_example_string'\n"
          ]
        }
      ]
    },
    {
      "cell_type": "code",
      "source": [
        "txt = \"Kenny bought 4 20rs biscuit. He got 1 80rs bill.\"\n",
        "new_txt = re.sub(r'(\\d+)\\s+(\\d+)', r'\\1\\2', txt)\n",
        "print(new_txt)"
      ],
      "metadata": {
        "colab": {
          "base_uri": "https://localhost:8080/"
        },
        "id": "WRf0aFXcBIoE",
        "outputId": "449ed313-d1f3-4d39-c668-cd53b9944e64"
      },
      "execution_count": 114,
      "outputs": [
        {
          "output_type": "stream",
          "name": "stdout",
          "text": [
            "Kenny bought 420rs biscuit. He got 180rs bill.\n"
          ]
        }
      ]
    },
    {
      "cell_type": "code",
      "source": [
        "text1 = '**//DataScience// - 12. '\n",
        "pattern = re.compile('[\\W_]+')\n",
        "print(pattern.sub('', text1))"
      ],
      "metadata": {
        "colab": {
          "base_uri": "https://localhost:8080/"
        },
        "id": "DPv6teLaBX37",
        "outputId": "d9d67af9-c5d6-4db1-8f35-52c8b6b3395d"
      },
      "execution_count": 115,
      "outputs": [
        {
          "output_type": "stream",
          "name": "stdout",
          "text": [
            "DataScience12\n"
          ]
        }
      ]
    },
    {
      "cell_type": "code",
      "source": [
        "target_string = \"Emma is a basketball player who was born on June 17, 1993. She played 112 matches with a scoring average of 26.12 points per game. Her weight is 51 kg.\"\n",
        "result = re.finditer(r\"\\d{2}\", target_string)\n",
        "for match_obj in result:\n",
        "  print(match_obj.group(),end=\" \")"
      ],
      "metadata": {
        "colab": {
          "base_uri": "https://localhost:8080/"
        },
        "id": "-V6RHyM7Byb4",
        "outputId": "d7f13e10-92ee-409f-ff3b-3908cae9edbe"
      },
      "execution_count": 119,
      "outputs": [
        {
          "output_type": "stream",
          "name": "stdout",
          "text": [
            "17 19 93 11 26 12 51 "
          ]
        }
      ]
    },
    {
      "cell_type": "code",
      "source": [
        "sentence = \"cryptographic encryption methods that can be cracked easily with quantum computers\"\n",
        "pattern = re.compile(\"crypto(.{1,30})coin\")\n",
        "print(pattern.match(sentence))"
      ],
      "metadata": {
        "colab": {
          "base_uri": "https://localhost:8080/"
        },
        "id": "RjpaMBA2CSgK",
        "outputId": "d205fac5-7a62-443a-d4a9-dd80951455cf"
      },
      "execution_count": 120,
      "outputs": [
        {
          "output_type": "stream",
          "name": "stdout",
          "text": [
            "None\n"
          ]
        }
      ]
    }
  ]
}