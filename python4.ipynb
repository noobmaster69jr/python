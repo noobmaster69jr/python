{
  "nbformat": 4,
  "nbformat_minor": 0,
  "metadata": {
    "colab": {
      "provenance": []
    },
    "kernelspec": {
      "name": "python3",
      "display_name": "Python 3"
    },
    "language_info": {
      "name": "python"
    }
  },
  "cells": [
    {
      "cell_type": "code",
      "execution_count": null,
      "metadata": {
        "id": "9gmsYigC7prq"
      },
      "outputs": [],
      "source": [
        "# Jump statements"
      ]
    },
    {
      "cell_type": "code",
      "source": [
        "for i in range(5):\n",
        "    if i == 3:\n",
        "        pass # empty statement in python -> Does nothing\n",
        "\n",
        "    print(i)"
      ],
      "metadata": {
        "colab": {
          "base_uri": "https://localhost:8080/"
        },
        "id": "79tDDb4k9qfu",
        "outputId": "60d5a30e-9e6c-443c-cf21-4cda3717c0be"
      },
      "execution_count": null,
      "outputs": [
        {
          "output_type": "stream",
          "name": "stdout",
          "text": [
            "0\n",
            "1\n",
            "2\n",
            "3\n",
            "4\n"
          ]
        }
      ]
    },
    {
      "cell_type": "code",
      "source": [
        "for i in range(5):\n",
        "    if i == 3:\n",
        "        continue # continue to the next iteration -> skip rest of the current iteration\n",
        "\n",
        "    print(i)"
      ],
      "metadata": {
        "colab": {
          "base_uri": "https://localhost:8080/"
        },
        "id": "CmjSf77Q9qb3",
        "outputId": "59149f55-9955-4f68-f875-06fe15587288"
      },
      "execution_count": null,
      "outputs": [
        {
          "output_type": "stream",
          "name": "stdout",
          "text": [
            "0\n",
            "1\n",
            "2\n",
            "4\n"
          ]
        }
      ]
    },
    {
      "cell_type": "code",
      "source": [
        "for i in range(5):\n",
        "    if i == 3:\n",
        "        break # breaks the loop\n",
        "\n",
        "    print(i)"
      ],
      "metadata": {
        "colab": {
          "base_uri": "https://localhost:8080/"
        },
        "id": "_j2ZQR5v9qYT",
        "outputId": "713a1b01-c703-4fe0-a2af-bd816b420ed3"
      },
      "execution_count": null,
      "outputs": [
        {
          "output_type": "stream",
          "name": "stdout",
          "text": [
            "0\n",
            "1\n",
            "2\n"
          ]
        }
      ]
    },
    {
      "cell_type": "code",
      "source": [
        "for i in range(3):\n",
        "    for j in range(4):\n",
        "        print(\"i ->\", i, \", j ->\", j)"
      ],
      "metadata": {
        "colab": {
          "base_uri": "https://localhost:8080/"
        },
        "id": "BOvx7g419qUn",
        "outputId": "b48a7cf6-efcb-4e0d-f60f-039d29aeab85"
      },
      "execution_count": null,
      "outputs": [
        {
          "output_type": "stream",
          "name": "stdout",
          "text": [
            "i -> 0 , j -> 0\n",
            "i -> 0 , j -> 1\n",
            "i -> 0 , j -> 2\n",
            "i -> 0 , j -> 3\n",
            "i -> 1 , j -> 0\n",
            "i -> 1 , j -> 1\n",
            "i -> 1 , j -> 2\n",
            "i -> 1 , j -> 3\n",
            "i -> 2 , j -> 0\n",
            "i -> 2 , j -> 1\n",
            "i -> 2 , j -> 2\n",
            "i -> 2 , j -> 3\n"
          ]
        }
      ]
    },
    {
      "cell_type": "code",
      "source": [
        "# pattern"
      ],
      "metadata": {
        "id": "MRbgfczqX2IE"
      },
      "execution_count": null,
      "outputs": []
    },
    {
      "cell_type": "code",
      "source": [
        "\"random\"*3"
      ],
      "metadata": {
        "id": "iE3Zvzm59qRC",
        "colab": {
          "base_uri": "https://localhost:8080/",
          "height": 35
        },
        "outputId": "06ec8935-870e-4fe8-b39b-6801088fa078"
      },
      "execution_count": 1,
      "outputs": [
        {
          "output_type": "execute_result",
          "data": {
            "text/plain": [
              "'randomrandomrandom'"
            ],
            "application/vnd.google.colaboratory.intrinsic+json": {
              "type": "string"
            }
          },
          "metadata": {},
          "execution_count": 1
        }
      ]
    },
    {
      "cell_type": "code",
      "source": [
        "number = int(input())\n",
        "for i in range(1, number+1):\n",
        "  print(\"*\"*i)\n"
      ],
      "metadata": {
        "colab": {
          "base_uri": "https://localhost:8080/"
        },
        "id": "qZ66bzD-XycQ",
        "outputId": "9afda3f4-4b88-4c4c-8283-364c8f8545c9"
      },
      "execution_count": 3,
      "outputs": [
        {
          "output_type": "stream",
          "name": "stdout",
          "text": [
            "4\n",
            "*\n",
            "**\n",
            "***\n",
            "****\n"
          ]
        }
      ]
    },
    {
      "cell_type": "code",
      "source": [
        "number = int(input())\n",
        "for i in range(1, number+1):\n",
        "  for j in range(i):\n",
        "    print(i, end=\"\")\n",
        "  print()"
      ],
      "metadata": {
        "colab": {
          "base_uri": "https://localhost:8080/"
        },
        "id": "PGGwvZSmXyWr",
        "outputId": "0bcfa8f8-10b5-4659-b168-f71f737bbea4"
      },
      "execution_count": 6,
      "outputs": [
        {
          "output_type": "stream",
          "name": "stdout",
          "text": [
            "5\n",
            "1\n",
            "22\n",
            "333\n",
            "4444\n",
            "55555\n"
          ]
        }
      ]
    },
    {
      "cell_type": "code",
      "source": [
        "number = int(input())\n",
        "for i in range(1, number+1):\n",
        "  for j in range(1, i+1):\n",
        "    print(j, end=\"\")\n",
        "  print()"
      ],
      "metadata": {
        "colab": {
          "base_uri": "https://localhost:8080/"
        },
        "id": "SgObycwQXyRK",
        "outputId": "cffd0197-2145-4b28-c0af-ca6c7e0bff75"
      },
      "execution_count": 7,
      "outputs": [
        {
          "output_type": "stream",
          "name": "stdout",
          "text": [
            "5\n",
            "1\n",
            "12\n",
            "123\n",
            "1234\n",
            "12345\n"
          ]
        }
      ]
    },
    {
      "cell_type": "code",
      "source": [
        "number = int(input())\n",
        "for i in range(1, number+1):\n",
        "  for j in range(1, i+1):\n",
        "    if(j&1): print(\"*\", end=\"\")\n",
        "    else: print(j, end=\"\")\n",
        "  print()\n"
      ],
      "metadata": {
        "colab": {
          "base_uri": "https://localhost:8080/"
        },
        "id": "YuWUT8ioXyKM",
        "outputId": "059228b5-9557-44fa-a6f6-fd46bcf6c8ac"
      },
      "execution_count": 8,
      "outputs": [
        {
          "output_type": "stream",
          "name": "stdout",
          "text": [
            "6\n",
            "*\n",
            "*2\n",
            "*2*\n",
            "*2*4\n",
            "*2*4*\n",
            "*2*4*6\n"
          ]
        }
      ]
    },
    {
      "cell_type": "code",
      "source": [
        "number = int(input())\n",
        "for i in range(number):\n",
        "  for j in range(number-i-1):\n",
        "    print(\" \", end=\"\")\n",
        "  for k in range(i+1):\n",
        "    print(\"*\", end=\"\")\n",
        "  print()"
      ],
      "metadata": {
        "colab": {
          "base_uri": "https://localhost:8080/"
        },
        "id": "rvA9McF8XyBL",
        "outputId": "265c9804-2125-44b7-e5fa-92cdf2b80250"
      },
      "execution_count": 13,
      "outputs": [
        {
          "output_type": "stream",
          "name": "stdout",
          "text": [
            "5\n",
            "    *\n",
            "   **\n",
            "  ***\n",
            " ****\n",
            "*****\n"
          ]
        }
      ]
    },
    {
      "cell_type": "code",
      "source": [
        "# optimized version of above code\n",
        "number = int(input())\n",
        "for i in range(number):\n",
        "  print(\" \"*(number-i-1)+\"*\"*(i+1))"
      ],
      "metadata": {
        "id": "_sSwECWj9qMw",
        "colab": {
          "base_uri": "https://localhost:8080/"
        },
        "outputId": "494c4dde-ddeb-41a4-fee9-805ab4a5d876"
      },
      "execution_count": 14,
      "outputs": [
        {
          "output_type": "stream",
          "name": "stdout",
          "text": [
            "5\n",
            "    *\n",
            "   **\n",
            "  ***\n",
            " ****\n",
            "*****\n"
          ]
        }
      ]
    },
    {
      "cell_type": "code",
      "source": [
        "name = input()\n",
        "\n",
        "n = len(name)\n",
        "\n",
        "for i in range(n):\n",
        "    for j in range(n):\n",
        "        if i == j:\n",
        "            print(name[i], end = \"\")\n",
        "        else:\n",
        "            print(\"*\", end = \"\")\n",
        "\n",
        "    print()"
      ],
      "metadata": {
        "id": "A1YbKcUu9qHT",
        "colab": {
          "base_uri": "https://localhost:8080/"
        },
        "outputId": "fa8c68f0-9f87-4868-c78d-48245ec5b990"
      },
      "execution_count": 16,
      "outputs": [
        {
          "output_type": "stream",
          "name": "stdout",
          "text": [
            "ashwin\n",
            "a*****\n",
            "*s****\n",
            "**h***\n",
            "***w**\n",
            "****i*\n",
            "*****n\n"
          ]
        }
      ]
    },
    {
      "cell_type": "code",
      "source": [
        "# function"
      ],
      "metadata": {
        "id": "1y-R1WzM9qDw"
      },
      "execution_count": null,
      "outputs": []
    },
    {
      "cell_type": "code",
      "source": [
        "# A function is a set of instructions which are modular and reusable\n",
        "\n",
        "def prepare_for_guests():\n",
        "    print(\"Dust all the rooms!\")\n",
        "    print(\"Arrange the living area.\")\n",
        "    print(\"Go and get cold drinks and mixtures.\")\n",
        "    print(\"Turn on all fancy lights.\")\n",
        "    print(\"Take out the fancy silverware.\")\n",
        "    print(\"Touch feet when you see them.\")"
      ],
      "metadata": {
        "id": "VeE_J1Zk9p46"
      },
      "execution_count": 17,
      "outputs": []
    },
    {
      "cell_type": "code",
      "source": [
        "prepare_for_guests()"
      ],
      "metadata": {
        "colab": {
          "base_uri": "https://localhost:8080/"
        },
        "id": "u79PsJQ-dx11",
        "outputId": "1dff2904-36da-4115-a3e5-8128bd9294fd"
      },
      "execution_count": 18,
      "outputs": [
        {
          "output_type": "stream",
          "name": "stdout",
          "text": [
            "Dust all the rooms!\n",
            "Arrange the living area.\n",
            "Go and get cold drinks and mixtures.\n",
            "Turn on all fancy lights.\n",
            "Take out the fancy silverware.\n",
            "Touch feet when you see them.\n"
          ]
        }
      ]
    },
    {
      "cell_type": "code",
      "source": [
        "'''\n",
        "Write a piece of code to print(\"Making Tea\") five times.\n",
        "'''\n",
        "def make_tea(product):\n",
        "  print(\"I'm making tea with\", product)\n",
        "\n",
        "for i in range(6):\n",
        "  make_tea(\"milk\")"
      ],
      "metadata": {
        "colab": {
          "base_uri": "https://localhost:8080/"
        },
        "id": "-eVyHOa_eJm-",
        "outputId": "887b5850-1a31-468d-802d-bdd962703728"
      },
      "execution_count": 21,
      "outputs": [
        {
          "output_type": "stream",
          "name": "stdout",
          "text": [
            "I'm making tea with milk\n",
            "I'm making tea with milk\n",
            "I'm making tea with milk\n",
            "I'm making tea with milk\n",
            "I'm making tea with milk\n",
            "I'm making tea with milk\n"
          ]
        }
      ]
    },
    {
      "cell_type": "code",
      "source": [
        "\"random\"*0"
      ],
      "metadata": {
        "colab": {
          "base_uri": "https://localhost:8080/",
          "height": 35
        },
        "id": "-gWjpMw-fMzg",
        "outputId": "6ef2a5a3-2c5e-4799-9777-26995d11f644"
      },
      "execution_count": 22,
      "outputs": [
        {
          "output_type": "execute_result",
          "data": {
            "text/plain": [
              "''"
            ],
            "application/vnd.google.colaboratory.intrinsic+json": {
              "type": "string"
            }
          },
          "metadata": {},
          "execution_count": 22
        }
      ]
    },
    {
      "cell_type": "code",
      "source": [
        "\"random\"*-1"
      ],
      "metadata": {
        "colab": {
          "base_uri": "https://localhost:8080/",
          "height": 35
        },
        "id": "Gvl5NBeZfMu6",
        "outputId": "09fcc57f-3050-4026-ac3f-a4ea0595cea1"
      },
      "execution_count": 23,
      "outputs": [
        {
          "output_type": "execute_result",
          "data": {
            "text/plain": [
              "''"
            ],
            "application/vnd.google.colaboratory.intrinsic+json": {
              "type": "string"
            }
          },
          "metadata": {},
          "execution_count": 23
        }
      ]
    },
    {
      "cell_type": "code",
      "source": [
        "def random():\n",
        "    print(\"before return\")\n",
        "    return 1\n",
        "    print(\"after return\")"
      ],
      "metadata": {
        "id": "jFhOQorGfMqM"
      },
      "execution_count": 24,
      "outputs": []
    },
    {
      "cell_type": "code",
      "source": [
        "random()"
      ],
      "metadata": {
        "colab": {
          "base_uri": "https://localhost:8080/"
        },
        "id": "JE1QBYPyeJgF",
        "outputId": "6c267891-f054-42cf-8006-2313b4d0f759"
      },
      "execution_count": 29,
      "outputs": [
        {
          "output_type": "stream",
          "name": "stdout",
          "text": [
            "before return\n"
          ]
        },
        {
          "output_type": "execute_result",
          "data": {
            "text/plain": [
              "1"
            ]
          },
          "metadata": {},
          "execution_count": 29
        }
      ]
    },
    {
      "cell_type": "code",
      "source": [
        "'''\n",
        "is a multiline\n",
        "comment\n",
        "'''"
      ],
      "metadata": {
        "id": "XcjcBK5veJbl"
      },
      "execution_count": null,
      "outputs": []
    },
    {
      "cell_type": "code",
      "source": [
        "def random():\n",
        "    return True\n",
        "\n",
        "random()"
      ],
      "metadata": {
        "colab": {
          "base_uri": "https://localhost:8080/"
        },
        "id": "YgrEsYtweJXi",
        "outputId": "1489958e-2346-4c27-86d5-e80fd5c107f8"
      },
      "execution_count": 31,
      "outputs": [
        {
          "output_type": "execute_result",
          "data": {
            "text/plain": [
              "True"
            ]
          },
          "metadata": {},
          "execution_count": 31
        }
      ]
    },
    {
      "cell_type": "code",
      "source": [
        "def random2():\n",
        "  print(\"this is random2\")\n",
        "\n",
        "def random1():\n",
        "  print(\"inside random1\")\n",
        "  return random2()\n",
        "\n",
        "random1()"
      ],
      "metadata": {
        "colab": {
          "base_uri": "https://localhost:8080/"
        },
        "id": "NiYYM7TxeJTJ",
        "outputId": "bafd92e3-2d2d-4111-9ce9-dff5a2563359"
      },
      "execution_count": 33,
      "outputs": [
        {
          "output_type": "stream",
          "name": "stdout",
          "text": [
            "inside random1\n",
            "this is random2\n"
          ]
        }
      ]
    },
    {
      "cell_type": "code",
      "source": [
        "def introduce_family(my_name, sibling_name, father_name, mother_name):\n",
        "    print(\"My name is\", my_name)\n",
        "    print(\"My sibling's name is\", sibling_name)\n",
        "    print(\"My father's name is\", father_name)\n",
        "    print(\"My mother's name is\", mother_name)\n",
        "\n",
        "\n",
        "introduce_family(\"Bully Kara\", \"Brad Pitt\", \"Angelina Jolie\", \"Stormi\")"
      ],
      "metadata": {
        "colab": {
          "base_uri": "https://localhost:8080/"
        },
        "id": "ldDUfI-YeJOs",
        "outputId": "2be67deb-7773-4a2e-8108-a4bf4971cc08"
      },
      "execution_count": 34,
      "outputs": [
        {
          "output_type": "stream",
          "name": "stdout",
          "text": [
            "My name is Bully Kara\n",
            "My sibling's name is Brad Pitt\n",
            "My father's name is Angelina Jolie\n",
            "My mother's name is Stormi\n"
          ]
        }
      ]
    },
    {
      "cell_type": "code",
      "source": [
        "# KEYWORDED ARGUMENTS\n",
        "\n",
        "introduce_family(father_name = \"Brad Pitt\", mother_name = \"Angelina Jolie\", my_name = \"Bully Kara\", sibling_name = \"Stormi\")"
      ],
      "metadata": {
        "colab": {
          "base_uri": "https://localhost:8080/"
        },
        "id": "mWbG7dNPeJKk",
        "outputId": "74208bd2-d4ce-4ea0-f00b-9ff66bb9612f"
      },
      "execution_count": 36,
      "outputs": [
        {
          "output_type": "stream",
          "name": "stdout",
          "text": [
            "My name is Bully Kara\n",
            "My sibling's name is Stormi\n",
            "My father's name is Brad Pitt\n",
            "My mother's name is Angelina Jolie\n"
          ]
        }
      ]
    },
    {
      "cell_type": "code",
      "source": [
        "def random(a, b, c, d):\n",
        "    print(\"a ->\", a)\n",
        "    print(\"b ->\", b)\n",
        "    print(\"c ->\", c)\n",
        "    print(\"d ->\", d)\n",
        "\n",
        "random(4,5,6,7)"
      ],
      "metadata": {
        "colab": {
          "base_uri": "https://localhost:8080/"
        },
        "id": "GosFSPsmeJGK",
        "outputId": "9811cc72-b19a-475c-ffea-0364e29c0826"
      },
      "execution_count": 38,
      "outputs": [
        {
          "output_type": "stream",
          "name": "stdout",
          "text": [
            "a -> 4\n",
            "b -> 5\n",
            "c -> 6\n",
            "d -> 7\n"
          ]
        }
      ]
    },
    {
      "cell_type": "code",
      "source": [
        "random(b = 7, d = 5, a = 6, c = 9)"
      ],
      "metadata": {
        "colab": {
          "base_uri": "https://localhost:8080/"
        },
        "id": "iMJah5teiWOn",
        "outputId": "2fc909af-1253-4268-f302-f6a5ff816ed3"
      },
      "execution_count": 39,
      "outputs": [
        {
          "output_type": "stream",
          "name": "stdout",
          "text": [
            "a -> 6\n",
            "b -> 7\n",
            "c -> 9\n",
            "d -> 5\n"
          ]
        }
      ]
    },
    {
      "cell_type": "code",
      "source": [
        "random(b = 6, c = 7, d = 9, 5)\n",
        "# Passing a positional argument after a key worded argument is not allowed"
      ],
      "metadata": {
        "colab": {
          "base_uri": "https://localhost:8080/",
          "height": 130
        },
        "id": "3VQXRKxXiWJi",
        "outputId": "079f5448-cec9-48a9-e4ea-527fc3b2791b"
      },
      "execution_count": 40,
      "outputs": [
        {
          "output_type": "error",
          "ename": "SyntaxError",
          "evalue": "ignored",
          "traceback": [
            "\u001b[0;36m  File \u001b[0;32m\"<ipython-input-40-8af90aa3c141>\"\u001b[0;36m, line \u001b[0;32m1\u001b[0m\n\u001b[0;31m    random(b = 6, c = 7, d = 9, 5)\u001b[0m\n\u001b[0m                                 ^\u001b[0m\n\u001b[0;31mSyntaxError\u001b[0m\u001b[0;31m:\u001b[0m positional argument follows keyword argument\n"
          ]
        }
      ]
    },
    {
      "cell_type": "code",
      "source": [
        "# def random(a, b, c, d):\n",
        "random(4, 5, d = 6, c = 7)"
      ],
      "metadata": {
        "colab": {
          "base_uri": "https://localhost:8080/"
        },
        "id": "VhPIoEwliWFS",
        "outputId": "a2b05016-ae57-4611-d4f5-4bca86133c4c"
      },
      "execution_count": 41,
      "outputs": [
        {
          "output_type": "stream",
          "name": "stdout",
          "text": [
            "a -> 4\n",
            "b -> 5\n",
            "c -> 7\n",
            "d -> 6\n"
          ]
        }
      ]
    },
    {
      "cell_type": "code",
      "source": [
        "random(4, 6, a=3, d=1)"
      ],
      "metadata": {
        "colab": {
          "base_uri": "https://localhost:8080/",
          "height": 165
        },
        "id": "DqJdYiu-iWBA",
        "outputId": "1998ff31-389f-4484-c425-0a16dfd06386"
      },
      "execution_count": 42,
      "outputs": [
        {
          "output_type": "error",
          "ename": "TypeError",
          "evalue": "ignored",
          "traceback": [
            "\u001b[0;31m---------------------------------------------------------------------------\u001b[0m",
            "\u001b[0;31mTypeError\u001b[0m                                 Traceback (most recent call last)",
            "\u001b[0;32m<ipython-input-42-d54b0d381bfa>\u001b[0m in \u001b[0;36m<cell line: 1>\u001b[0;34m()\u001b[0m\n\u001b[0;32m----> 1\u001b[0;31m \u001b[0mrandom\u001b[0m\u001b[0;34m(\u001b[0m\u001b[0;36m4\u001b[0m\u001b[0;34m,\u001b[0m \u001b[0;36m6\u001b[0m\u001b[0;34m,\u001b[0m \u001b[0ma\u001b[0m\u001b[0;34m=\u001b[0m\u001b[0;36m3\u001b[0m\u001b[0;34m,\u001b[0m \u001b[0md\u001b[0m\u001b[0;34m=\u001b[0m\u001b[0;36m1\u001b[0m\u001b[0;34m)\u001b[0m\u001b[0;34m\u001b[0m\u001b[0;34m\u001b[0m\u001b[0m\n\u001b[0m",
            "\u001b[0;31mTypeError\u001b[0m: random() got multiple values for argument 'a'"
          ]
        }
      ]
    },
    {
      "cell_type": "code",
      "source": [
        "def simple_interest(p, r, t = 2): # default arguments\n",
        "    interest = (p*r*t) / 100\n",
        "\n",
        "    return interest\n",
        "\n",
        "simple_interest(5000, 2)"
      ],
      "metadata": {
        "colab": {
          "base_uri": "https://localhost:8080/"
        },
        "id": "8J8fEJ6XiV8w",
        "outputId": "66326d1a-8058-49ef-cc22-13690c73bec1"
      },
      "execution_count": 43,
      "outputs": [
        {
          "output_type": "execute_result",
          "data": {
            "text/plain": [
              "200.0"
            ]
          },
          "metadata": {},
          "execution_count": 43
        }
      ]
    },
    {
      "cell_type": "code",
      "source": [
        "def simple_interest(p, r = 5, t = 2):\n",
        "    interest = (p*r*t) / 100\n",
        "\n",
        "    return interest\n",
        "\n",
        "# All arguments after a default argument should also have default values\n",
        "\n",
        "simple_interest(5000)"
      ],
      "metadata": {
        "colab": {
          "base_uri": "https://localhost:8080/"
        },
        "id": "cT-BFwjbiV3p",
        "outputId": "77d2353f-69a1-44c8-a86d-ac6b87b1306b"
      },
      "execution_count": 44,
      "outputs": [
        {
          "output_type": "execute_result",
          "data": {
            "text/plain": [
              "500.0"
            ]
          },
          "metadata": {},
          "execution_count": 44
        }
      ]
    },
    {
      "cell_type": "code",
      "source": [
        "chief_of_house = \"Mother\" # global variable\n",
        "\n",
        "print(\"Chief of house is -\", chief_of_house)\n",
        "\n",
        "def change_chief():\n",
        "    chief_of_house = \"Father\" # local variable\n",
        "    print(\"New chief of house is -\", chief_of_house)\n",
        "\n",
        "change_chief()"
      ],
      "metadata": {
        "colab": {
          "base_uri": "https://localhost:8080/"
        },
        "id": "w4vywh0-iVzY",
        "outputId": "bf2a0020-4d33-4865-8192-285a627ef5fb"
      },
      "execution_count": 45,
      "outputs": [
        {
          "output_type": "stream",
          "name": "stdout",
          "text": [
            "Chief of house is - Mother\n",
            "New chief of house is - Father\n"
          ]
        }
      ]
    },
    {
      "cell_type": "code",
      "source": [
        "print(chief_of_house)"
      ],
      "metadata": {
        "colab": {
          "base_uri": "https://localhost:8080/"
        },
        "id": "G3W1PaskiVsF",
        "outputId": "9c475999-76db-4aa7-fa49-0abbef1e06b9"
      },
      "execution_count": 46,
      "outputs": [
        {
          "output_type": "stream",
          "name": "stdout",
          "text": [
            "Mother\n"
          ]
        }
      ]
    },
    {
      "cell_type": "code",
      "source": [
        "a = 10\n",
        "\n",
        "def random():\n",
        "    global a\n",
        "\n",
        "    a = 20\n",
        "    print(a)\n",
        "\n",
        "random()\n",
        "print(a)"
      ],
      "metadata": {
        "colab": {
          "base_uri": "https://localhost:8080/"
        },
        "id": "8nSMDVDJiVnk",
        "outputId": "bc5d9a96-55a7-4e6d-aaba-7e00fcc3309e"
      },
      "execution_count": 47,
      "outputs": [
        {
          "output_type": "stream",
          "name": "stdout",
          "text": [
            "20\n",
            "20\n"
          ]
        }
      ]
    },
    {
      "cell_type": "code",
      "source": [
        "round(4.5)"
      ],
      "metadata": {
        "colab": {
          "base_uri": "https://localhost:8080/"
        },
        "id": "NQInizTPiVgj",
        "outputId": "3d0ffc0a-516e-402d-f074-ac75505e471f"
      },
      "execution_count": 50,
      "outputs": [
        {
          "output_type": "execute_result",
          "data": {
            "text/plain": [
              "4"
            ]
          },
          "metadata": {},
          "execution_count": 50
        }
      ]
    },
    {
      "cell_type": "code",
      "source": [
        "# List"
      ],
      "metadata": {
        "id": "OG5TzYsSlPBx"
      },
      "execution_count": null,
      "outputs": []
    },
    {
      "cell_type": "code",
      "source": [
        "# create a list -> []\n",
        "runs_virat = [67, 54, 12, 34, 77, 89, 101]\n",
        "\n",
        "# there is no limit to how many values you can store in a list\n",
        "\n",
        "runs_virat"
      ],
      "metadata": {
        "colab": {
          "base_uri": "https://localhost:8080/"
        },
        "id": "CUld7EsklO84",
        "outputId": "ba171e0a-4949-49e4-a16d-684b62d47c06"
      },
      "execution_count": 51,
      "outputs": [
        {
          "output_type": "execute_result",
          "data": {
            "text/plain": [
              "[67, 54, 12, 34, 77, 89, 101]"
            ]
          },
          "metadata": {},
          "execution_count": 51
        }
      ]
    },
    {
      "cell_type": "code",
      "source": [
        "type(runs_virat)"
      ],
      "metadata": {
        "colab": {
          "base_uri": "https://localhost:8080/"
        },
        "id": "RFCGj2DHlO4Q",
        "outputId": "0782d5ff-7313-432a-b2ca-fe3217476e93"
      },
      "execution_count": 52,
      "outputs": [
        {
          "output_type": "execute_result",
          "data": {
            "text/plain": [
              "list"
            ]
          },
          "metadata": {},
          "execution_count": 52
        }
      ]
    },
    {
      "cell_type": "code",
      "source": [
        "# Values in lists are accessbile using indexes\n",
        "# Indexes start at 0"
      ],
      "metadata": {
        "id": "t11u3sfAlOz4"
      },
      "execution_count": null,
      "outputs": []
    },
    {
      "cell_type": "code",
      "source": [
        "runs_virat[2]"
      ],
      "metadata": {
        "colab": {
          "base_uri": "https://localhost:8080/"
        },
        "id": "SoME9nxgmIhr",
        "outputId": "2eaccf5c-9b96-497a-9609-206d0d6db9aa"
      },
      "execution_count": 53,
      "outputs": [
        {
          "output_type": "execute_result",
          "data": {
            "text/plain": [
              "12"
            ]
          },
          "metadata": {},
          "execution_count": 53
        }
      ]
    },
    {
      "cell_type": "code",
      "source": [
        "a = [4,-2,7,8,9,10,1]\n",
        "len(a)"
      ],
      "metadata": {
        "colab": {
          "base_uri": "https://localhost:8080/"
        },
        "id": "zYpMHW9SmIcw",
        "outputId": "9ea39a42-c677-47df-9f0a-4fb96871dae4"
      },
      "execution_count": 54,
      "outputs": [
        {
          "output_type": "execute_result",
          "data": {
            "text/plain": [
              "7"
            ]
          },
          "metadata": {},
          "execution_count": 54
        }
      ]
    },
    {
      "cell_type": "code",
      "source": [
        "# NEGATIVE INDEXING\n",
        "runs_virat[-1]      # last element"
      ],
      "metadata": {
        "colab": {
          "base_uri": "https://localhost:8080/"
        },
        "id": "UFnWVa-hmIXl",
        "outputId": "b4d9ab19-7399-4618-f7a9-542687655601"
      },
      "execution_count": 55,
      "outputs": [
        {
          "output_type": "execute_result",
          "data": {
            "text/plain": [
              "101"
            ]
          },
          "metadata": {},
          "execution_count": 55
        }
      ]
    },
    {
      "cell_type": "code",
      "source": [
        "runs_virat[-n]     # first element"
      ],
      "metadata": {
        "id": "hkRhzmfOmISe"
      },
      "execution_count": null,
      "outputs": []
    },
    {
      "cell_type": "code",
      "source": [
        "runs_virat"
      ],
      "metadata": {
        "colab": {
          "base_uri": "https://localhost:8080/"
        },
        "id": "CPKScUSumIM9",
        "outputId": "2d7d6a2e-1e12-453f-cb16-e2114a8ff596"
      },
      "execution_count": 56,
      "outputs": [
        {
          "output_type": "execute_result",
          "data": {
            "text/plain": [
              "[67, 54, 12, 34, 77, 89, 101]"
            ]
          },
          "metadata": {},
          "execution_count": 56
        }
      ]
    },
    {
      "cell_type": "code",
      "source": [
        "# Methods -> Special Functions of Python Objects"
      ],
      "metadata": {
        "id": "0lwLXkkYmIHH"
      },
      "execution_count": null,
      "outputs": []
    },
    {
      "cell_type": "code",
      "source": [
        "runs = [67, 54, 12, 34, 77, 89, 101]\n",
        "\n",
        "# Append\n",
        "\n",
        "runs.append(71)"
      ],
      "metadata": {
        "id": "iU1gjV8RlOvG"
      },
      "execution_count": 61,
      "outputs": []
    },
    {
      "cell_type": "code",
      "source": [
        "runs"
      ],
      "metadata": {
        "colab": {
          "base_uri": "https://localhost:8080/"
        },
        "id": "RAdulymJlOod",
        "outputId": "8dd605b1-1548-4fda-8f86-9030dc24d869"
      },
      "execution_count": 58,
      "outputs": [
        {
          "output_type": "execute_result",
          "data": {
            "text/plain": [
              "[67, 54, 12, 34, 77, 89, 101, 71]"
            ]
          },
          "metadata": {},
          "execution_count": 58
        }
      ]
    },
    {
      "cell_type": "code",
      "source": [
        "# Insert\n",
        "runs.insert(0, 100)\n",
        "runs"
      ],
      "metadata": {
        "colab": {
          "base_uri": "https://localhost:8080/"
        },
        "id": "e72vKJQ2lOhP",
        "outputId": "be0c1b9d-c7b7-42f7-947a-2539864f279b"
      },
      "execution_count": 62,
      "outputs": [
        {
          "output_type": "execute_result",
          "data": {
            "text/plain": [
              "[100, 67, 54, 12, 34, 77, 89, 101, 71]"
            ]
          },
          "metadata": {},
          "execution_count": 62
        }
      ]
    },
    {
      "cell_type": "code",
      "source": [
        "a = [1, 3, 5]\n",
        "a.append([8, 9]) # nested list"
      ],
      "metadata": {
        "id": "r_HSALDAlOb8"
      },
      "execution_count": 64,
      "outputs": []
    },
    {
      "cell_type": "code",
      "source": [
        "a"
      ],
      "metadata": {
        "colab": {
          "base_uri": "https://localhost:8080/"
        },
        "id": "PBjrBB3molar",
        "outputId": "ee8c3eb8-ead1-45e9-b9aa-84fe5c24fb66"
      },
      "execution_count": 65,
      "outputs": [
        {
          "output_type": "execute_result",
          "data": {
            "text/plain": [
              "[1, 3, 5, [8, 9]]"
            ]
          },
          "metadata": {},
          "execution_count": 65
        }
      ]
    },
    {
      "cell_type": "code",
      "source": [
        "a = [1, 33, 52]\n",
        "a.extend([45, 67])    # Extend\n",
        "print(a)"
      ],
      "metadata": {
        "colab": {
          "base_uri": "https://localhost:8080/"
        },
        "id": "WGmZPZaTolVY",
        "outputId": "bc755ed9-3704-47b0-c637-9b61b1e310bc"
      },
      "execution_count": 66,
      "outputs": [
        {
          "output_type": "stream",
          "name": "stdout",
          "text": [
            "[1, 33, 52, 45, 67]\n"
          ]
        }
      ]
    },
    {
      "cell_type": "code",
      "source": [
        "'''\n",
        "Append -> Add one value to the end\n",
        "Insert -> Add a value at any index of choie\n",
        "Extend -> Append multiple values at the end\n",
        "'''"
      ],
      "metadata": {
        "id": "T9lFWRCTolQl"
      },
      "execution_count": null,
      "outputs": []
    },
    {
      "cell_type": "code",
      "source": [
        "runs"
      ],
      "metadata": {
        "colab": {
          "base_uri": "https://localhost:8080/"
        },
        "id": "0EqlGnfqolLm",
        "outputId": "ce110c97-a518-4c31-f877-08d9c1ed366e"
      },
      "execution_count": 68,
      "outputs": [
        {
          "output_type": "execute_result",
          "data": {
            "text/plain": [
              "[100, 67, 54, 12, 34, 77, 89, 101, 71]"
            ]
          },
          "metadata": {},
          "execution_count": 68
        }
      ]
    },
    {
      "cell_type": "code",
      "source": [
        "runs = runs + [89, 102, 64] # this works exactly like extend"
      ],
      "metadata": {
        "id": "fH3mSlIFolGv"
      },
      "execution_count": 69,
      "outputs": []
    },
    {
      "cell_type": "code",
      "source": [
        "runs"
      ],
      "metadata": {
        "colab": {
          "base_uri": "https://localhost:8080/"
        },
        "id": "v8V3g3QvolA7",
        "outputId": "25067738-f1d9-455f-9760-518dac6475e3"
      },
      "execution_count": 70,
      "outputs": [
        {
          "output_type": "execute_result",
          "data": {
            "text/plain": [
              "[100, 67, 54, 12, 34, 77, 89, 101, 71, 89, 102, 64]"
            ]
          },
          "metadata": {},
          "execution_count": 70
        }
      ]
    },
    {
      "cell_type": "code",
      "source": [
        "runs = runs + [45] # this works exactly like append\n",
        "runs"
      ],
      "metadata": {
        "colab": {
          "base_uri": "https://localhost:8080/"
        },
        "id": "0cL3fQDLpHyb",
        "outputId": "836a0694-478d-4b83-b63e-d37bb62346dc"
      },
      "execution_count": 71,
      "outputs": [
        {
          "output_type": "execute_result",
          "data": {
            "text/plain": [
              "[100, 67, 54, 12, 34, 77, 89, 101, 71, 89, 102, 64, 45]"
            ]
          },
          "metadata": {},
          "execution_count": 71
        }
      ]
    },
    {
      "cell_type": "code",
      "source": [
        "b = [1,2,3] + [4,5,6]\n",
        "b"
      ],
      "metadata": {
        "colab": {
          "base_uri": "https://localhost:8080/"
        },
        "id": "ZnGuafVQpHpi",
        "outputId": "f45a728b-da67-4fb5-d04c-54f3aa782df2"
      },
      "execution_count": 72,
      "outputs": [
        {
          "output_type": "execute_result",
          "data": {
            "text/plain": [
              "[1, 2, 3, 4, 5, 6]"
            ]
          },
          "metadata": {},
          "execution_count": 72
        }
      ]
    },
    {
      "cell_type": "code",
      "source": [
        "a = [4,5,6,7,8]\n",
        "for i in a :\n",
        "  print(i)"
      ],
      "metadata": {
        "colab": {
          "base_uri": "https://localhost:8080/"
        },
        "id": "4FmwwM6MpHgA",
        "outputId": "a187635a-c047-4421-c34a-605758f55904"
      },
      "execution_count": 74,
      "outputs": [
        {
          "output_type": "stream",
          "name": "stdout",
          "text": [
            "4\n",
            "5\n",
            "6\n",
            "7\n",
            "8\n"
          ]
        }
      ]
    },
    {
      "cell_type": "code",
      "source": [
        "n = len(a)\n",
        "for i in range(n):\n",
        "  print(a[i])"
      ],
      "metadata": {
        "colab": {
          "base_uri": "https://localhost:8080/"
        },
        "id": "z8mjvFVkpHa-",
        "outputId": "8bc0c356-2465-4d9a-f41d-3a2cdccbb2e0"
      },
      "execution_count": 76,
      "outputs": [
        {
          "output_type": "stream",
          "name": "stdout",
          "text": [
            "4\n",
            "5\n",
            "6\n",
            "7\n",
            "8\n"
          ]
        }
      ]
    },
    {
      "cell_type": "code",
      "source": [
        "i = 0\n",
        "\n",
        "while i < len(a):\n",
        "    print(a[i])\n",
        "    i += 1"
      ],
      "metadata": {
        "colab": {
          "base_uri": "https://localhost:8080/"
        },
        "id": "Ep3dxi8ipHV-",
        "outputId": "fdf5e1fc-c142-427b-ab28-289cf5960188"
      },
      "execution_count": 77,
      "outputs": [
        {
          "output_type": "stream",
          "name": "stdout",
          "text": [
            "4\n",
            "5\n",
            "6\n",
            "7\n",
            "8\n"
          ]
        }
      ]
    },
    {
      "cell_type": "code",
      "source": [
        "sum(runs_virat)"
      ],
      "metadata": {
        "colab": {
          "base_uri": "https://localhost:8080/"
        },
        "id": "PIhHvsLWpHP_",
        "outputId": "8f3d59bb-88ec-408c-f341-413b4fc98ffc"
      },
      "execution_count": 78,
      "outputs": [
        {
          "output_type": "execute_result",
          "data": {
            "text/plain": [
              "434"
            ]
          },
          "metadata": {},
          "execution_count": 78
        }
      ]
    },
    {
      "cell_type": "code",
      "source": [
        "max(runs_virat)"
      ],
      "metadata": {
        "colab": {
          "base_uri": "https://localhost:8080/"
        },
        "id": "hsuaxoJhpHKz",
        "outputId": "1630fed6-ffbf-4627-cee2-33ce2af52011"
      },
      "execution_count": 79,
      "outputs": [
        {
          "output_type": "execute_result",
          "data": {
            "text/plain": [
              "101"
            ]
          },
          "metadata": {},
          "execution_count": 79
        }
      ]
    },
    {
      "cell_type": "code",
      "source": [
        "min(runs_virat)\n"
      ],
      "metadata": {
        "colab": {
          "base_uri": "https://localhost:8080/"
        },
        "id": "qWF3IMKspHEz",
        "outputId": "7c8252b5-4755-40e4-fec8-6c33ec14e560"
      },
      "execution_count": 80,
      "outputs": [
        {
          "output_type": "execute_result",
          "data": {
            "text/plain": [
              "12"
            ]
          },
          "metadata": {},
          "execution_count": 80
        }
      ]
    },
    {
      "cell_type": "code",
      "source": [
        "sum(runs_virat)/len(runs_virat)"
      ],
      "metadata": {
        "colab": {
          "base_uri": "https://localhost:8080/"
        },
        "id": "gN7dsTSCsaMr",
        "outputId": "889e5411-bcb0-40db-ffa1-b5c68d38d32d"
      },
      "execution_count": 81,
      "outputs": [
        {
          "output_type": "execute_result",
          "data": {
            "text/plain": [
              "62.0"
            ]
          },
          "metadata": {},
          "execution_count": 81
        }
      ]
    },
    {
      "cell_type": "code",
      "source": [
        "a"
      ],
      "metadata": {
        "colab": {
          "base_uri": "https://localhost:8080/"
        },
        "id": "Fqtwmfy2saHg",
        "outputId": "2c87d429-f142-4028-9f66-22999262e248"
      },
      "execution_count": 82,
      "outputs": [
        {
          "output_type": "execute_result",
          "data": {
            "text/plain": [
              "[4, 5, 6, 7, 8]"
            ]
          },
          "metadata": {},
          "execution_count": 82
        }
      ]
    },
    {
      "cell_type": "code",
      "source": [
        "# Two ways to delete elements from a list\n",
        "a.pop(2) # pop elements using indexes"
      ],
      "metadata": {
        "colab": {
          "base_uri": "https://localhost:8080/"
        },
        "id": "6s5XqMMwsaCI",
        "outputId": "7ab5b8eb-0b34-4a63-ab45-dac6150c1b34"
      },
      "execution_count": 83,
      "outputs": [
        {
          "output_type": "execute_result",
          "data": {
            "text/plain": [
              "6"
            ]
          },
          "metadata": {},
          "execution_count": 83
        }
      ]
    },
    {
      "cell_type": "code",
      "source": [
        "a"
      ],
      "metadata": {
        "colab": {
          "base_uri": "https://localhost:8080/"
        },
        "id": "q70h-pq4sZ5m",
        "outputId": "f67ab81d-b497-4bc8-81ea-da79d152976b"
      },
      "execution_count": 84,
      "outputs": [
        {
          "output_type": "execute_result",
          "data": {
            "text/plain": [
              "[4, 5, 7, 8]"
            ]
          },
          "metadata": {},
          "execution_count": 84
        }
      ]
    },
    {
      "cell_type": "code",
      "source": [
        "a.pop() # will pop the last element by default"
      ],
      "metadata": {
        "colab": {
          "base_uri": "https://localhost:8080/"
        },
        "id": "AnAb1yrssZzU",
        "outputId": "04bada18-071f-49fd-dbfe-4822618fa877"
      },
      "execution_count": 85,
      "outputs": [
        {
          "output_type": "execute_result",
          "data": {
            "text/plain": [
              "8"
            ]
          },
          "metadata": {},
          "execution_count": 85
        }
      ]
    },
    {
      "cell_type": "code",
      "source": [
        "a.remove(5) # remove the first occurence of a given element from the list"
      ],
      "metadata": {
        "id": "mA-T0c7zsZt7"
      },
      "execution_count": 86,
      "outputs": []
    },
    {
      "cell_type": "code",
      "source": [
        "a"
      ],
      "metadata": {
        "colab": {
          "base_uri": "https://localhost:8080/"
        },
        "id": "J0oJVB53sZoX",
        "outputId": "475420aa-038a-405e-a9d1-b7e3a72aacde"
      },
      "execution_count": 87,
      "outputs": [
        {
          "output_type": "execute_result",
          "data": {
            "text/plain": [
              "[4, 7]"
            ]
          },
          "metadata": {},
          "execution_count": 87
        }
      ]
    },
    {
      "cell_type": "code",
      "source": [
        "a = [\"paramesh\", 56, 89.9, True, [1,2,34]]\n",
        "# A list is a heterogeneous collection of values"
      ],
      "metadata": {
        "id": "6Ggx0MPatPyb"
      },
      "execution_count": 88,
      "outputs": []
    },
    {
      "cell_type": "code",
      "source": [
        "a[4]"
      ],
      "metadata": {
        "colab": {
          "base_uri": "https://localhost:8080/"
        },
        "id": "coGiK6gTtPr8",
        "outputId": "fa525908-e26a-4d4a-b3f2-dcea19a8ff3e"
      },
      "execution_count": 89,
      "outputs": [
        {
          "output_type": "execute_result",
          "data": {
            "text/plain": [
              "[1, 2, 34]"
            ]
          },
          "metadata": {},
          "execution_count": 89
        }
      ]
    },
    {
      "cell_type": "code",
      "source": [
        "type(a[4])"
      ],
      "metadata": {
        "colab": {
          "base_uri": "https://localhost:8080/"
        },
        "id": "6ED6guiBtUof",
        "outputId": "29e18f7d-4a9c-43bc-9333-fef883d8bda0"
      },
      "execution_count": 90,
      "outputs": [
        {
          "output_type": "execute_result",
          "data": {
            "text/plain": [
              "list"
            ]
          },
          "metadata": {},
          "execution_count": 90
        }
      ]
    },
    {
      "cell_type": "code",
      "source": [
        "a = []\n",
        "\n",
        "for i in range(5):\n",
        "    value = input()\n",
        "    a.append(value)\n",
        "\n",
        "print(a)"
      ],
      "metadata": {
        "colab": {
          "base_uri": "https://localhost:8080/"
        },
        "id": "Ys6Jh9ohtUgI",
        "outputId": "c211d5a6-1180-4739-e2c3-82e6b81a1053"
      },
      "execution_count": 91,
      "outputs": [
        {
          "output_type": "stream",
          "name": "stdout",
          "text": [
            "4\n",
            "2\n",
            "7\n",
            "1\n",
            "7\n",
            "['4', '2', '7', '1', '7']\n"
          ]
        }
      ]
    },
    {
      "cell_type": "code",
      "source": [
        "value = '5 6 7 8 9 10 20 50'\n",
        "values = value.split()"
      ],
      "metadata": {
        "id": "hIuvUWgVtUZg"
      },
      "execution_count": 103,
      "outputs": []
    },
    {
      "cell_type": "code",
      "source": [
        "values"
      ],
      "metadata": {
        "colab": {
          "base_uri": "https://localhost:8080/"
        },
        "id": "22fjnUHEtUTj",
        "outputId": "734df1c0-ddcf-4aeb-b48d-34ea36b5a1c4"
      },
      "execution_count": 100,
      "outputs": [
        {
          "output_type": "execute_result",
          "data": {
            "text/plain": [
              "['5', '6', '7', '8', '9', '10', '20', '50']"
            ]
          },
          "metadata": {},
          "execution_count": 100
        }
      ]
    },
    {
      "cell_type": "code",
      "source": [
        "for i in range(len(values)):\n",
        "    values[i] = int(values[i])"
      ],
      "metadata": {
        "id": "Si2Xtxd8tPk6"
      },
      "execution_count": 110,
      "outputs": []
    },
    {
      "cell_type": "code",
      "source": [
        "values"
      ],
      "metadata": {
        "colab": {
          "base_uri": "https://localhost:8080/"
        },
        "id": "ttPI6fdmu6bA",
        "outputId": "25930ff3-b161-4840-c32b-bf444ab7dc49"
      },
      "execution_count": 111,
      "outputs": [
        {
          "output_type": "execute_result",
          "data": {
            "text/plain": [
              "[5, 6, 7, 8, 9, 10, 20, 50]"
            ]
          },
          "metadata": {},
          "execution_count": 111
        }
      ]
    },
    {
      "cell_type": "code",
      "source": [
        "values[0] = 23\n",
        "values    # list is mutable"
      ],
      "metadata": {
        "colab": {
          "base_uri": "https://localhost:8080/"
        },
        "id": "uqSP3_k1u6KL",
        "outputId": "18f944b0-93aa-4e3d-e268-b201dca782d8"
      },
      "execution_count": 112,
      "outputs": [
        {
          "output_type": "execute_result",
          "data": {
            "text/plain": [
              "[23, 6, 7, 8, 9, 10, 20, 50]"
            ]
          },
          "metadata": {},
          "execution_count": 112
        }
      ]
    },
    {
      "cell_type": "code",
      "source": [
        "# math\n",
        "import math\n",
        "result = math.sqrt(5)\n",
        "print(result)"
      ],
      "metadata": {
        "colab": {
          "base_uri": "https://localhost:8080/"
        },
        "id": "0Hb3cI8evFkK",
        "outputId": "f7f05ec7-ed93-49b1-e843-4413cdbbb83d"
      },
      "execution_count": 113,
      "outputs": [
        {
          "output_type": "stream",
          "name": "stdout",
          "text": [
            "2.23606797749979\n"
          ]
        }
      ]
    },
    {
      "cell_type": "code",
      "source": [
        "print(math.log(10))"
      ],
      "metadata": {
        "colab": {
          "base_uri": "https://localhost:8080/"
        },
        "id": "-EtRiKl1w2Qk",
        "outputId": "3030744e-4618-4438-be11-898f85207295"
      },
      "execution_count": 114,
      "outputs": [
        {
          "output_type": "stream",
          "name": "stdout",
          "text": [
            "2.302585092994046\n"
          ]
        }
      ]
    },
    {
      "cell_type": "code",
      "source": [
        "math.log2(10)"
      ],
      "metadata": {
        "colab": {
          "base_uri": "https://localhost:8080/"
        },
        "id": "FtTbPcOZw2ID",
        "outputId": "29341192-0601-4ba4-a04b-cd18e740f83c"
      },
      "execution_count": 115,
      "outputs": [
        {
          "output_type": "execute_result",
          "data": {
            "text/plain": [
              "3.321928094887362"
            ]
          },
          "metadata": {},
          "execution_count": 115
        }
      ]
    },
    {
      "cell_type": "code",
      "source": [
        "# list slicing"
      ],
      "metadata": {
        "id": "mD2_Og55y4RW"
      },
      "execution_count": null,
      "outputs": []
    },
    {
      "cell_type": "code",
      "source": [
        "runs = [62, 85, 71, 10, 12, 101, 122, 99, 81, 55]"
      ],
      "metadata": {
        "id": "RKmNs25ky8ZF"
      },
      "execution_count": 116,
      "outputs": []
    },
    {
      "cell_type": "code",
      "source": [
        "# Given a list of all runs, print runs made in odd numbered matches.\n",
        "\n",
        "for i in range( len(runs)):\n",
        "  if (i%2 == 0):\n",
        "     print(runs[i] ,end=\" \")\n",
        ""
      ],
      "metadata": {
        "colab": {
          "base_uri": "https://localhost:8080/"
        },
        "id": "pr_wPSKCy_gn",
        "outputId": "eb191eb5-51be-4893-b7d1-a1c17a38c0b7"
      },
      "execution_count": 126,
      "outputs": [
        {
          "output_type": "stream",
          "name": "stdout",
          "text": [
            "62 71 12 122 81 "
          ]
        }
      ]
    },
    {
      "cell_type": "code",
      "source": [
        "result = []\n",
        "for i in range(0, len(runs), 2):\n",
        "    result.append(str(runs[i]))\n",
        "\n",
        "print(result)"
      ],
      "metadata": {
        "colab": {
          "base_uri": "https://localhost:8080/"
        },
        "id": "6RaW8ng4y_aP",
        "outputId": "b8c59842-abfd-455e-a0f5-a5cf26d9da63"
      },
      "execution_count": 127,
      "outputs": [
        {
          "output_type": "stream",
          "name": "stdout",
          "text": [
            "['62', '71', '12', '122', '81']\n"
          ]
        }
      ]
    },
    {
      "cell_type": "code",
      "source": [
        "\",\".join(result)  # delimiter_string.join(iterable-list, tuple, string)"
      ],
      "metadata": {
        "colab": {
          "base_uri": "https://localhost:8080/",
          "height": 35
        },
        "id": "UXtE10cWy_UB",
        "outputId": "edaa5fc1-a9b0-4adc-ad87-fd965b3d5650"
      },
      "execution_count": 128,
      "outputs": [
        {
          "output_type": "execute_result",
          "data": {
            "text/plain": [
              "'62,71,12,122,81'"
            ],
            "application/vnd.google.colaboratory.intrinsic+json": {
              "type": "string"
            }
          },
          "metadata": {},
          "execution_count": 128
        }
      ]
    },
    {
      "cell_type": "code",
      "source": [
        "print(\",\".join(result) )"
      ],
      "metadata": {
        "colab": {
          "base_uri": "https://localhost:8080/"
        },
        "id": "XKsUZrIYy_M9",
        "outputId": "f06e7617-9d37-434d-cb5b-f3134bf0be46"
      },
      "execution_count": 133,
      "outputs": [
        {
          "output_type": "stream",
          "name": "stdout",
          "text": [
            "62,71,12,122,81\n"
          ]
        }
      ]
    },
    {
      "cell_type": "code",
      "source": [
        "runs"
      ],
      "metadata": {
        "colab": {
          "base_uri": "https://localhost:8080/"
        },
        "id": "qY6ct1L42siL",
        "outputId": "ed0c20ba-fb45-4508-9aa1-cf94c3764256"
      },
      "execution_count": 134,
      "outputs": [
        {
          "output_type": "execute_result",
          "data": {
            "text/plain": [
              "[62, 85, 71, 10, 12, 101, 122, 99, 81, 55]"
            ]
          },
          "metadata": {},
          "execution_count": 134
        }
      ]
    },
    {
      "cell_type": "code",
      "source": [
        "for i in range(len(runs)-1, -1, -1):\n",
        "    print(runs[i])"
      ],
      "metadata": {
        "colab": {
          "base_uri": "https://localhost:8080/"
        },
        "id": "pDcof4cd2sYP",
        "outputId": "cec46438-041e-41ab-b722-ef48e308587b"
      },
      "execution_count": 138,
      "outputs": [
        {
          "output_type": "stream",
          "name": "stdout",
          "text": [
            "55\n",
            "81\n",
            "99\n",
            "122\n",
            "101\n",
            "12\n",
            "10\n",
            "71\n",
            "85\n",
            "62\n"
          ]
        }
      ]
    },
    {
      "cell_type": "code",
      "source": [
        "runs[len(runs)-5:len(runs)]"
      ],
      "metadata": {
        "colab": {
          "base_uri": "https://localhost:8080/"
        },
        "id": "lO3XFjIMy_G5",
        "outputId": "5add0a50-d5fb-467c-f90f-40631d6804fb"
      },
      "execution_count": 139,
      "outputs": [
        {
          "output_type": "execute_result",
          "data": {
            "text/plain": [
              "[101, 122, 99, 81, 55]"
            ]
          },
          "metadata": {},
          "execution_count": 139
        }
      ]
    },
    {
      "cell_type": "code",
      "source": [
        "runs[:3] # automatically assumes start value to be zero"
      ],
      "metadata": {
        "colab": {
          "base_uri": "https://localhost:8080/"
        },
        "id": "OyPldzHb4NQq",
        "outputId": "2639e699-7abf-4e4c-daf0-7003043eb4e7"
      },
      "execution_count": 140,
      "outputs": [
        {
          "output_type": "execute_result",
          "data": {
            "text/plain": [
              "[62, 85, 71]"
            ]
          },
          "metadata": {},
          "execution_count": 140
        }
      ]
    },
    {
      "cell_type": "code",
      "source": [
        "runs[3:] # automatically assumes end value to be len(runs)"
      ],
      "metadata": {
        "colab": {
          "base_uri": "https://localhost:8080/"
        },
        "id": "aRYUWNoO4NKi",
        "outputId": "7e7f1286-d3ee-403d-c77c-5478992f6e29"
      },
      "execution_count": 141,
      "outputs": [
        {
          "output_type": "execute_result",
          "data": {
            "text/plain": [
              "[10, 12, 101, 122, 99, 81, 55]"
            ]
          },
          "metadata": {},
          "execution_count": 141
        }
      ]
    },
    {
      "cell_type": "code",
      "source": [
        "runs[2:400]"
      ],
      "metadata": {
        "colab": {
          "base_uri": "https://localhost:8080/"
        },
        "id": "dmQFqyD84NDi",
        "outputId": "2808e158-cfbc-45cb-c8ec-15a58af4cdba"
      },
      "execution_count": 142,
      "outputs": [
        {
          "output_type": "execute_result",
          "data": {
            "text/plain": [
              "[71, 10, 12, 101, 122, 99, 81, 55]"
            ]
          },
          "metadata": {},
          "execution_count": 142
        }
      ]
    },
    {
      "cell_type": "code",
      "source": [
        "runs[400] # list index out of range errors are automatically handled in list slicing"
      ],
      "metadata": {
        "colab": {
          "base_uri": "https://localhost:8080/",
          "height": 165
        },
        "id": "Fp5Ck5SK4M4z",
        "outputId": "91030c3c-7901-4955-f974-c056676421b8"
      },
      "execution_count": 143,
      "outputs": [
        {
          "output_type": "error",
          "ename": "IndexError",
          "evalue": "ignored",
          "traceback": [
            "\u001b[0;31m---------------------------------------------------------------------------\u001b[0m",
            "\u001b[0;31mIndexError\u001b[0m                                Traceback (most recent call last)",
            "\u001b[0;32m<ipython-input-143-894a1ae91a7d>\u001b[0m in \u001b[0;36m<cell line: 1>\u001b[0;34m()\u001b[0m\n\u001b[0;32m----> 1\u001b[0;31m \u001b[0mruns\u001b[0m\u001b[0;34m[\u001b[0m\u001b[0;36m400\u001b[0m\u001b[0;34m]\u001b[0m \u001b[0;31m# list index out of range errors are automatically handled in list slicing\u001b[0m\u001b[0;34m\u001b[0m\u001b[0;34m\u001b[0m\u001b[0m\n\u001b[0m",
            "\u001b[0;31mIndexError\u001b[0m: list index out of range"
          ]
        }
      ]
    },
    {
      "cell_type": "code",
      "source": [
        "runs[0:len(runs):2]  # here 2 is the step_count"
      ],
      "metadata": {
        "colab": {
          "base_uri": "https://localhost:8080/"
        },
        "id": "Jr2jX72_4My3",
        "outputId": "669494aa-8d9e-40a7-a320-0aa7d7634c70"
      },
      "execution_count": 144,
      "outputs": [
        {
          "output_type": "execute_result",
          "data": {
            "text/plain": [
              "[62, 71, 12, 122, 81]"
            ]
          },
          "metadata": {},
          "execution_count": 144
        }
      ]
    },
    {
      "cell_type": "code",
      "source": [
        "runs"
      ],
      "metadata": {
        "colab": {
          "base_uri": "https://localhost:8080/"
        },
        "id": "A5bPYz1uy_A-",
        "outputId": "a9313b94-bfd9-4794-9570-b949a29d738f"
      },
      "execution_count": 145,
      "outputs": [
        {
          "output_type": "execute_result",
          "data": {
            "text/plain": [
              "[62, 85, 71, 10, 12, 101, 122, 99, 81, 55]"
            ]
          },
          "metadata": {},
          "execution_count": 145
        }
      ]
    },
    {
      "cell_type": "code",
      "source": [
        "runs[:len(runs):2]"
      ],
      "metadata": {
        "colab": {
          "base_uri": "https://localhost:8080/"
        },
        "id": "8lymJN2xy-62",
        "outputId": "8be4b4c8-b60a-42f8-cd39-a4894b151053"
      },
      "execution_count": 146,
      "outputs": [
        {
          "output_type": "execute_result",
          "data": {
            "text/plain": [
              "[62, 71, 12, 122, 81]"
            ]
          },
          "metadata": {},
          "execution_count": 146
        }
      ]
    },
    {
      "cell_type": "code",
      "source": [
        "runs[:]"
      ],
      "metadata": {
        "colab": {
          "base_uri": "https://localhost:8080/"
        },
        "id": "mWCxBE8W5DOW",
        "outputId": "f0c0d2fd-0c50-4f55-e994-57cd7907bf18"
      },
      "execution_count": 150,
      "outputs": [
        {
          "output_type": "execute_result",
          "data": {
            "text/plain": [
              "[62, 85, 71, 10, 12, 101, 122, 99, 81, 55]"
            ]
          },
          "metadata": {},
          "execution_count": 150
        }
      ]
    },
    {
      "cell_type": "code",
      "source": [
        "runs[::2]"
      ],
      "metadata": {
        "colab": {
          "base_uri": "https://localhost:8080/"
        },
        "id": "YBXlCMwa5NjK",
        "outputId": "e8a77aa1-2dcd-46ee-c97e-65739413b37b"
      },
      "execution_count": 152,
      "outputs": [
        {
          "output_type": "execute_result",
          "data": {
            "text/plain": [
              "[62, 71, 12, 122, 81]"
            ]
          },
          "metadata": {},
          "execution_count": 152
        }
      ]
    },
    {
      "cell_type": "code",
      "source": [
        "runs[1::3]"
      ],
      "metadata": {
        "colab": {
          "base_uri": "https://localhost:8080/"
        },
        "id": "LjDf9hR95ZOs",
        "outputId": "e22d0123-2cef-4e74-e59c-6e861ce3de76"
      },
      "execution_count": 156,
      "outputs": [
        {
          "output_type": "execute_result",
          "data": {
            "text/plain": [
              "[85, 12, 99]"
            ]
          },
          "metadata": {},
          "execution_count": 156
        }
      ]
    },
    {
      "cell_type": "code",
      "source": [
        "runs[5:0]"
      ],
      "metadata": {
        "colab": {
          "base_uri": "https://localhost:8080/"
        },
        "id": "ITcD16Lx5ZIN",
        "outputId": "6d154bde-0a12-4e4c-f3ae-2ed12b670984"
      },
      "execution_count": 158,
      "outputs": [
        {
          "output_type": "execute_result",
          "data": {
            "text/plain": [
              "[]"
            ]
          },
          "metadata": {},
          "execution_count": 158
        }
      ]
    },
    {
      "cell_type": "code",
      "source": [
        "runs[5:0:-1] # Negative step size"
      ],
      "metadata": {
        "colab": {
          "base_uri": "https://localhost:8080/"
        },
        "id": "DBjQohOu5ZBv",
        "outputId": "68f5fe0e-241b-4a6a-c622-ac86d6cec758"
      },
      "execution_count": 159,
      "outputs": [
        {
          "output_type": "execute_result",
          "data": {
            "text/plain": [
              "[101, 12, 10, 71, 85]"
            ]
          },
          "metadata": {},
          "execution_count": 159
        }
      ]
    },
    {
      "cell_type": "code",
      "source": [
        "runs[::]"
      ],
      "metadata": {
        "colab": {
          "base_uri": "https://localhost:8080/"
        },
        "id": "rWnWcMZY5Y5n",
        "outputId": "b65311ea-5be3-4fda-fb26-9b18435ba2c6"
      },
      "execution_count": 160,
      "outputs": [
        {
          "output_type": "execute_result",
          "data": {
            "text/plain": [
              "[62, 85, 71, 10, 12, 101, 122, 99, 81, 55]"
            ]
          },
          "metadata": {},
          "execution_count": 160
        }
      ]
    },
    {
      "cell_type": "code",
      "source": [
        "runs[-2:-5:-1]"
      ],
      "metadata": {
        "colab": {
          "base_uri": "https://localhost:8080/"
        },
        "id": "fAbjD6WI53wC",
        "outputId": "8caf7099-c692-40af-d270-d4c672ea0baf"
      },
      "execution_count": 161,
      "outputs": [
        {
          "output_type": "execute_result",
          "data": {
            "text/plain": [
              "[81, 99, 122]"
            ]
          },
          "metadata": {},
          "execution_count": 161
        }
      ]
    },
    {
      "cell_type": "code",
      "source": [
        "'''\n",
        "Default values -\n",
        "1. When jump / step size is positive -\n",
        "    - start = 0\n",
        "    - end = len(runs)\n",
        "2. When jump / step size is negative -\n",
        "    - start = len(runs) - 1\n",
        "    - end = covers first element (SPECIAL CASE)\n",
        "'''"
      ],
      "metadata": {
        "id": "ZJvDc-Gx53o5"
      },
      "execution_count": null,
      "outputs": []
    },
    {
      "cell_type": "code",
      "source": [
        "runs[::-1] # reverse a list"
      ],
      "metadata": {
        "colab": {
          "base_uri": "https://localhost:8080/"
        },
        "id": "IlXyOUIS53it",
        "outputId": "68349a58-8697-405b-fbe9-9a3db867cc59"
      },
      "execution_count": 162,
      "outputs": [
        {
          "output_type": "execute_result",
          "data": {
            "text/plain": [
              "[55, 81, 99, 122, 101, 12, 10, 71, 85, 62]"
            ]
          },
          "metadata": {},
          "execution_count": 162
        }
      ]
    },
    {
      "cell_type": "code",
      "source": [
        "runs[-5::-1]"
      ],
      "metadata": {
        "colab": {
          "base_uri": "https://localhost:8080/"
        },
        "id": "_A07PZjh53cf",
        "outputId": "191b490d-1b8d-4632-81f1-0d9d85d4e0bb"
      },
      "execution_count": 163,
      "outputs": [
        {
          "output_type": "execute_result",
          "data": {
            "text/plain": [
              "[101, 12, 10, 71, 85, 62]"
            ]
          },
          "metadata": {},
          "execution_count": 163
        }
      ]
    },
    {
      "cell_type": "code",
      "source": [
        "a = [10,20,30,40,50,60,70,80,90,100]\n",
        "a[-2:]"
      ],
      "metadata": {
        "colab": {
          "base_uri": "https://localhost:8080/"
        },
        "id": "uR6j-E1S53U2",
        "outputId": "fa52ae7a-b055-4a9a-84c1-3df1120f1028"
      },
      "execution_count": 164,
      "outputs": [
        {
          "output_type": "execute_result",
          "data": {
            "text/plain": [
              "[90, 100]"
            ]
          },
          "metadata": {},
          "execution_count": 164
        }
      ]
    },
    {
      "cell_type": "code",
      "source": [
        "a[a[100]]"
      ],
      "metadata": {
        "colab": {
          "base_uri": "https://localhost:8080/",
          "height": 165
        },
        "id": "hnQTTDTL5_zL",
        "outputId": "7d37dbf5-9c96-4b29-c26d-c1170d4812e9"
      },
      "execution_count": 167,
      "outputs": [
        {
          "output_type": "error",
          "ename": "IndexError",
          "evalue": "ignored",
          "traceback": [
            "\u001b[0;31m---------------------------------------------------------------------------\u001b[0m",
            "\u001b[0;31mIndexError\u001b[0m                                Traceback (most recent call last)",
            "\u001b[0;32m<ipython-input-167-9c0edf9da1d6>\u001b[0m in \u001b[0;36m<cell line: 1>\u001b[0;34m()\u001b[0m\n\u001b[0;32m----> 1\u001b[0;31m \u001b[0ma\u001b[0m\u001b[0;34m[\u001b[0m\u001b[0ma\u001b[0m\u001b[0;34m[\u001b[0m\u001b[0;36m100\u001b[0m\u001b[0;34m]\u001b[0m\u001b[0;34m]\u001b[0m\u001b[0;34m\u001b[0m\u001b[0;34m\u001b[0m\u001b[0m\n\u001b[0m",
            "\u001b[0;31mIndexError\u001b[0m: list index out of range"
          ]
        }
      ]
    },
    {
      "cell_type": "code",
      "source": [
        "a.index(20)"
      ],
      "metadata": {
        "colab": {
          "base_uri": "https://localhost:8080/"
        },
        "id": "eMun75za5_sQ",
        "outputId": "4280f7b4-4221-48dc-ee99-d84705cb0f66"
      },
      "execution_count": 166,
      "outputs": [
        {
          "output_type": "execute_result",
          "data": {
            "text/plain": [
              "1"
            ]
          },
          "metadata": {},
          "execution_count": 166
        }
      ]
    },
    {
      "cell_type": "code",
      "source": [],
      "metadata": {
        "id": "WXWPKdS45_mI"
      },
      "execution_count": null,
      "outputs": []
    },
    {
      "cell_type": "code",
      "source": [],
      "metadata": {
        "id": "C-EZ4aqE5_fU"
      },
      "execution_count": null,
      "outputs": []
    }
  ]
}