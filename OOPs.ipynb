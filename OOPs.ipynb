{
  "nbformat": 4,
  "nbformat_minor": 0,
  "metadata": {
    "colab": {
      "provenance": []
    },
    "kernelspec": {
      "name": "python3",
      "display_name": "Python 3"
    },
    "language_info": {
      "name": "python"
    }
  },
  "cells": [
    {
      "cell_type": "code",
      "execution_count": 1,
      "metadata": {
        "id": "HWF4s0h0fpEW"
      },
      "outputs": [],
      "source": [
        "class Student:\n",
        "  pass"
      ]
    },
    {
      "cell_type": "code",
      "source": [
        "print(Student)"
      ],
      "metadata": {
        "colab": {
          "base_uri": "https://localhost:8080/"
        },
        "id": "BGUEuTk4f7_1",
        "outputId": "9f668be1-f96f-4f93-c8e0-0107f7fc8009"
      },
      "execution_count": 2,
      "outputs": [
        {
          "output_type": "stream",
          "name": "stdout",
          "text": [
            "<class '__main__.Student'>\n"
          ]
        }
      ]
    },
    {
      "cell_type": "code",
      "source": [
        "s1 = Student()\n",
        "print(s1)"
      ],
      "metadata": {
        "colab": {
          "base_uri": "https://localhost:8080/"
        },
        "id": "XWlREgM_f8Fw",
        "outputId": "8ffeea4f-38b1-4139-9b41-57725e35895c"
      },
      "execution_count": 4,
      "outputs": [
        {
          "output_type": "stream",
          "name": "stdout",
          "text": [
            "<__main__.Student object at 0x79c1dce2b160>\n"
          ]
        }
      ]
    },
    {
      "cell_type": "code",
      "source": [
        "class Student:\n",
        "  # dunder function (init)  - similar to constructor\n",
        "  def __init__(self, name, id):\n",
        "    self.name = name\n",
        "    self.id = id\n",
        "\n",
        "  def __str__(self):\n",
        "    return f'my name is {self.name}'"
      ],
      "metadata": {
        "id": "gpgT9Lycf8KE"
      },
      "execution_count": 12,
      "outputs": []
    },
    {
      "cell_type": "code",
      "source": [
        "student1 = Student(\"ashwin\", 7)"
      ],
      "metadata": {
        "id": "YeVYxUebf8OE"
      },
      "execution_count": 13,
      "outputs": []
    },
    {
      "cell_type": "code",
      "source": [
        "print(student1)     # __str__ returns this , else object address is printed"
      ],
      "metadata": {
        "colab": {
          "base_uri": "https://localhost:8080/"
        },
        "id": "mIvA_yd9f8Rx",
        "outputId": "3e1e7bba-9ef6-4933-c00d-2e508f4364f1"
      },
      "execution_count": 14,
      "outputs": [
        {
          "output_type": "stream",
          "name": "stdout",
          "text": [
            "my name is ashwin\n"
          ]
        }
      ]
    },
    {
      "cell_type": "code",
      "source": [
        "type(student1)"
      ],
      "metadata": {
        "colab": {
          "base_uri": "https://localhost:8080/"
        },
        "id": "C0teTWigf8ZZ",
        "outputId": "1538dd4f-65a5-458a-ba68-58c3286f6397"
      },
      "execution_count": 16,
      "outputs": [
        {
          "output_type": "execute_result",
          "data": {
            "text/plain": [
              "__main__.Student"
            ]
          },
          "metadata": {},
          "execution_count": 16
        }
      ]
    },
    {
      "cell_type": "code",
      "source": [
        "# attributes/properties"
      ],
      "metadata": {
        "id": "Gp_rEt_Vf8dX"
      },
      "execution_count": null,
      "outputs": []
    },
    {
      "cell_type": "code",
      "source": [
        "class Student:\n",
        "  counter = 0    # shared among all variables, a static variable\n",
        "  def __init__(self, name, id):\n",
        "    self.name = name\n",
        "    self.id = id\n",
        "    Student.counter += 1\n",
        ""
      ],
      "metadata": {
        "id": "Dq6WjmX-f8hS"
      },
      "execution_count": 42,
      "outputs": []
    },
    {
      "cell_type": "code",
      "source": [
        "print(Student.counter)\n"
      ],
      "metadata": {
        "colab": {
          "base_uri": "https://localhost:8080/"
        },
        "id": "0RMYsQy9hdYq",
        "outputId": "6cce57cf-29eb-42e6-b455-7c91482d4354"
      },
      "execution_count": 19,
      "outputs": [
        {
          "output_type": "stream",
          "name": "stdout",
          "text": [
            "0\n"
          ]
        }
      ]
    },
    {
      "cell_type": "code",
      "source": [
        "s1 = Student(\"aravind\", 9)\n",
        "s2 = Student(\"arun\" ,10)\n",
        "\n"
      ],
      "metadata": {
        "id": "t6o8R5IuhddL"
      },
      "execution_count": 43,
      "outputs": []
    },
    {
      "cell_type": "code",
      "source": [
        "print(Student.counter)\n",
        "print(s1.counter)\n",
        "print(s2.counter)"
      ],
      "metadata": {
        "colab": {
          "base_uri": "https://localhost:8080/"
        },
        "id": "8BhIsk8KhdhZ",
        "outputId": "28ba7f7b-a9dc-4054-e82a-db01103aaba9"
      },
      "execution_count": 44,
      "outputs": [
        {
          "output_type": "stream",
          "name": "stdout",
          "text": [
            "2\n",
            "2\n",
            "2\n"
          ]
        }
      ]
    },
    {
      "cell_type": "code",
      "source": [
        "s1.counter = 50"
      ],
      "metadata": {
        "id": "pwmxXKPThdlo"
      },
      "execution_count": 45,
      "outputs": []
    },
    {
      "cell_type": "code",
      "source": [
        "print(Student.counter)\n",
        "print(s1.counter)    # here counter is static so s1.counter =50 created a new counter variable for s1\n",
        "print(s2.counter)"
      ],
      "metadata": {
        "colab": {
          "base_uri": "https://localhost:8080/"
        },
        "id": "slnISoMLhdqA",
        "outputId": "5b40c1ec-a2c4-48e8-c525-f5d9a117000a"
      },
      "execution_count": 46,
      "outputs": [
        {
          "output_type": "stream",
          "name": "stdout",
          "text": [
            "2\n",
            "50\n",
            "2\n"
          ]
        }
      ]
    },
    {
      "cell_type": "code",
      "source": [
        "Student.counter = 1000\n",
        "\n",
        "print(Student.counter)\n",
        "print(s1.counter)\n",
        "print(s2.counter)"
      ],
      "metadata": {
        "colab": {
          "base_uri": "https://localhost:8080/"
        },
        "id": "mAWSQC7Jq4xy",
        "outputId": "17a5d2da-3402-4090-d3cc-25f026062d97"
      },
      "execution_count": 47,
      "outputs": [
        {
          "output_type": "stream",
          "name": "stdout",
          "text": [
            "1000\n",
            "50\n",
            "1000\n"
          ]
        }
      ]
    },
    {
      "cell_type": "code",
      "source": [],
      "metadata": {
        "id": "19UmduZ8q4tD"
      },
      "execution_count": null,
      "outputs": []
    },
    {
      "cell_type": "code",
      "source": [],
      "metadata": {
        "id": "JWtSN-JRq4n4"
      },
      "execution_count": null,
      "outputs": []
    },
    {
      "cell_type": "code",
      "source": [
        "class Student:\n",
        "  # dunder function (init)\n",
        "  def __init__(self, name_value=\"placeholder\"):\n",
        "    self.name = name_value\n",
        "\n",
        "  def __str__(self):\n",
        "    return f\"Student's name is {self.name}\""
      ],
      "metadata": {
        "id": "2-8YnYRGhdv8"
      },
      "execution_count": 33,
      "outputs": []
    },
    {
      "cell_type": "code",
      "source": [
        "s = Student(\"Anant\")\n",
        "print(s)"
      ],
      "metadata": {
        "colab": {
          "base_uri": "https://localhost:8080/"
        },
        "id": "Xjkd5qHphdzt",
        "outputId": "676d2d2e-97f2-4444-858e-8ac963b4b1de"
      },
      "execution_count": 34,
      "outputs": [
        {
          "output_type": "stream",
          "name": "stdout",
          "text": [
            "Student's name is Anant\n"
          ]
        }
      ]
    },
    {
      "cell_type": "code",
      "source": [
        "s = Student()\n",
        "print(s)"
      ],
      "metadata": {
        "colab": {
          "base_uri": "https://localhost:8080/"
        },
        "id": "ayMW-2e8hd3s",
        "outputId": "97262950-602d-4fed-bfd7-4a3ce7bd9d8e"
      },
      "execution_count": 35,
      "outputs": [
        {
          "output_type": "stream",
          "name": "stdout",
          "text": [
            "Student's name is placeholder\n"
          ]
        }
      ]
    },
    {
      "cell_type": "code",
      "source": [
        "class Vehicle:\n",
        "    def __init__(self, name):\n",
        "      self.name = name"
      ],
      "metadata": {
        "id": "WOmlt4RXhd71"
      },
      "execution_count": 36,
      "outputs": []
    },
    {
      "cell_type": "code",
      "source": [
        "v = Vehicle(\"maruti\")\n",
        "v.name"
      ],
      "metadata": {
        "colab": {
          "base_uri": "https://localhost:8080/",
          "height": 35
        },
        "id": "VTod6RjHheAJ",
        "outputId": "563c1d77-1329-41b8-c73b-97e81cbc9b93"
      },
      "execution_count": 37,
      "outputs": [
        {
          "output_type": "execute_result",
          "data": {
            "text/plain": [
              "'maruti'"
            ],
            "application/vnd.google.colaboratory.intrinsic+json": {
              "type": "string"
            }
          },
          "metadata": {},
          "execution_count": 37
        }
      ]
    },
    {
      "cell_type": "code",
      "source": [
        "Vehicle.__init__(v, \"Honda\")\n",
        "v.name"
      ],
      "metadata": {
        "colab": {
          "base_uri": "https://localhost:8080/",
          "height": 35
        },
        "id": "FSP3D-YlheD8",
        "outputId": "62e962bb-a176-4b32-af0f-2062b1197566"
      },
      "execution_count": 38,
      "outputs": [
        {
          "output_type": "execute_result",
          "data": {
            "text/plain": [
              "'Honda'"
            ],
            "application/vnd.google.colaboratory.intrinsic+json": {
              "type": "string"
            }
          },
          "metadata": {},
          "execution_count": 38
        }
      ]
    },
    {
      "cell_type": "code",
      "source": [
        "class Vehicle:\n",
        "    country = \"India\"\n",
        "\n",
        "    def __init__(self, name, mileage):\n",
        "        self.name = name\n",
        "        self.mileage = mileage\n",
        "\n",
        "    def __str__(self):\n",
        "        return 'Vehicle Name={} \\nMileage={}'.format(self.name, self.mileage)\n",
        "\n",
        "v1 = Vehicle(\"minivan\", 10)\n",
        "\n",
        "print(v1.country)\n",
        "v1.country = \"USA\"\n",
        "print(Vehicle.country)\n",
        "print(v1.country)"
      ],
      "metadata": {
        "colab": {
          "base_uri": "https://localhost:8080/"
        },
        "id": "roF8if4_heHm",
        "outputId": "f1e2f3b6-692a-46b5-c4e5-e5b32d22d633"
      },
      "execution_count": 48,
      "outputs": [
        {
          "output_type": "stream",
          "name": "stdout",
          "text": [
            "India\n",
            "India\n",
            "USA\n"
          ]
        }
      ]
    },
    {
      "cell_type": "code",
      "source": [
        "class Student:\n",
        "    counter = 0\n",
        "\n",
        "    def __init__(self, newName):\n",
        "        self.name = newName\n",
        "        Student.counter += 1\n",
        "        self.rollNum = Student.counter\n",
        "\n",
        "    def __str__(self):\n",
        "        return f\"{self.rollNum}. {self.name}\"\n",
        "\n",
        "    def intro(self):\n",
        "      print(f\"Hello my name is {self.name}\")\n",
        "\n",
        "s = Student(\"Anant\")\n",
        "s.intro()"
      ],
      "metadata": {
        "id": "IvfgJJJaheLg"
      },
      "execution_count": null,
      "outputs": []
    },
    {
      "cell_type": "code",
      "source": [
        "class Account:\n",
        "  counter = 0\n",
        "  def __init__(self, opening_bal=0):\n",
        "    Account.counter += 1\n",
        "    self.id = Account.counter\n",
        "    self.bal = opening_bal\n",
        "\n",
        "  def __str__(self):\n",
        "    return f\"Account Number: {self.id}, Account Balance: {self.bal}\"\n",
        "\n",
        "  def deposit(self, amount):\n",
        "    if amount > 0:\n",
        "      self.bal += amount\n",
        "\n",
        "  def withdraw(self, amount):\n",
        "    if amount > 0 and self.bal >= amount:\n",
        "      self.bal -= amount\n",
        "      return True\n",
        "    else:\n",
        "      return False\n",
        "\n",
        "a1 = Account(100)\n",
        "a2 = Account()\n",
        "a1.deposit(50)\n",
        "a2.withdraw(30)\n",
        "print(a1)\n",
        "print(a2)"
      ],
      "metadata": {
        "colab": {
          "base_uri": "https://localhost:8080/"
        },
        "id": "h2IwR2SmhePw",
        "outputId": "42c27dd2-0897-48a2-b147-58dd1d091d60"
      },
      "execution_count": 49,
      "outputs": [
        {
          "output_type": "stream",
          "name": "stdout",
          "text": [
            "Account Number: 1, Account Balance: 150\n",
            "Account Number: 2, Account Balance: 0\n"
          ]
        }
      ]
    },
    {
      "cell_type": "code",
      "source": [],
      "metadata": {
        "id": "--cfKtLSsSSS"
      },
      "execution_count": null,
      "outputs": []
    },
    {
      "cell_type": "code",
      "source": [
        "class Account:\n",
        "  counter = 0\n",
        "  def __init__(self, opening_bal=0):\n",
        "    Account.counter += 1\n",
        "    self.id = Account.counter\n",
        "    self.bal = opening_bal\n",
        "\n",
        "  def __str__(self):\n",
        "    return f\"Account Number: {self.id}, Account Balance: {self.bal}\"\n",
        "\n",
        "  def deposit(self, amount):\n",
        "    if amount > 0:\n",
        "      self.bal += amount\n",
        "\n",
        "  def withdraw(self, amount):\n",
        "    if amount > 0 and self.bal >= amount:\n",
        "      self.bal -= amount\n",
        "      return True\n",
        "    else:\n",
        "      return False\n",
        "\n",
        "  def __repr__(self):\n",
        "    return f\"{self.id}\"\n",
        "\n",
        "  # def __myspecialdunder__(self):\n",
        "  #   print(\"This is special\")\n",
        "\n",
        "a1 = Account(100)\n",
        "a2 = Account()\n",
        "a1.deposit(50)\n",
        "a2.withdraw(30)\n",
        "print(a1)\n",
        "print(a2)\n"
      ],
      "metadata": {
        "colab": {
          "base_uri": "https://localhost:8080/"
        },
        "id": "REaLF6wb0EHS",
        "outputId": "bf6bd740-3bea-4384-de4a-f52088ac8595"
      },
      "execution_count": 50,
      "outputs": [
        {
          "output_type": "stream",
          "name": "stdout",
          "text": [
            "Account Number: 1, Account Balance: 150\n",
            "Account Number: 2, Account Balance: 0\n"
          ]
        }
      ]
    },
    {
      "cell_type": "code",
      "source": [
        "str(a2)"
      ],
      "metadata": {
        "colab": {
          "base_uri": "https://localhost:8080/",
          "height": 35
        },
        "id": "xLkrtN5tsSYK",
        "outputId": "ded63763-1357-4b58-d9af-151e2119a416"
      },
      "execution_count": 51,
      "outputs": [
        {
          "output_type": "execute_result",
          "data": {
            "text/plain": [
              "'Account Number: 2, Account Balance: 0'"
            ],
            "application/vnd.google.colaboratory.intrinsic+json": {
              "type": "string"
            }
          },
          "metadata": {},
          "execution_count": 51
        }
      ]
    },
    {
      "cell_type": "code",
      "source": [
        "a2.__str__()"
      ],
      "metadata": {
        "colab": {
          "base_uri": "https://localhost:8080/",
          "height": 35
        },
        "id": "bPKWI0cysSdE",
        "outputId": "c31aeffc-d9e9-4855-90f3-7933c0e49807"
      },
      "execution_count": 52,
      "outputs": [
        {
          "output_type": "execute_result",
          "data": {
            "text/plain": [
              "'Account Number: 2, Account Balance: 0'"
            ],
            "application/vnd.google.colaboratory.intrinsic+json": {
              "type": "string"
            }
          },
          "metadata": {},
          "execution_count": 52
        }
      ]
    },
    {
      "cell_type": "markdown",
      "source": [
        "**Inheritance**"
      ],
      "metadata": {
        "id": "k8Outi7YtC-R"
      }
    },
    {
      "cell_type": "code",
      "source": [],
      "metadata": {
        "id": "8RiM0K7xtBcj"
      },
      "execution_count": null,
      "outputs": []
    },
    {
      "cell_type": "code",
      "source": [
        "class Account:\n",
        "    counter = 0\n",
        "    def __init__(self, openingBal=0):\n",
        "        Account.counter += 1\n",
        "        self.id = Account.counter\n",
        "        self.bal = openingBal\n",
        "        self.num_transactions = 0\n",
        "        self.max_transactions = 5\n",
        "\n",
        "    def deposit(self, amount):\n",
        "        if amount >= 0 and self.num_transactions < self.max_transactions:\n",
        "            self.bal += amount\n",
        "            self.num_transactions += 1\n",
        "\n",
        "    def withdraw(self, amount):\n",
        "        if amount >= 0 and self.bal >= amount and self.num_transactions < self.max_transactions:\n",
        "            self.bal -= amount\n",
        "            self.num_transactions += 1\n",
        "\n",
        "    def __str__(self):\n",
        "        return f\"Acc {self.id} has Rs.{self.bal}\"\n",
        "\n",
        "    def __repr__(self):\n",
        "        return f\"{id}\""
      ],
      "metadata": {
        "id": "6LxTC4Xj16wc"
      },
      "execution_count": 53,
      "outputs": []
    },
    {
      "cell_type": "code",
      "source": [
        "class SavingsAccount(Account):\n",
        "  pass"
      ],
      "metadata": {
        "id": "A22ClxvFtBiM"
      },
      "execution_count": 54,
      "outputs": []
    },
    {
      "cell_type": "code",
      "source": [
        "class CurrentAccount(Account):\n",
        "  pass"
      ],
      "metadata": {
        "id": "QmQx77pHtBoO"
      },
      "execution_count": 55,
      "outputs": []
    },
    {
      "cell_type": "code",
      "source": [
        "s1 = SavingsAccount()"
      ],
      "metadata": {
        "id": "S7Tv_225sSj_"
      },
      "execution_count": 56,
      "outputs": []
    },
    {
      "cell_type": "code",
      "source": [
        "c1 = CurrentAccount()"
      ],
      "metadata": {
        "id": "qxwFZ1wSsSoR"
      },
      "execution_count": 57,
      "outputs": []
    },
    {
      "cell_type": "code",
      "source": [
        "print(s1)"
      ],
      "metadata": {
        "colab": {
          "base_uri": "https://localhost:8080/"
        },
        "id": "c_KCIzHBtk-5",
        "outputId": "7827249e-0a93-45a3-b017-58825dea8745"
      },
      "execution_count": 58,
      "outputs": [
        {
          "output_type": "stream",
          "name": "stdout",
          "text": [
            "Acc 1 has Rs.0\n"
          ]
        }
      ]
    },
    {
      "cell_type": "code",
      "source": [
        "print(c1)"
      ],
      "metadata": {
        "colab": {
          "base_uri": "https://localhost:8080/"
        },
        "id": "JtHFNa1vtlFH",
        "outputId": "b37cc448-1bfb-4ca2-bab7-3b8f1c3f9e83"
      },
      "execution_count": 59,
      "outputs": [
        {
          "output_type": "stream",
          "name": "stdout",
          "text": [
            "Acc 2 has Rs.0\n"
          ]
        }
      ]
    },
    {
      "cell_type": "code",
      "source": [
        "s1.deposit(100)"
      ],
      "metadata": {
        "id": "8o9SHKV6tv_h"
      },
      "execution_count": 60,
      "outputs": []
    },
    {
      "cell_type": "code",
      "source": [
        "print(s1)"
      ],
      "metadata": {
        "colab": {
          "base_uri": "https://localhost:8080/"
        },
        "id": "WuWD-INLtv6e",
        "outputId": "d5974051-3c80-43e6-f675-3ffe8801bfc4"
      },
      "execution_count": 61,
      "outputs": [
        {
          "output_type": "stream",
          "name": "stdout",
          "text": [
            "Acc 1 has Rs.100\n"
          ]
        }
      ]
    },
    {
      "cell_type": "code",
      "source": [],
      "metadata": {
        "id": "fbwny9wrtvyb"
      },
      "execution_count": null,
      "outputs": []
    },
    {
      "cell_type": "code",
      "source": [
        "class Account:\n",
        "    counter = 0\n",
        "    def __init__(self, openingBal=0):\n",
        "        Account.counter += 1\n",
        "        self.id = Account.counter\n",
        "        self.bal = openingBal\n",
        "        self.num_transactions = 0\n",
        "        self.max_transactions = 5\n",
        "\n",
        "    def deposit(self, amount):\n",
        "        if amount >= 0 and self.num_transactions < self.max_transactions:\n",
        "            self.bal += amount\n",
        "            self.num_transactions += 1\n",
        "\n",
        "    def withdraw(self, amount):\n",
        "        if amount >= 0 and self.bal >= amount and self.num_transactions < self.max_transactions:\n",
        "            self.bal -= amount\n",
        "            self.num_transactions += 1\n",
        "\n",
        "    def __str__(self):\n",
        "        return f\"Acc {self.id} has Rs.{self.bal}\"\n",
        "\n",
        "    def __repr__(self):\n",
        "        return f\"{id}\"\n",
        "\n",
        "class SavingsAccount(Account):\n",
        "  pass\n",
        "\n",
        "class CurrentAccount(Account):\n",
        "  def __init__(self):\n",
        "    self.max_transactions = 100"
      ],
      "metadata": {
        "id": "gbWNZgB_42yj"
      },
      "execution_count": 62,
      "outputs": []
    },
    {
      "cell_type": "code",
      "source": [
        "s1 = SavingsAccount()\n",
        "s1.deposit(100)\n",
        "s1.deposit(4)\n",
        "print(s1)"
      ],
      "metadata": {
        "colab": {
          "base_uri": "https://localhost:8080/"
        },
        "id": "uMLKzZ0iuejs",
        "outputId": "f74d5f3d-19ab-483e-97fd-943ff1183825"
      },
      "execution_count": 63,
      "outputs": [
        {
          "output_type": "stream",
          "name": "stdout",
          "text": [
            "Acc 1 has Rs.104\n"
          ]
        }
      ]
    },
    {
      "cell_type": "code",
      "source": [
        "c1 = CurrentAccount()\n",
        "c1.deposit(100)\n",
        "print(c1)"
      ],
      "metadata": {
        "colab": {
          "base_uri": "https://localhost:8080/",
          "height": 331
        },
        "id": "h55u8oAlueQ4",
        "outputId": "81387658-869f-430c-af37-9c9314790dff"
      },
      "execution_count": 64,
      "outputs": [
        {
          "output_type": "error",
          "ename": "AttributeError",
          "evalue": "ignored",
          "traceback": [
            "\u001b[0;31m---------------------------------------------------------------------------\u001b[0m",
            "\u001b[0;31mAttributeError\u001b[0m                            Traceback (most recent call last)",
            "\u001b[0;32m<ipython-input-64-e24572542f0c>\u001b[0m in \u001b[0;36m<cell line: 2>\u001b[0;34m()\u001b[0m\n\u001b[1;32m      1\u001b[0m \u001b[0mc1\u001b[0m \u001b[0;34m=\u001b[0m \u001b[0mCurrentAccount\u001b[0m\u001b[0;34m(\u001b[0m\u001b[0;34m)\u001b[0m\u001b[0;34m\u001b[0m\u001b[0;34m\u001b[0m\u001b[0m\n\u001b[0;32m----> 2\u001b[0;31m \u001b[0mc1\u001b[0m\u001b[0;34m.\u001b[0m\u001b[0mdeposit\u001b[0m\u001b[0;34m(\u001b[0m\u001b[0;36m100\u001b[0m\u001b[0;34m)\u001b[0m\u001b[0;34m\u001b[0m\u001b[0;34m\u001b[0m\u001b[0m\n\u001b[0m\u001b[1;32m      3\u001b[0m \u001b[0mprint\u001b[0m\u001b[0;34m(\u001b[0m\u001b[0mc1\u001b[0m\u001b[0;34m)\u001b[0m\u001b[0;34m\u001b[0m\u001b[0;34m\u001b[0m\u001b[0m\n",
            "\u001b[0;32m<ipython-input-62-593063fa655d>\u001b[0m in \u001b[0;36mdeposit\u001b[0;34m(self, amount)\u001b[0m\n\u001b[1;32m      9\u001b[0m \u001b[0;34m\u001b[0m\u001b[0m\n\u001b[1;32m     10\u001b[0m     \u001b[0;32mdef\u001b[0m \u001b[0mdeposit\u001b[0m\u001b[0;34m(\u001b[0m\u001b[0mself\u001b[0m\u001b[0;34m,\u001b[0m \u001b[0mamount\u001b[0m\u001b[0;34m)\u001b[0m\u001b[0;34m:\u001b[0m\u001b[0;34m\u001b[0m\u001b[0;34m\u001b[0m\u001b[0m\n\u001b[0;32m---> 11\u001b[0;31m         \u001b[0;32mif\u001b[0m \u001b[0mamount\u001b[0m \u001b[0;34m>=\u001b[0m \u001b[0;36m0\u001b[0m \u001b[0;32mand\u001b[0m \u001b[0mself\u001b[0m\u001b[0;34m.\u001b[0m\u001b[0mnum_transactions\u001b[0m \u001b[0;34m<\u001b[0m \u001b[0mself\u001b[0m\u001b[0;34m.\u001b[0m\u001b[0mmax_transactions\u001b[0m\u001b[0;34m:\u001b[0m\u001b[0;34m\u001b[0m\u001b[0;34m\u001b[0m\u001b[0m\n\u001b[0m\u001b[1;32m     12\u001b[0m             \u001b[0mself\u001b[0m\u001b[0;34m.\u001b[0m\u001b[0mbal\u001b[0m \u001b[0;34m+=\u001b[0m \u001b[0mamount\u001b[0m\u001b[0;34m\u001b[0m\u001b[0;34m\u001b[0m\u001b[0m\n\u001b[1;32m     13\u001b[0m             \u001b[0mself\u001b[0m\u001b[0;34m.\u001b[0m\u001b[0mnum_transactions\u001b[0m \u001b[0;34m+=\u001b[0m \u001b[0;36m1\u001b[0m\u001b[0;34m\u001b[0m\u001b[0;34m\u001b[0m\u001b[0m\n",
            "\u001b[0;31mAttributeError\u001b[0m: 'CurrentAccount' object has no attribute 'num_transactions'"
          ]
        }
      ]
    },
    {
      "cell_type": "code",
      "source": [],
      "metadata": {
        "id": "bp98ycIWu2Fj"
      },
      "execution_count": null,
      "outputs": []
    },
    {
      "cell_type": "code",
      "source": [
        "class Account:\n",
        "    counter = 0\n",
        "    def __init__(self, openingBal=0):\n",
        "        Account.counter += 1\n",
        "        self.id = Account.counter\n",
        "        self.bal = openingBal\n",
        "        self.num_transactions = 0\n",
        "        self.max_transactions = 2\n",
        "\n",
        "    def deposit(self, amount):\n",
        "        if amount >= 0 and self.num_transactions < self.max_transactions:\n",
        "            self.bal += amount\n",
        "            self.num_transactions += 1\n",
        "\n",
        "    def withdraw(self, amount):\n",
        "        if amount >= 0 and self.bal >= amount and self.num_transactions < self.max_transactions:\n",
        "            self.bal -= amount\n",
        "            self.num_transactions += 1\n",
        "\n",
        "    def __str__(self):\n",
        "        return f\"Acc {self.id} has Rs.{self.bal}\"\n",
        "\n",
        "    def __repr__(self):\n",
        "        return f\"{id}\"\n",
        "\n",
        "class SavingsAccount(Account):\n",
        "  pass\n",
        "\n",
        "class CurrentAccount(Account):\n",
        "  def __init__(self):\n",
        "    super().__init__()\n",
        "    self.max_transactions = 5"
      ],
      "metadata": {
        "id": "XSu7DADN5zyV"
      },
      "execution_count": 65,
      "outputs": []
    },
    {
      "cell_type": "code",
      "source": [
        "s1 = SavingsAccount()\n",
        "s1.deposit(100)\n",
        "s1.deposit(4)\n",
        "s1.deposit(1000)\n",
        "print(s1)"
      ],
      "metadata": {
        "colab": {
          "base_uri": "https://localhost:8080/"
        },
        "id": "QOgCVFBju2Mj",
        "outputId": "5fc2643f-9422-45fe-9e23-0e79cde86c02"
      },
      "execution_count": 66,
      "outputs": [
        {
          "output_type": "stream",
          "name": "stdout",
          "text": [
            "Acc 1 has Rs.104\n"
          ]
        }
      ]
    },
    {
      "cell_type": "code",
      "source": [
        "s1 = CurrentAccount()\n",
        "s1.deposit(100)\n",
        "s1.deposit(4)\n",
        "s1.deposit(1000)\n",
        "print(s1)"
      ],
      "metadata": {
        "colab": {
          "base_uri": "https://localhost:8080/"
        },
        "id": "9GCO7_sQu2T0",
        "outputId": "a111b2f0-e9b8-493b-ad88-1db7eabac7f5"
      },
      "execution_count": 67,
      "outputs": [
        {
          "output_type": "stream",
          "name": "stdout",
          "text": [
            "Acc 2 has Rs.1104\n"
          ]
        }
      ]
    },
    {
      "cell_type": "code",
      "source": [
        "# Private Variables - __anant\n",
        "# Polymporphism - calculate_interest()\n"
      ],
      "metadata": {
        "id": "f1zcneXKvKDx"
      },
      "execution_count": null,
      "outputs": []
    },
    {
      "cell_type": "code",
      "source": [],
      "metadata": {
        "id": "LpKGNal1vKJu"
      },
      "execution_count": null,
      "outputs": []
    },
    {
      "cell_type": "code",
      "source": [
        "class Account:\n",
        "\n",
        "    counter = 0\n",
        "\n",
        "    def __init__(self, openingBal=0):\n",
        "        Account.counter += 1\n",
        "        self.id = Account.counter\n",
        "        self.bal = openingBal\n",
        "        self.numTrans = 0\n",
        "        self.maxTrans = 2\n",
        "\n",
        "    def deposit(self, amount):\n",
        "        if amount >= 0 and self.numTrans < self.maxTrans:\n",
        "            self.bal += amount\n",
        "            self.numTrans += 1\n",
        "\n",
        "    def withdraw(self, amount):\n",
        "        if amount >= 0 and self.bal >= amount and self.numTrans < self.maxTrans:\n",
        "            self.bal -= amount\n",
        "            self.numTrans += 1\n",
        "\n",
        "    def getInterest(self): # new\n",
        "        pass\n",
        "\n",
        "\n",
        "    def __str__(self):\n",
        "        return f\"Acc {self.id} has {self.bal}\"  # new --> self.__bal\n",
        "\n",
        "    def __repr__(self):\n",
        "        return f\"{id}\"\n",
        "\n",
        "class SavingsAccount(Account):\n",
        "    def __init__(self):\n",
        "        super().__init__()\n",
        "\n",
        "    def getInterest(self):  # new - Interest calculation for Savings Account\n",
        "        interest = self.bal*0.07\n",
        "        print(f\"Interest on Account {self.id} is {interest}\")\n",
        "\n",
        "\n",
        "class CurrentAccount(Account):\n",
        "    def __init__(self):\n",
        "        super().__init__()\n",
        "        self.maxTrans = 3\n",
        "\n",
        "    def getInterest(self):  # new - Interest calculation for Current Account\n",
        "        interest = (self.bal*0.05)/self.numTrans\n",
        "        print(f\"Interest on Account {self.id} is {interest}\")"
      ],
      "metadata": {
        "id": "mewWQnrk7218"
      },
      "execution_count": null,
      "outputs": []
    },
    {
      "cell_type": "code",
      "source": [
        "# __name - private variables , if we try access it obj.__name it will creates a object specific variable\n",
        "# to access it we can use obj._classname__name"
      ],
      "metadata": {
        "id": "PaK2qYzJvKdH"
      },
      "execution_count": null,
      "outputs": []
    },
    {
      "cell_type": "code",
      "source": [],
      "metadata": {
        "id": "12n7DoGPvs53"
      },
      "execution_count": null,
      "outputs": []
    },
    {
      "cell_type": "code",
      "source": [],
      "metadata": {
        "id": "9gb7E0r_vsxG"
      },
      "execution_count": null,
      "outputs": []
    },
    {
      "cell_type": "code",
      "source": [],
      "metadata": {
        "id": "gt3A_73jvsp0"
      },
      "execution_count": null,
      "outputs": []
    },
    {
      "cell_type": "code",
      "source": [],
      "metadata": {
        "id": "F3CC8IJvvsiz"
      },
      "execution_count": null,
      "outputs": []
    }
  ]
}