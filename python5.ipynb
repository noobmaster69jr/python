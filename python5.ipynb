{
  "nbformat": 4,
  "nbformat_minor": 0,
  "metadata": {
    "colab": {
      "provenance": []
    },
    "kernelspec": {
      "name": "python3",
      "display_name": "Python 3"
    },
    "language_info": {
      "name": "python"
    }
  },
  "cells": [
    {
      "cell_type": "code",
      "execution_count": null,
      "metadata": {
        "id": "Fw6RUAb-7V6P"
      },
      "outputs": [],
      "source": [
        "# 2D Lists"
      ]
    },
    {
      "cell_type": "code",
      "source": [
        "'''\n",
        "Rotate a given list by 1 element.\n",
        "\n",
        "INPUT - [1,2,3,4,5]\n",
        "OUTUT - [5,1,2,3,4]\n",
        "'''"
      ],
      "metadata": {
        "id": "5eLp0CWx7d71"
      },
      "execution_count": null,
      "outputs": []
    },
    {
      "cell_type": "code",
      "source": [
        "a = [1,2,3,4,5]"
      ],
      "metadata": {
        "id": "WXLwOi6h7dla"
      },
      "execution_count": 1,
      "outputs": []
    },
    {
      "cell_type": "code",
      "source": [
        "def solution_1(a):\n",
        "    last_element = a[-1]\n",
        "    initial_elements = a[:len(a) - 1]\n",
        "\n",
        "    result = [last_element] + initial_elements\n",
        "\n",
        "    return result\n",
        "\n",
        "solution_1(a)"
      ],
      "metadata": {
        "colab": {
          "base_uri": "https://localhost:8080/"
        },
        "id": "BIkIlW7H7daK",
        "outputId": "b0fb4f1e-9ffc-426e-8dda-b4497cec2702"
      },
      "execution_count": 3,
      "outputs": [
        {
          "output_type": "execute_result",
          "data": {
            "text/plain": [
              "[5, 1, 2, 3, 4]"
            ]
          },
          "metadata": {},
          "execution_count": 3
        }
      ]
    },
    {
      "cell_type": "code",
      "source": [
        "def solution_2(a):\n",
        "  return [a[-1]] + a[:len(a)-1]   # here we are wrapping coz a[-1] is int not a list\n",
        "\n",
        "solution_2(a)"
      ],
      "metadata": {
        "colab": {
          "base_uri": "https://localhost:8080/"
        },
        "id": "pDYvEair7dWk",
        "outputId": "c37368f5-a923-4b8c-f2bc-13c20ce42e3c"
      },
      "execution_count": 6,
      "outputs": [
        {
          "output_type": "execute_result",
          "data": {
            "text/plain": [
              "[5, 1, 2, 3, 4]"
            ]
          },
          "metadata": {},
          "execution_count": 6
        }
      ]
    },
    {
      "cell_type": "code",
      "source": [
        "5 + [1,2,3,4]"
      ],
      "metadata": {
        "colab": {
          "base_uri": "https://localhost:8080/",
          "height": 165
        },
        "id": "-WdtT3Oy7dSn",
        "outputId": "d6751872-424e-4b48-fafc-6d6151976588"
      },
      "execution_count": 7,
      "outputs": [
        {
          "output_type": "error",
          "ename": "TypeError",
          "evalue": "ignored",
          "traceback": [
            "\u001b[0;31m---------------------------------------------------------------------------\u001b[0m",
            "\u001b[0;31mTypeError\u001b[0m                                 Traceback (most recent call last)",
            "\u001b[0;32m<ipython-input-7-ac810129f75e>\u001b[0m in \u001b[0;36m<cell line: 1>\u001b[0;34m()\u001b[0m\n\u001b[0;32m----> 1\u001b[0;31m \u001b[0;36m5\u001b[0m \u001b[0;34m+\u001b[0m \u001b[0;34m[\u001b[0m\u001b[0;36m1\u001b[0m\u001b[0;34m,\u001b[0m\u001b[0;36m2\u001b[0m\u001b[0;34m,\u001b[0m\u001b[0;36m3\u001b[0m\u001b[0;34m,\u001b[0m\u001b[0;36m4\u001b[0m\u001b[0;34m]\u001b[0m\u001b[0;34m\u001b[0m\u001b[0;34m\u001b[0m\u001b[0m\n\u001b[0m",
            "\u001b[0;31mTypeError\u001b[0m: unsupported operand type(s) for +: 'int' and 'list'"
          ]
        }
      ]
    },
    {
      "cell_type": "code",
      "source": [
        "a.index(5)"
      ],
      "metadata": {
        "colab": {
          "base_uri": "https://localhost:8080/"
        },
        "id": "r8fj1ZE47dOA",
        "outputId": "88a9e0a6-487d-4d11-d2c5-5eb18d02e76b"
      },
      "execution_count": 8,
      "outputs": [
        {
          "output_type": "execute_result",
          "data": {
            "text/plain": [
              "4"
            ]
          },
          "metadata": {},
          "execution_count": 8
        }
      ]
    },
    {
      "cell_type": "code",
      "source": [
        "a.index(100)"
      ],
      "metadata": {
        "colab": {
          "base_uri": "https://localhost:8080/",
          "height": 165
        },
        "id": "8pruNCa47dIu",
        "outputId": "fde1608f-295e-490c-bcf8-9bbef69a50bb"
      },
      "execution_count": 9,
      "outputs": [
        {
          "output_type": "error",
          "ename": "ValueError",
          "evalue": "ignored",
          "traceback": [
            "\u001b[0;31m---------------------------------------------------------------------------\u001b[0m",
            "\u001b[0;31mValueError\u001b[0m                                Traceback (most recent call last)",
            "\u001b[0;32m<ipython-input-9-089708018057>\u001b[0m in \u001b[0;36m<cell line: 1>\u001b[0;34m()\u001b[0m\n\u001b[0;32m----> 1\u001b[0;31m \u001b[0ma\u001b[0m\u001b[0;34m.\u001b[0m\u001b[0mindex\u001b[0m\u001b[0;34m(\u001b[0m\u001b[0;36m100\u001b[0m\u001b[0;34m)\u001b[0m\u001b[0;34m\u001b[0m\u001b[0;34m\u001b[0m\u001b[0m\n\u001b[0m",
            "\u001b[0;31mValueError\u001b[0m: 100 is not in list"
          ]
        }
      ]
    },
    {
      "cell_type": "code",
      "source": [
        "a = [1,1,2,3,4,5,6,6,6,6,6]\n",
        "a.count(6)"
      ],
      "metadata": {
        "colab": {
          "base_uri": "https://localhost:8080/"
        },
        "id": "H7V1qom27dE8",
        "outputId": "972f9fb8-b658-4117-a6b0-73ee75d58514"
      },
      "execution_count": 10,
      "outputs": [
        {
          "output_type": "execute_result",
          "data": {
            "text/plain": [
              "5"
            ]
          },
          "metadata": {},
          "execution_count": 10
        }
      ]
    },
    {
      "cell_type": "code",
      "source": [
        "a = [[1,2,3], [4,5,6], [7,8,9]]\n",
        "a[2][2] # indexing in a 2D list"
      ],
      "metadata": {
        "colab": {
          "base_uri": "https://localhost:8080/"
        },
        "id": "X1-kxhFi7dA-",
        "outputId": "b3698a90-0980-4749-b45a-31e1020d2f81"
      },
      "execution_count": 14,
      "outputs": [
        {
          "output_type": "execute_result",
          "data": {
            "text/plain": [
              "9"
            ]
          },
          "metadata": {},
          "execution_count": 14
        }
      ]
    },
    {
      "cell_type": "code",
      "source": [
        "a = [[1,2], [1,2,3,4], [1,2,3,4,5]]\n",
        "a[2][3]"
      ],
      "metadata": {
        "colab": {
          "base_uri": "https://localhost:8080/"
        },
        "id": "PqVCyOGu7c8k",
        "outputId": "b7f47e5e-800b-4ecd-deb8-46f334e24fca"
      },
      "execution_count": 15,
      "outputs": [
        {
          "output_type": "execute_result",
          "data": {
            "text/plain": [
              "4"
            ]
          },
          "metadata": {},
          "execution_count": 15
        }
      ]
    },
    {
      "cell_type": "code",
      "source": [
        "# Matrices"
      ],
      "metadata": {
        "id": "qaRg79r09zVe"
      },
      "execution_count": null,
      "outputs": []
    },
    {
      "cell_type": "code",
      "source": [
        "a = [[1,2,3], [4,5,6], [7,8,9]]"
      ],
      "metadata": {
        "id": "esUiMEZU91hS"
      },
      "execution_count": 16,
      "outputs": []
    },
    {
      "cell_type": "code",
      "source": [
        "rows = len(a)\n",
        "columns = len(a[0])"
      ],
      "metadata": {
        "id": "rMKR0Ave91cK"
      },
      "execution_count": 17,
      "outputs": []
    },
    {
      "cell_type": "code",
      "source": [
        "for i in range(rows):\n",
        "    for j in range(columns):\n",
        "        print(a[i][j], end = \" \")\n",
        "\n",
        "    print()"
      ],
      "metadata": {
        "colab": {
          "base_uri": "https://localhost:8080/"
        },
        "id": "-CDNUyzO91YY",
        "outputId": "5b4a153b-a337-46a4-f7b4-ed373706460f"
      },
      "execution_count": 18,
      "outputs": [
        {
          "output_type": "stream",
          "name": "stdout",
          "text": [
            "1 2 3 \n",
            "4 5 6 \n",
            "7 8 9 \n"
          ]
        }
      ]
    },
    {
      "cell_type": "code",
      "source": [
        "matrix = []\n",
        "\n",
        "for i in range(3):\n",
        "    row = []\n",
        "\n",
        "    for j in range(3):\n",
        "        row.append(int(input()))\n",
        "\n",
        "    matrix.append(row)"
      ],
      "metadata": {
        "colab": {
          "base_uri": "https://localhost:8080/"
        },
        "id": "-WKoxDsp91Ui",
        "outputId": "0847d9a9-6a49-4231-80e2-d1906feced96"
      },
      "execution_count": 19,
      "outputs": [
        {
          "name": "stdout",
          "output_type": "stream",
          "text": [
            "1\n",
            "2\n",
            "3\n",
            "4\n",
            "5\n",
            "6\n",
            "7\n",
            "8\n",
            "9\n"
          ]
        }
      ]
    },
    {
      "cell_type": "code",
      "source": [
        "matrix"
      ],
      "metadata": {
        "colab": {
          "base_uri": "https://localhost:8080/"
        },
        "id": "O8PFkuH_91Qt",
        "outputId": "43fbb0c5-12ec-4eaf-a53e-d5ef25cfeda1"
      },
      "execution_count": 20,
      "outputs": [
        {
          "output_type": "execute_result",
          "data": {
            "text/plain": [
              "[[1, 2, 3], [4, 5, 6], [7, 8, 9]]"
            ]
          },
          "metadata": {},
          "execution_count": 20
        }
      ]
    },
    {
      "cell_type": "code",
      "source": [
        "def sum_all_elements(matrix):\n",
        "    sum_all = 0\n",
        "\n",
        "    for i in matrix:\n",
        "        for j in i:\n",
        "            sum_all += j\n",
        "\n",
        "    return sum_all\n",
        "\n",
        "\n",
        "sum_all_elements(matrix)"
      ],
      "metadata": {
        "colab": {
          "base_uri": "https://localhost:8080/"
        },
        "id": "M3hB-jQa_D7U",
        "outputId": "0ebdf0d1-c27a-4e41-cb95-413d28ce541c"
      },
      "execution_count": 21,
      "outputs": [
        {
          "output_type": "execute_result",
          "data": {
            "text/plain": [
              "45"
            ]
          },
          "metadata": {},
          "execution_count": 21
        }
      ]
    },
    {
      "cell_type": "code",
      "source": [
        "def sum_each_row(matrix):\n",
        "    rows = len(matrix)\n",
        "    columns = len(matrix[0])\n",
        "\n",
        "    for i in range(rows):\n",
        "        sum_row = 0\n",
        "\n",
        "        for j in range(columns):\n",
        "            sum_row += matrix[i][j]\n",
        "\n",
        "        print(\"Sum of row\", i, \"=\", sum_row)\n",
        "\n",
        "sum_each_row(matrix)"
      ],
      "metadata": {
        "colab": {
          "base_uri": "https://localhost:8080/"
        },
        "id": "SW4inz1i_Hrt",
        "outputId": "68fb1437-7acc-4ee1-8b44-905f42b18a56"
      },
      "execution_count": 22,
      "outputs": [
        {
          "output_type": "stream",
          "name": "stdout",
          "text": [
            "Sum of row 0 = 6\n",
            "Sum of row 1 = 15\n",
            "Sum of row 2 = 24\n"
          ]
        }
      ]
    },
    {
      "cell_type": "code",
      "source": [
        "def sum_each_column(matrix):\n",
        "    rows = len(matrix)\n",
        "    columns = len(matrix[0])\n",
        "\n",
        "    for i in range(rows):\n",
        "        sum_column = 0\n",
        "\n",
        "        for j in range(columns):\n",
        "            sum_column += matrix[j][i]\n",
        "\n",
        "        print(\"Sum of column\", i, \"=\", sum_column)\n",
        "\n",
        "sum_each_column(matrix)"
      ],
      "metadata": {
        "colab": {
          "base_uri": "https://localhost:8080/"
        },
        "id": "hRQmGi2p_HnI",
        "outputId": "c95384d0-2561-4942-bb34-38a06c0678e5"
      },
      "execution_count": 23,
      "outputs": [
        {
          "output_type": "stream",
          "name": "stdout",
          "text": [
            "Sum of column 0 = 12\n",
            "Sum of column 1 = 15\n",
            "Sum of column 2 = 18\n"
          ]
        }
      ]
    },
    {
      "cell_type": "code",
      "source": [],
      "metadata": {
        "id": "SGxpjiEm_Hig"
      },
      "execution_count": null,
      "outputs": []
    },
    {
      "cell_type": "code",
      "source": [],
      "metadata": {
        "id": "8lX_vX-5_Heb"
      },
      "execution_count": null,
      "outputs": []
    },
    {
      "cell_type": "code",
      "source": [],
      "metadata": {
        "id": "ho7Pjs2A_HaH"
      },
      "execution_count": null,
      "outputs": []
    }
  ]
}