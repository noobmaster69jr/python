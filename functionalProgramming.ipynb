{
  "nbformat": 4,
  "nbformat_minor": 0,
  "metadata": {
    "colab": {
      "provenance": []
    },
    "kernelspec": {
      "name": "python3",
      "display_name": "Python 3"
    },
    "language_info": {
      "name": "python"
    }
  },
  "cells": [
    {
      "cell_type": "markdown",
      "source": [
        "Advanced Concepts in functions"
      ],
      "metadata": {
        "id": "Z-98yBe8QVI5"
      }
    },
    {
      "cell_type": "code",
      "execution_count": null,
      "metadata": {
        "id": "ZVjkIIORP5IU"
      },
      "outputs": [],
      "source": [
        "# Lambda functions - anonymous"
      ]
    },
    {
      "cell_type": "code",
      "source": [
        "a = \"person\"\n",
        "\"Hello\" if a==\"person\" else \"No person exists\""
      ],
      "metadata": {
        "colab": {
          "base_uri": "https://localhost:8080/",
          "height": 35
        },
        "id": "1A1As87gQA8u",
        "outputId": "c1ff00f1-4b62-47df-cefd-aa654f040fb3"
      },
      "execution_count": 1,
      "outputs": [
        {
          "output_type": "execute_result",
          "data": {
            "text/plain": [
              "'Hello'"
            ],
            "application/vnd.google.colaboratory.intrinsic+json": {
              "type": "string"
            }
          },
          "metadata": {},
          "execution_count": 1
        }
      ]
    },
    {
      "cell_type": "code",
      "source": [
        "[x**2 for x in range(10)]"
      ],
      "metadata": {
        "colab": {
          "base_uri": "https://localhost:8080/"
        },
        "id": "3uJ6x6YwQBNO",
        "outputId": "243b4a38-9a79-4f01-832f-fc3c3c8e3e62"
      },
      "execution_count": 2,
      "outputs": [
        {
          "output_type": "execute_result",
          "data": {
            "text/plain": [
              "[0, 1, 4, 9, 16, 25, 36, 49, 64, 81]"
            ]
          },
          "metadata": {},
          "execution_count": 2
        }
      ]
    },
    {
      "cell_type": "code",
      "source": [
        "lambda x: 2*x"
      ],
      "metadata": {
        "colab": {
          "base_uri": "https://localhost:8080/"
        },
        "id": "xFgsQQ97QBRH",
        "outputId": "8afbc194-8ec8-45ec-a6cf-37e80b5b7f0b"
      },
      "execution_count": 3,
      "outputs": [
        {
          "output_type": "execute_result",
          "data": {
            "text/plain": [
              "<function __main__.<lambda>(x)>"
            ]
          },
          "metadata": {},
          "execution_count": 3
        }
      ]
    },
    {
      "cell_type": "code",
      "source": [
        "twice = lambda x: 2*x\n",
        "twice(3)"
      ],
      "metadata": {
        "colab": {
          "base_uri": "https://localhost:8080/"
        },
        "id": "dNiypI80QBVW",
        "outputId": "7e2869cc-f79f-49f7-b71f-14e041c4a2a6"
      },
      "execution_count": 4,
      "outputs": [
        {
          "output_type": "execute_result",
          "data": {
            "text/plain": [
              "6"
            ]
          },
          "metadata": {},
          "execution_count": 4
        }
      ]
    },
    {
      "cell_type": "code",
      "source": [
        "(lambda x: x+1)(3)"
      ],
      "metadata": {
        "colab": {
          "base_uri": "https://localhost:8080/"
        },
        "id": "iFygYno3QBZ3",
        "outputId": "e2219b47-21c0-4397-ae9b-bae45419b006"
      },
      "execution_count": 6,
      "outputs": [
        {
          "output_type": "execute_result",
          "data": {
            "text/plain": [
              "4"
            ]
          },
          "metadata": {},
          "execution_count": 6
        }
      ]
    },
    {
      "cell_type": "code",
      "source": [
        "f = lambda x, y: x+y\n",
        "f(1, 5)"
      ],
      "metadata": {
        "colab": {
          "base_uri": "https://localhost:8080/"
        },
        "id": "sB5LSH0_QBeB",
        "outputId": "ef983d9f-6e07-48e1-e823-88bc0b81e9aa"
      },
      "execution_count": 7,
      "outputs": [
        {
          "output_type": "execute_result",
          "data": {
            "text/plain": [
              "6"
            ]
          },
          "metadata": {},
          "execution_count": 7
        }
      ]
    },
    {
      "cell_type": "code",
      "source": [
        "func = lambda x: return x**2      # no return statement in lambda functions"
      ],
      "metadata": {
        "colab": {
          "base_uri": "https://localhost:8080/",
          "height": 140
        },
        "id": "lbLEMfKKQBh1",
        "outputId": "9c4f009a-1655-48c6-d126-29ab9dd0a3b1"
      },
      "execution_count": 14,
      "outputs": [
        {
          "output_type": "error",
          "ename": "SyntaxError",
          "evalue": "ignored",
          "traceback": [
            "\u001b[0;36m  File \u001b[0;32m\"<ipython-input-14-37c88c105afb>\"\u001b[0;36m, line \u001b[0;32m1\u001b[0m\n\u001b[0;31m    func = lambda x: return x**2      # no return statement in lambda functions\u001b[0m\n\u001b[0m                     ^\u001b[0m\n\u001b[0;31mSyntaxError\u001b[0m\u001b[0;31m:\u001b[0m invalid syntax\n"
          ]
        }
      ]
    },
    {
      "cell_type": "code",
      "source": [
        "# higher order functions => functions which return another function"
      ],
      "metadata": {
        "id": "Q4e6q604QBny"
      },
      "execution_count": null,
      "outputs": []
    },
    {
      "cell_type": "code",
      "source": [
        "def multiple_of_n(n):\n",
        "  return lambda x : n*x"
      ],
      "metadata": {
        "id": "p8B79_EXQBsI"
      },
      "execution_count": 9,
      "outputs": []
    },
    {
      "cell_type": "code",
      "source": [
        "multiple_of_3 = multiple_of_n(3)"
      ],
      "metadata": {
        "id": "qU0YoLpBQBw6"
      },
      "execution_count": 10,
      "outputs": []
    },
    {
      "cell_type": "code",
      "source": [
        "number_to_be_multiplied = multiple_of_3(5)\n",
        "number_to_be_multiplied"
      ],
      "metadata": {
        "colab": {
          "base_uri": "https://localhost:8080/"
        },
        "id": "Q2DJX8kQQB2E",
        "outputId": "ccbe00fb-5d6b-4f8a-f427-f0050c9dea03"
      },
      "execution_count": 15,
      "outputs": [
        {
          "output_type": "execute_result",
          "data": {
            "text/plain": [
              "15"
            ]
          },
          "metadata": {},
          "execution_count": 15
        }
      ]
    },
    {
      "cell_type": "code",
      "source": [
        "# we can store functions as objects\n",
        "\n",
        "def square(x):\n",
        "  return x**2\n",
        "\n",
        "def cube(x):\n",
        "  return x**3"
      ],
      "metadata": {
        "id": "8Xp9q2l8QB7R"
      },
      "execution_count": 18,
      "outputs": []
    },
    {
      "cell_type": "code",
      "source": [
        "func_dict = {\"square\":square, \"cube\": cube}\n",
        "\n",
        "func_dict[\"cube\"](5)"
      ],
      "metadata": {
        "colab": {
          "base_uri": "https://localhost:8080/"
        },
        "id": "3tATZwSLQB_X",
        "outputId": "52012ef8-2391-4571-af93-7295a6b1ff92"
      },
      "execution_count": 19,
      "outputs": [
        {
          "output_type": "execute_result",
          "data": {
            "text/plain": [
              "125"
            ]
          },
          "metadata": {},
          "execution_count": 19
        }
      ]
    },
    {
      "cell_type": "code",
      "source": [
        "# call by object reference"
      ],
      "metadata": {
        "id": "_LwrupR_QCGO"
      },
      "execution_count": null,
      "outputs": []
    },
    {
      "cell_type": "code",
      "source": [
        "def modify_content(y):     # mutable object is passed\n",
        "  y[0] = 999                # so changes can reflect back\n",
        "\n",
        "x = [1, 2, 3]\n",
        "print(x)\n",
        "modify_content(x)\n",
        "print(x)"
      ],
      "metadata": {
        "id": "ETnzi7omQJKj"
      },
      "execution_count": null,
      "outputs": []
    },
    {
      "cell_type": "code",
      "source": [
        "def modify_content(y):\n",
        "  y= [4, 5, 6]                    # here y is assigned a new reference so cahange doesn't affect\n",
        "\n",
        "x = [1, 2, 3]\n",
        "print(x)\n",
        "modify_content(x)\n",
        "print(x)"
      ],
      "metadata": {
        "colab": {
          "base_uri": "https://localhost:8080/"
        },
        "id": "dEaxvS7RQJSJ",
        "outputId": "3455e310-e710-4fdd-af10-69d89c3846c6"
      },
      "execution_count": 20,
      "outputs": [
        {
          "output_type": "stream",
          "name": "stdout",
          "text": [
            "[1, 2, 3]\n",
            "[1, 2, 3]\n"
          ]
        }
      ]
    },
    {
      "cell_type": "code",
      "source": [
        "def access(lst, num):\n",
        "    lst.append(num)           # same reference\n",
        "    num -=4\n",
        "    return num\n",
        "\n",
        "\n",
        "lst = [1,2,3]\n",
        "num = 4\n",
        "\n",
        "access(lst, num)\n",
        "\n",
        "print(lst, num)"
      ],
      "metadata": {
        "colab": {
          "base_uri": "https://localhost:8080/"
        },
        "id": "dfISsLLKUlB6",
        "outputId": "5802feb0-7922-475a-a059-308dfab114ea"
      },
      "execution_count": 21,
      "outputs": [
        {
          "output_type": "stream",
          "name": "stdout",
          "text": [
            "[1, 2, 3, 4] 4\n"
          ]
        }
      ]
    },
    {
      "cell_type": "markdown",
      "source": [
        "**Functional programming**"
      ],
      "metadata": {
        "id": "ykhtuMXVVK6X"
      }
    },
    {
      "cell_type": "code",
      "source": [
        "# functions are first class citizens\n",
        "# functions can be passed as argument\n",
        "# functions can be stored\n"
      ],
      "metadata": {
        "id": "CS8qLH48UlIW"
      },
      "execution_count": null,
      "outputs": []
    },
    {
      "cell_type": "code",
      "source": [
        "list1 = [1, 2, 3, 4, 5]\n",
        "list2 = []\n",
        "for element in list1:\n",
        "  list2.append(element*2) # imperative programming - showing how it is done\n",
        "print(list2)"
      ],
      "metadata": {
        "colab": {
          "base_uri": "https://localhost:8080/"
        },
        "id": "zp4xlnM3UlNa",
        "outputId": "7bdddb1e-de09-49e8-f450-74481757435d"
      },
      "execution_count": 23,
      "outputs": [
        {
          "output_type": "stream",
          "name": "stdout",
          "text": [
            "[2, 4, 6, 8, 10]\n"
          ]
        }
      ]
    },
    {
      "cell_type": "markdown",
      "source": [
        "map"
      ],
      "metadata": {
        "id": "IhvTNbC3XgEo"
      }
    },
    {
      "cell_type": "code",
      "source": [
        "def twice(x):\n",
        "  return 2*x\n",
        "\n",
        "tuple(map(twice, list1))\n"
      ],
      "metadata": {
        "colab": {
          "base_uri": "https://localhost:8080/"
        },
        "id": "B1_x0XcdUlSC",
        "outputId": "676f5fe7-827e-414a-a789-156f62b5e6d5"
      },
      "execution_count": 24,
      "outputs": [
        {
          "output_type": "execute_result",
          "data": {
            "text/plain": [
              "(2, 4, 6, 8, 10)"
            ]
          },
          "metadata": {},
          "execution_count": 24
        }
      ]
    },
    {
      "cell_type": "code",
      "source": [
        "tuple(map(lambda x: x*2, list1))"
      ],
      "metadata": {
        "colab": {
          "base_uri": "https://localhost:8080/"
        },
        "id": "eKh0eQzDUlVr",
        "outputId": "f29c67dd-aaa0-4430-99cc-a6753b37e50a"
      },
      "execution_count": 25,
      "outputs": [
        {
          "output_type": "execute_result",
          "data": {
            "text/plain": [
              "(2, 4, 6, 8, 10)"
            ]
          },
          "metadata": {},
          "execution_count": 25
        }
      ]
    },
    {
      "cell_type": "code",
      "source": [
        "def get_tshirt_size(height):\n",
        "  if height < 150:\n",
        "    return \"S\"\n",
        "  elif height > 150 and height <= 180:\n",
        "    return \"M\"\n",
        "  else:\n",
        "    return \"L\"\n",
        "\n",
        "tuple(map(get_tshirt_size, heights))"
      ],
      "metadata": {
        "id": "VNsTrsAUUlZ6"
      },
      "execution_count": null,
      "outputs": []
    },
    {
      "cell_type": "markdown",
      "source": [
        "filter"
      ],
      "metadata": {
        "id": "1O4TjMHAXl1v"
      }
    },
    {
      "cell_type": "code",
      "source": [
        "tuple(filter(lambda x:x%2==0, list1))"
      ],
      "metadata": {
        "colab": {
          "base_uri": "https://localhost:8080/"
        },
        "id": "UrZhXODLUlh9",
        "outputId": "2be856f2-76ef-42af-c2c2-3afe996a8b5c"
      },
      "execution_count": 26,
      "outputs": [
        {
          "output_type": "execute_result",
          "data": {
            "text/plain": [
              "(2, 4)"
            ]
          },
          "metadata": {},
          "execution_count": 26
        }
      ]
    },
    {
      "cell_type": "code",
      "source": [
        "# Reduce - not an inbuilt function"
      ],
      "metadata": {
        "id": "PR1dpeXKUln-"
      },
      "execution_count": null,
      "outputs": []
    },
    {
      "cell_type": "code",
      "source": [
        "import functools"
      ],
      "metadata": {
        "id": "_JDhzsUCUlsL"
      },
      "execution_count": 27,
      "outputs": []
    },
    {
      "cell_type": "code",
      "source": [
        "list1 = [1, 2, 3, 4, 5]"
      ],
      "metadata": {
        "id": "zjt1roOIUlxX"
      },
      "execution_count": 28,
      "outputs": []
    },
    {
      "cell_type": "code",
      "source": [
        " sum(list1)"
      ],
      "metadata": {
        "colab": {
          "base_uri": "https://localhost:8080/"
        },
        "id": "4UUnlg3xUl2D",
        "outputId": "346fa41f-6865-4c44-faa4-0a73139dfbbf"
      },
      "execution_count": 29,
      "outputs": [
        {
          "output_type": "execute_result",
          "data": {
            "text/plain": [
              "15"
            ]
          },
          "metadata": {},
          "execution_count": 29
        }
      ]
    },
    {
      "cell_type": "code",
      "source": [
        "functools.reduce(lambda x,y:x+y, list1)"
      ],
      "metadata": {
        "colab": {
          "base_uri": "https://localhost:8080/"
        },
        "id": "5UvV7BqOUl56",
        "outputId": "cf1acde5-5e60-479f-80c9-8d31826073f2"
      },
      "execution_count": 30,
      "outputs": [
        {
          "output_type": "execute_result",
          "data": {
            "text/plain": [
              "15"
            ]
          },
          "metadata": {},
          "execution_count": 30
        }
      ]
    },
    {
      "cell_type": "code",
      "source": [
        "inches = [1, 2, 3, 4.5, -1, 0]\n",
        "valid_inches = list(filter(lambda x: x>0, inches))\n",
        "valid_inches"
      ],
      "metadata": {
        "colab": {
          "base_uri": "https://localhost:8080/"
        },
        "id": "5uZSM0EHUl95",
        "outputId": "bfdb4078-2003-4125-b388-e6be5b2087f1"
      },
      "execution_count": 34,
      "outputs": [
        {
          "output_type": "execute_result",
          "data": {
            "text/plain": [
              "[1, 2, 3, 4.5]"
            ]
          },
          "metadata": {},
          "execution_count": 34
        }
      ]
    },
    {
      "cell_type": "code",
      "source": [
        "valid_cms = list(map(lambda x: x*2.54, valid_inches))\n",
        "valid_cms"
      ],
      "metadata": {
        "colab": {
          "base_uri": "https://localhost:8080/"
        },
        "id": "Km5UBtIjQJX_",
        "outputId": "8c594e0e-9807-4819-cab3-cdd249ea995a"
      },
      "execution_count": 35,
      "outputs": [
        {
          "output_type": "execute_result",
          "data": {
            "text/plain": [
              "[2.54, 5.08, 7.62, 11.43]"
            ]
          },
          "metadata": {},
          "execution_count": 35
        }
      ]
    },
    {
      "cell_type": "code",
      "source": [
        "functools.reduce(lambda x, y: x+y, valid_cms)"
      ],
      "metadata": {
        "colab": {
          "base_uri": "https://localhost:8080/"
        },
        "id": "MEJZST-xYwNs",
        "outputId": "714fe9ed-5a01-43d6-bab4-075cb11e4cfc"
      },
      "execution_count": 36,
      "outputs": [
        {
          "output_type": "execute_result",
          "data": {
            "text/plain": [
              "26.67"
            ]
          },
          "metadata": {},
          "execution_count": 36
        }
      ]
    },
    {
      "cell_type": "code",
      "source": [
        "x = [1, 2, 3, 4, 5] # list of x coordinates\n",
        "y = [6, 7, 8, 9, 10] # list of y coordinates\n",
        "list(zip(x, y))\n"
      ],
      "metadata": {
        "id": "ltvDI5TgYwS4"
      },
      "execution_count": null,
      "outputs": []
    },
    {
      "cell_type": "code",
      "source": [
        "x = [1, 2, 3, 4, 5] # list of x coordinates\n",
        "y = [1, 4, 16]\n",
        "list(zip(x, y))"
      ],
      "metadata": {
        "colab": {
          "base_uri": "https://localhost:8080/"
        },
        "id": "UuJ-rgpQYwXW",
        "outputId": "667fdba8-f389-4d0b-c04c-e97a877755aa"
      },
      "execution_count": 37,
      "outputs": [
        {
          "output_type": "execute_result",
          "data": {
            "text/plain": [
              "[(1, 1), (2, 4), (3, 16)]"
            ]
          },
          "metadata": {},
          "execution_count": 37
        }
      ]
    },
    {
      "cell_type": "code",
      "source": [
        "list1 = [1,2,3,4,5]\n",
        "list2 = list('Excelsior')\n",
        "\n",
        "zipper = list(zip(list1, list2))\n",
        "\n",
        "print(zipper)"
      ],
      "metadata": {
        "colab": {
          "base_uri": "https://localhost:8080/"
        },
        "id": "Gteclvz6Ywb2",
        "outputId": "936cf502-5428-481b-fb1d-601bd7c1653c"
      },
      "execution_count": 38,
      "outputs": [
        {
          "output_type": "stream",
          "name": "stdout",
          "text": [
            "[(1, 'E'), (2, 'x'), (3, 'c'), (4, 'e'), (5, 'l')]\n"
          ]
        }
      ]
    },
    {
      "cell_type": "code",
      "source": [],
      "metadata": {
        "id": "I7pPqq9xYwgX"
      },
      "execution_count": null,
      "outputs": []
    },
    {
      "cell_type": "code",
      "source": [],
      "metadata": {
        "id": "MykBn6hNYwlh"
      },
      "execution_count": null,
      "outputs": []
    },
    {
      "cell_type": "code",
      "source": [],
      "metadata": {
        "id": "8mNN6fwlYwqd"
      },
      "execution_count": null,
      "outputs": []
    },
    {
      "cell_type": "code",
      "source": [],
      "metadata": {
        "id": "vIS13_PkYwuv"
      },
      "execution_count": null,
      "outputs": []
    },
    {
      "cell_type": "code",
      "source": [],
      "metadata": {
        "id": "9RUJeYcxQJdM"
      },
      "execution_count": null,
      "outputs": []
    }
  ]
}