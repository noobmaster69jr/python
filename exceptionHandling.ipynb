{
  "nbformat": 4,
  "nbformat_minor": 0,
  "metadata": {
    "colab": {
      "provenance": []
    },
    "kernelspec": {
      "name": "python3",
      "display_name": "Python 3"
    },
    "language_info": {
      "name": "python"
    }
  },
  "cells": [
    {
      "cell_type": "code",
      "execution_count": 3,
      "metadata": {
        "colab": {
          "base_uri": "https://localhost:8080/"
        },
        "id": "PiRSZw2GQnCd",
        "outputId": "2142fcff-f0d5-4c1b-bd28-004e8f291362"
      },
      "outputs": [
        {
          "output_type": "execute_result",
          "data": {
            "text/plain": [
              "<module 'builtins' (built-in)>"
            ]
          },
          "metadata": {},
          "execution_count": 3
        }
      ],
      "source": [
        "__builtins__"
      ]
    },
    {
      "cell_type": "code",
      "source": [
        "print(dir(__builtins__))"
      ],
      "metadata": {
        "colab": {
          "base_uri": "https://localhost:8080/"
        },
        "id": "Fel63C-XRIRV",
        "outputId": "d737c8c3-7f9a-4d97-98d1-b2e184a3a6bc"
      },
      "execution_count": 4,
      "outputs": [
        {
          "output_type": "stream",
          "name": "stdout",
          "text": [
            "['ArithmeticError', 'AssertionError', 'AttributeError', 'BaseException', 'BlockingIOError', 'BrokenPipeError', 'BufferError', 'BytesWarning', 'ChildProcessError', 'ConnectionAbortedError', 'ConnectionError', 'ConnectionRefusedError', 'ConnectionResetError', 'DeprecationWarning', 'EOFError', 'Ellipsis', 'EncodingWarning', 'EnvironmentError', 'Exception', 'False', 'FileExistsError', 'FileNotFoundError', 'FloatingPointError', 'FutureWarning', 'GeneratorExit', 'IOError', 'ImportError', 'ImportWarning', 'IndentationError', 'IndexError', 'InterruptedError', 'IsADirectoryError', 'KeyError', 'KeyboardInterrupt', 'LookupError', 'MemoryError', 'ModuleNotFoundError', 'NameError', 'None', 'NotADirectoryError', 'NotImplemented', 'NotImplementedError', 'OSError', 'OverflowError', 'PendingDeprecationWarning', 'PermissionError', 'ProcessLookupError', 'RecursionError', 'ReferenceError', 'ResourceWarning', 'RuntimeError', 'RuntimeWarning', 'StopAsyncIteration', 'StopIteration', 'SyntaxError', 'SyntaxWarning', 'SystemError', 'SystemExit', 'TabError', 'TimeoutError', 'True', 'TypeError', 'UnboundLocalError', 'UnicodeDecodeError', 'UnicodeEncodeError', 'UnicodeError', 'UnicodeTranslateError', 'UnicodeWarning', 'UserWarning', 'ValueError', 'Warning', 'ZeroDivisionError', '__IPYTHON__', '__build_class__', '__debug__', '__doc__', '__import__', '__loader__', '__name__', '__package__', '__spec__', 'abs', 'aiter', 'all', 'anext', 'any', 'ascii', 'bin', 'bool', 'breakpoint', 'bytearray', 'bytes', 'callable', 'chr', 'classmethod', 'compile', 'complex', 'copyright', 'credits', 'delattr', 'dict', 'dir', 'display', 'divmod', 'enumerate', 'eval', 'exec', 'execfile', 'filter', 'float', 'format', 'frozenset', 'get_ipython', 'getattr', 'globals', 'hasattr', 'hash', 'help', 'hex', 'id', 'input', 'int', 'isinstance', 'issubclass', 'iter', 'len', 'license', 'list', 'locals', 'map', 'max', 'memoryview', 'min', 'next', 'object', 'oct', 'open', 'ord', 'pow', 'print', 'property', 'range', 'repr', 'reversed', 'round', 'runfile', 'set', 'setattr', 'slice', 'sorted', 'staticmethod', 'str', 'sum', 'super', 'tuple', 'type', 'vars', 'zip']\n"
          ]
        }
      ]
    },
    {
      "cell_type": "code",
      "source": [
        "temp = dir(__builtins__)"
      ],
      "metadata": {
        "id": "qD6_KG6LRIN3"
      },
      "execution_count": 5,
      "outputs": []
    },
    {
      "cell_type": "code",
      "source": [
        "count = 0\n",
        "for element in temp:\n",
        "  if \"Error\" in element:\n",
        "    print(element)\n",
        "    count += 1\n",
        "print(count)"
      ],
      "metadata": {
        "colab": {
          "base_uri": "https://localhost:8080/"
        },
        "id": "-KWuIkcpRIKU",
        "outputId": "3a55a870-9fe6-4c17-c273-fd25e8a5d531"
      },
      "execution_count": 6,
      "outputs": [
        {
          "output_type": "stream",
          "name": "stdout",
          "text": [
            "ArithmeticError\n",
            "AssertionError\n",
            "AttributeError\n",
            "BlockingIOError\n",
            "BrokenPipeError\n",
            "BufferError\n",
            "ChildProcessError\n",
            "ConnectionAbortedError\n",
            "ConnectionError\n",
            "ConnectionRefusedError\n",
            "ConnectionResetError\n",
            "EOFError\n",
            "EnvironmentError\n",
            "FileExistsError\n",
            "FileNotFoundError\n",
            "FloatingPointError\n",
            "IOError\n",
            "ImportError\n",
            "IndentationError\n",
            "IndexError\n",
            "InterruptedError\n",
            "IsADirectoryError\n",
            "KeyError\n",
            "LookupError\n",
            "MemoryError\n",
            "ModuleNotFoundError\n",
            "NameError\n",
            "NotADirectoryError\n",
            "NotImplementedError\n",
            "OSError\n",
            "OverflowError\n",
            "PermissionError\n",
            "ProcessLookupError\n",
            "RecursionError\n",
            "ReferenceError\n",
            "RuntimeError\n",
            "SyntaxError\n",
            "SystemError\n",
            "TabError\n",
            "TimeoutError\n",
            "TypeError\n",
            "UnboundLocalError\n",
            "UnicodeDecodeError\n",
            "UnicodeEncodeError\n",
            "UnicodeError\n",
            "UnicodeTranslateError\n",
            "ValueError\n",
            "ZeroDivisionError\n",
            "48\n"
          ]
        }
      ]
    },
    {
      "cell_type": "code",
      "source": [
        "# Exception Handling"
      ],
      "metadata": {
        "id": "125HK_3aRIGd"
      },
      "execution_count": null,
      "outputs": []
    },
    {
      "cell_type": "code",
      "source": [
        "x = 1\n",
        "y = 0\n",
        "z = x / y\n",
        "print(x)"
      ],
      "metadata": {
        "colab": {
          "base_uri": "https://localhost:8080/",
          "height": 227
        },
        "id": "1uPg2HWfRICa",
        "outputId": "7e12399a-afdd-4eb4-e969-d5e97ed40177"
      },
      "execution_count": 7,
      "outputs": [
        {
          "output_type": "error",
          "ename": "ZeroDivisionError",
          "evalue": "ignored",
          "traceback": [
            "\u001b[0;31m---------------------------------------------------------------------------\u001b[0m",
            "\u001b[0;31mZeroDivisionError\u001b[0m                         Traceback (most recent call last)",
            "\u001b[0;32m<ipython-input-7-fcc619545786>\u001b[0m in \u001b[0;36m<cell line: 3>\u001b[0;34m()\u001b[0m\n\u001b[1;32m      1\u001b[0m \u001b[0mx\u001b[0m \u001b[0;34m=\u001b[0m \u001b[0;36m1\u001b[0m\u001b[0;34m\u001b[0m\u001b[0;34m\u001b[0m\u001b[0m\n\u001b[1;32m      2\u001b[0m \u001b[0my\u001b[0m \u001b[0;34m=\u001b[0m \u001b[0;36m0\u001b[0m\u001b[0;34m\u001b[0m\u001b[0;34m\u001b[0m\u001b[0m\n\u001b[0;32m----> 3\u001b[0;31m \u001b[0mz\u001b[0m \u001b[0;34m=\u001b[0m \u001b[0mx\u001b[0m \u001b[0;34m/\u001b[0m \u001b[0my\u001b[0m\u001b[0;34m\u001b[0m\u001b[0;34m\u001b[0m\u001b[0m\n\u001b[0m\u001b[1;32m      4\u001b[0m \u001b[0mprint\u001b[0m\u001b[0;34m(\u001b[0m\u001b[0mx\u001b[0m\u001b[0;34m)\u001b[0m\u001b[0;34m\u001b[0m\u001b[0;34m\u001b[0m\u001b[0m\n",
            "\u001b[0;31mZeroDivisionError\u001b[0m: division by zero"
          ]
        }
      ]
    },
    {
      "cell_type": "code",
      "source": [
        "# try-except"
      ],
      "metadata": {
        "id": "2N4WXrxJRH9Q"
      },
      "execution_count": null,
      "outputs": []
    },
    {
      "cell_type": "code",
      "source": [
        "a = int(input(\"Enter the inout first\"))\n",
        "b = int(input(\"Enter the input second\"))\n",
        "try:\n",
        "  result = a/b\n",
        "  print(f\"Output of a/b is {result}\")\n",
        "except:\n",
        "  print(\"There is some error\")"
      ],
      "metadata": {
        "colab": {
          "base_uri": "https://localhost:8080/"
        },
        "id": "LZkCzS9ZTily",
        "outputId": "61de7b1e-592f-45fc-ec56-9de53342a60b"
      },
      "execution_count": 8,
      "outputs": [
        {
          "output_type": "stream",
          "name": "stdout",
          "text": [
            "Enter the inout first8\n",
            "Enter the input second0\n",
            "There is some error\n"
          ]
        }
      ]
    },
    {
      "cell_type": "code",
      "source": [
        "lst = [2, 0, \"helloo\", None]"
      ],
      "metadata": {
        "id": "jIF_QHCKTig5"
      },
      "execution_count": 9,
      "outputs": []
    },
    {
      "cell_type": "code",
      "source": [
        "for element in lst:\n",
        "  try:\n",
        "    print(f\"Current element: {element}\")\n",
        "    result = 5/element\n",
        "    print(f\"Result is {result}\")\n",
        "  except Exception as e:\n",
        "    print(\"Error occured:\", e)"
      ],
      "metadata": {
        "colab": {
          "base_uri": "https://localhost:8080/"
        },
        "id": "tIgrtVfLTic0",
        "outputId": "a1794572-3972-4b59-a858-eb62d1420045"
      },
      "execution_count": 10,
      "outputs": [
        {
          "output_type": "stream",
          "name": "stdout",
          "text": [
            "Current element: 2\n",
            "Result is 2.5\n",
            "Current element: 0\n",
            "Error occured: division by zero\n",
            "Current element: helloo\n",
            "Error occured: unsupported operand type(s) for /: 'int' and 'str'\n",
            "Current element: None\n",
            "Error occured: unsupported operand type(s) for /: 'int' and 'NoneType'\n"
          ]
        }
      ]
    },
    {
      "cell_type": "code",
      "source": [
        "for element in lst:\n",
        "  try:\n",
        "    print(f\"Current element: {element}\")\n",
        "    result = 5/element\n",
        "    print(f\"Result is {result}\")\n",
        "  except ValueError as vs:\n",
        "    print(\"Provide a valid integer:\", vs)\n",
        "  except ZeroDivisionError as zs:\n",
        "    print(\"Provide a different second number\",zs)\n",
        "  except Exception as e:\n",
        "    print(\"Error casused\", e)\n",
        "  print(\"-\"*50)"
      ],
      "metadata": {
        "colab": {
          "base_uri": "https://localhost:8080/"
        },
        "id": "ztz1oIfzTiY2",
        "outputId": "bd0c3405-f87e-402c-ac5b-cf82a55fe3ec"
      },
      "execution_count": 11,
      "outputs": [
        {
          "output_type": "stream",
          "name": "stdout",
          "text": [
            "Current element: 2\n",
            "Result is 2.5\n",
            "--------------------------------------------------\n",
            "Current element: 0\n",
            "Provide a different second number division by zero\n",
            "--------------------------------------------------\n",
            "Current element: helloo\n",
            "Error casused unsupported operand type(s) for /: 'int' and 'str'\n",
            "--------------------------------------------------\n",
            "Current element: None\n",
            "Error casused unsupported operand type(s) for /: 'int' and 'NoneType'\n",
            "--------------------------------------------------\n"
          ]
        }
      ]
    },
    {
      "cell_type": "code",
      "source": [
        "try:\n",
        "  ans= 5/0\n",
        "  print(ans)\n",
        "except Exception as e:\n",
        "  print(e)\n",
        "finally:\n",
        "  print(\"I ran finallly\")"
      ],
      "metadata": {
        "id": "4cVK6kH7TiUn"
      },
      "execution_count": null,
      "outputs": []
    },
    {
      "cell_type": "code",
      "source": [
        "# Raise Exceptions"
      ],
      "metadata": {
        "id": "6V9O08VQT8Xu"
      },
      "execution_count": null,
      "outputs": []
    },
    {
      "cell_type": "code",
      "source": [],
      "metadata": {
        "id": "47cPjd9XUFTZ"
      },
      "execution_count": null,
      "outputs": []
    },
    {
      "cell_type": "code",
      "source": [
        "try:\n",
        "  name = input(\"Enter a name \")\n",
        "  if len(name) < 3:\n",
        "    raise Exception(\"Name cannot be less than 3 characters\")\n",
        "  print(\"Hello\", name)\n",
        "except Exception as e:\n",
        "  print(\"Error occured\", e)\n",
        "print(\"Some 100 lines after this\")"
      ],
      "metadata": {
        "colab": {
          "base_uri": "https://localhost:8080/"
        },
        "id": "cD6ulLGPT8SE",
        "outputId": "71301c21-3174-42d4-fe2c-3089232344e4"
      },
      "execution_count": 14,
      "outputs": [
        {
          "output_type": "stream",
          "name": "stdout",
          "text": [
            "Enter a name as\n",
            "Error occured Name cannot be less than 3 characters\n",
            "Some 100 lines after this\n"
          ]
        }
      ]
    },
    {
      "cell_type": "code",
      "source": [
        "def foo():\n",
        "  try:\n",
        "    ans= 5/0\n",
        "    print(ans)\n",
        "  except Exception as e:\n",
        "    return e\n",
        "  print(\"I ran finally\")\n",
        "\n",
        "\n",
        "foo()   # print doesn't run after error is returned"
      ],
      "metadata": {
        "colab": {
          "base_uri": "https://localhost:8080/"
        },
        "id": "kVOzf5S8UAxe",
        "outputId": "de5809fe-3eb6-481b-c310-d541e46fcb81"
      },
      "execution_count": 16,
      "outputs": [
        {
          "output_type": "execute_result",
          "data": {
            "text/plain": [
              "ZeroDivisionError('division by zero')"
            ]
          },
          "metadata": {},
          "execution_count": 16
        }
      ]
    },
    {
      "cell_type": "code",
      "source": [
        "def foo2():\n",
        "  try:\n",
        "    ans= 5/0\n",
        "    print(ans)\n",
        "  except Exception as e:\n",
        "    return e\n",
        "  finally:                         # even if error is thrown , finally block will always be executed\n",
        "    print(\"I ran finally\")\n",
        "\n",
        "foo2()"
      ],
      "metadata": {
        "colab": {
          "base_uri": "https://localhost:8080/"
        },
        "id": "hIGjv8F9UAsr",
        "outputId": "98562154-ef3f-4e45-a9ac-c2210156ea1c"
      },
      "execution_count": 18,
      "outputs": [
        {
          "output_type": "stream",
          "name": "stdout",
          "text": [
            "I ran finally\n"
          ]
        },
        {
          "output_type": "execute_result",
          "data": {
            "text/plain": [
              "ZeroDivisionError('division by zero')"
            ]
          },
          "metadata": {},
          "execution_count": 18
        }
      ]
    },
    {
      "cell_type": "code",
      "source": [
        "#class MyCustomError(Exception)\n",
        "\n",
        "class MyCustomError(Exception):\n",
        "    def __init__(self, message=\"A custom error occurred.\"):\n",
        "        self.message = message\n",
        "        super().__init__(self.message)\n",
        "\n",
        "\n",
        "\n",
        "def example_function():\n",
        "    if True:\n",
        "        raise MyCustomError(\"This is a specific error message.\")\n",
        "\n",
        "try:\n",
        "    example_function()\n",
        "except MyCustomError as e:\n",
        "    print(\"Caught an exception:\", e)\n"
      ],
      "metadata": {
        "colab": {
          "base_uri": "https://localhost:8080/"
        },
        "id": "Jtu211VUUAoW",
        "outputId": "72e68959-7d9b-4f9f-d26a-904f3357c2e8"
      },
      "execution_count": 19,
      "outputs": [
        {
          "output_type": "stream",
          "name": "stdout",
          "text": [
            "Caught an exception: This is a specific error message.\n"
          ]
        }
      ]
    },
    {
      "cell_type": "code",
      "source": [],
      "metadata": {
        "id": "21XiIUBfUAj-"
      },
      "execution_count": null,
      "outputs": []
    },
    {
      "cell_type": "code",
      "source": [],
      "metadata": {
        "id": "P8dPQgmiT8Nn"
      },
      "execution_count": null,
      "outputs": []
    },
    {
      "cell_type": "code",
      "source": [],
      "metadata": {
        "id": "5esBgt51T8Jr"
      },
      "execution_count": null,
      "outputs": []
    }
  ]
}