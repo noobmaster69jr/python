{
  "nbformat": 4,
  "nbformat_minor": 0,
  "metadata": {
    "colab": {
      "provenance": []
    },
    "kernelspec": {
      "name": "python3",
      "display_name": "Python 3"
    },
    "language_info": {
      "name": "python"
    }
  },
  "cells": [
    {
      "cell_type": "code",
      "execution_count": 1,
      "metadata": {
        "colab": {
          "base_uri": "https://localhost:8080/"
        },
        "id": "yWxSeQJCYtIo",
        "outputId": "93037aba-de35-4451-b682-6f7e4d1818ab"
      },
      "outputs": [
        {
          "output_type": "execute_result",
          "data": {
            "text/plain": [
              "NoneType"
            ]
          },
          "metadata": {},
          "execution_count": 1
        }
      ],
      "source": [
        "type(None)"
      ]
    },
    {
      "cell_type": "code",
      "source": [
        "print(\"A\", \"B\")"
      ],
      "metadata": {
        "colab": {
          "base_uri": "https://localhost:8080/"
        },
        "id": "g57KAAhFZCVA",
        "outputId": "e7f2e230-f001-432a-c256-8fba433471fb"
      },
      "execution_count": 2,
      "outputs": [
        {
          "output_type": "stream",
          "name": "stdout",
          "text": [
            "A B\n"
          ]
        }
      ]
    },
    {
      "cell_type": "code",
      "source": [
        "print(\"A\", \"B\", sep = \" \")"
      ],
      "metadata": {
        "colab": {
          "base_uri": "https://localhost:8080/"
        },
        "id": "0LP_OOzNZH39",
        "outputId": "983b1b56-5e04-43e0-cc8a-1e97aaa8b27d"
      },
      "execution_count": 5,
      "outputs": [
        {
          "output_type": "stream",
          "name": "stdout",
          "text": [
            "A B\n"
          ]
        }
      ]
    },
    {
      "cell_type": "code",
      "source": [
        "print(\"A\", \"B\", sep=\"\\t\")"
      ],
      "metadata": {
        "colab": {
          "base_uri": "https://localhost:8080/"
        },
        "id": "nQLtyy9mZRm1",
        "outputId": "2e121b24-81dd-42c3-c2fc-772c50b01d04"
      },
      "execution_count": 7,
      "outputs": [
        {
          "output_type": "stream",
          "name": "stdout",
          "text": [
            "A\tB\n"
          ]
        }
      ]
    },
    {
      "cell_type": "code",
      "source": [
        "# control flow"
      ],
      "metadata": {
        "id": "-TfWy4OwZRjC"
      },
      "execution_count": null,
      "outputs": []
    },
    {
      "cell_type": "code",
      "source": [
        "if 50 < 60 :\n",
        "  print(\"60 is greater\")\n",
        "else:\n",
        "  print(\"50 is greater\")"
      ],
      "metadata": {
        "colab": {
          "base_uri": "https://localhost:8080/"
        },
        "id": "RB4d4PfQZRfR",
        "outputId": "b07901e5-f552-4c8f-d140-bb5c36e042d8"
      },
      "execution_count": 8,
      "outputs": [
        {
          "output_type": "stream",
          "name": "stdout",
          "text": [
            "60 is greater\n"
          ]
        }
      ]
    },
    {
      "cell_type": "code",
      "source": [
        "# These lines will always run\n",
        "\n",
        "if True:\n",
        "    # These lines will run if condition is True\n",
        "    # Statement 2\n",
        "    # Statement 3\n",
        "else:\n",
        "    # These lines will run if condition is False\n",
        "    # Statement 2\n",
        "    # Statement 3\n",
        "\n",
        "# These lines will always run"
      ],
      "metadata": {
        "id": "DEMHc1SnZRbd"
      },
      "execution_count": null,
      "outputs": []
    },
    {
      "cell_type": "code",
      "source": [
        "n = int(input())\n",
        "result = n ** 3\n",
        "if (result > 50):\n",
        "  print(\"result is greater\", result, sep=\" : \")\n",
        "else:\n",
        "  print(\"result is smaller\")"
      ],
      "metadata": {
        "colab": {
          "base_uri": "https://localhost:8080/"
        },
        "id": "rZSDYxitZRXT",
        "outputId": "ffd58920-9d30-4973-baf9-abee611b10d5"
      },
      "execution_count": 16,
      "outputs": [
        {
          "output_type": "stream",
          "name": "stdout",
          "text": [
            "6\n",
            "result is greater : 216\n"
          ]
        }
      ]
    },
    {
      "cell_type": "code",
      "source": [
        "'''\n",
        "1. Take Password Input as User\n",
        "2. Take another input to verify password\n",
        "3. If both inputs are same -> \"Password matched!\",\n",
        "otherwise \"Password mismatch. Check Again.\"\n",
        "'''"
      ],
      "metadata": {
        "id": "psJ89-BEZRTX"
      },
      "execution_count": null,
      "outputs": []
    },
    {
      "cell_type": "code",
      "source": [
        "password = input(\"Enter your password\")\n",
        "verify_password = input(\"Enter your password\")\n",
        "\n",
        "if password == verify_password:\n",
        "  print(\"password is correct\")\n",
        "else:\n",
        "  print(\"incorrect password\")"
      ],
      "metadata": {
        "colab": {
          "base_uri": "https://localhost:8080/"
        },
        "id": "rIicaGMTZRPH",
        "outputId": "375d27ba-8720-456f-e56e-84aa600fc4d1"
      },
      "execution_count": 18,
      "outputs": [
        {
          "output_type": "stream",
          "name": "stdout",
          "text": [
            "hi\n",
            "hi\n",
            "password is correct\n"
          ]
        }
      ]
    },
    {
      "cell_type": "code",
      "source": [
        "number = int(input())\n",
        "\n",
        "if number >= 0:\n",
        "    print(\"Positive\")\n",
        "else:\n",
        "    print(\"Negative\")"
      ],
      "metadata": {
        "id": "2gtBy1rIZRLQ"
      },
      "execution_count": null,
      "outputs": []
    },
    {
      "cell_type": "code",
      "source": [
        "'''\n",
        "Take in a string as input and if the entered language is \"Python\",\n",
        "print(\"Great Choice\") else print(\"Think Again?\")\n",
        "'''"
      ],
      "metadata": {
        "id": "_wE-GRtdZRFp"
      },
      "execution_count": null,
      "outputs": []
    },
    {
      "cell_type": "code",
      "source": [
        "language = input()\n",
        "\n",
        "if language == \"Python\":\n",
        "  print(\"Great Choice\")\n",
        "else:\n",
        "  print(\"Think again!\")"
      ],
      "metadata": {
        "colab": {
          "base_uri": "https://localhost:8080/"
        },
        "id": "wqJDlnhAZRBl",
        "outputId": "690f3d79-5513-40c7-e9b3-451b65904bec"
      },
      "execution_count": 21,
      "outputs": [
        {
          "output_type": "stream",
          "name": "stdout",
          "text": [
            "asdf\n",
            "Think again!\n"
          ]
        }
      ]
    },
    {
      "cell_type": "code",
      "source": [
        "feedback = input()\n",
        "\n",
        "if feedback == \"\":\n",
        "    print(\"Please provide feedback the next time!\")\n",
        "else:\n",
        "    if feedback.lower()  == \"super\" or feedback.lower() == \"awesome\":\n",
        "        print(\"Thank you so much!\")\n",
        "    else:\n",
        "        print(\"Thank you for providing feedback!\")"
      ],
      "metadata": {
        "colab": {
          "base_uri": "https://localhost:8080/"
        },
        "id": "lSDbxSsmZQ9V",
        "outputId": "f625005d-f13f-4813-d3fe-874a1a1368c6"
      },
      "execution_count": 22,
      "outputs": [
        {
          "output_type": "stream",
          "name": "stdout",
          "text": [
            "\n",
            "Please provide feedback the next time!\n"
          ]
        }
      ]
    },
    {
      "cell_type": "code",
      "source": [
        "n = int(input())\n",
        "\n",
        "if n % 3 == 0 and n % 5 == 0:\n",
        "    print(\"FIZZBUZZ\")\n",
        "elif n % 5 == 0:\n",
        "    print(\"BUZZ\")\n",
        "elif n % 3 == 0:\n",
        "    print(\"FIZZ\")\n",
        "else:\n",
        "    print(\"\")"
      ],
      "metadata": {
        "colab": {
          "base_uri": "https://localhost:8080/"
        },
        "id": "3tuIG-lWdHUk",
        "outputId": "8898936d-2ec7-44e3-c8b3-b90a8f1d4946"
      },
      "execution_count": 23,
      "outputs": [
        {
          "output_type": "stream",
          "name": "stdout",
          "text": [
            "10\n",
            "BUZZ\n"
          ]
        }
      ]
    },
    {
      "cell_type": "code",
      "source": [
        "a = 50\n",
        "if a > 40:\n",
        "    print(\"A\")\n",
        "if a > 30:\n",
        "    print(\"B\")\n",
        "if a > 20:\n",
        "    print(\"C\")"
      ],
      "metadata": {
        "colab": {
          "base_uri": "https://localhost:8080/"
        },
        "id": "JP_8uN7ddHQW",
        "outputId": "4fab8323-d52f-4d48-dd69-a9de306bc117"
      },
      "execution_count": 24,
      "outputs": [
        {
          "output_type": "stream",
          "name": "stdout",
          "text": [
            "A\n",
            "B\n",
            "C\n"
          ]
        }
      ]
    },
    {
      "cell_type": "code",
      "source": [
        "'''\n",
        "Take in three inputs from a user which are marksin english, maths and science.\n",
        "Assign streams according to the following criteria.\n",
        "- if science > 90 or marks in all are greater than 75 -> Science\n",
        "- if marks in all are greater than 60 and less than 75 -> Commerce\n",
        "- if marks in any are less than 60 -> Humanities\n",
        "'''"
      ],
      "metadata": {
        "id": "zwlPMXZMdHL0"
      },
      "execution_count": null,
      "outputs": []
    },
    {
      "cell_type": "code",
      "source": [
        "science = int(input(\"Marks in Science - \"))\n",
        "maths = int(input(\"Marks in Maths - \"))\n",
        "english = int(input(\"Marks in English - \"))\n",
        "\n",
        "if science > 90 or (science > 75 and maths > 75 and english > 75):\n",
        "    print(\"Science\")\n",
        "elif science > 60 and maths > 60 and english > 60:\n",
        "    print(\"Commerce\")\n",
        "else:\n",
        "    print(\"Humanities\")"
      ],
      "metadata": {
        "colab": {
          "base_uri": "https://localhost:8080/"
        },
        "id": "MJ__4xK8dHHm",
        "outputId": "bbb981fd-219a-4ed8-cf02-899e69f93d48"
      },
      "execution_count": 25,
      "outputs": [
        {
          "output_type": "stream",
          "name": "stdout",
          "text": [
            "Marks in Science - 70\n",
            "Marks in Maths - 90\n",
            "Marks in English - 34\n",
            "Humanities\n"
          ]
        }
      ]
    },
    {
      "cell_type": "code",
      "source": [
        "True and False or True and True\n",
        "# False or True and True\n",
        "# False or True\n",
        "# True"
      ],
      "metadata": {
        "colab": {
          "base_uri": "https://localhost:8080/"
        },
        "id": "ngb5ZdQyZQ5l",
        "outputId": "13b74e3d-a61c-4c11-8764-97e23fa6d8aa"
      },
      "execution_count": 26,
      "outputs": [
        {
          "output_type": "execute_result",
          "data": {
            "text/plain": [
              "True"
            ]
          },
          "metadata": {},
          "execution_count": 26
        }
      ]
    },
    {
      "cell_type": "code",
      "source": [
        "True and True and False and True"
      ],
      "metadata": {
        "colab": {
          "base_uri": "https://localhost:8080/"
        },
        "id": "_QtKnATDZQ1q",
        "outputId": "42086320-ab9d-4b41-d9b9-5cbf130fb81a"
      },
      "execution_count": 27,
      "outputs": [
        {
          "output_type": "execute_result",
          "data": {
            "text/plain": [
              "False"
            ]
          },
          "metadata": {},
          "execution_count": 27
        }
      ]
    },
    {
      "cell_type": "code",
      "source": [
        "0 and True"
      ],
      "metadata": {
        "colab": {
          "base_uri": "https://localhost:8080/"
        },
        "id": "yfcs9LGUd_XG",
        "outputId": "3126cd66-3969-4d6d-b2a5-84451a32349e"
      },
      "execution_count": 28,
      "outputs": [
        {
          "output_type": "execute_result",
          "data": {
            "text/plain": [
              "0"
            ]
          },
          "metadata": {},
          "execution_count": 28
        }
      ]
    },
    {
      "cell_type": "code",
      "source": [
        "print(True and 1 or 0 and True)"
      ],
      "metadata": {
        "colab": {
          "base_uri": "https://localhost:8080/"
        },
        "id": "1fsbcSnxd_S0",
        "outputId": "b7c62e75-eb3d-40fe-ea2d-f803a9105562"
      },
      "execution_count": 29,
      "outputs": [
        {
          "output_type": "stream",
          "name": "stdout",
          "text": [
            "1\n"
          ]
        }
      ]
    },
    {
      "cell_type": "code",
      "source": [
        "bool(-34567876543)"
      ],
      "metadata": {
        "colab": {
          "base_uri": "https://localhost:8080/"
        },
        "id": "vi-nGqSOd_Op",
        "outputId": "7c775f9b-c985-4508-9760-ba53217a1e45"
      },
      "execution_count": 30,
      "outputs": [
        {
          "output_type": "execute_result",
          "data": {
            "text/plain": [
              "True"
            ]
          },
          "metadata": {},
          "execution_count": 30
        }
      ]
    },
    {
      "cell_type": "code",
      "source": [
        "bool(23567876543)"
      ],
      "metadata": {
        "colab": {
          "base_uri": "https://localhost:8080/"
        },
        "id": "fXum2MaVd_G3",
        "outputId": "1719a1b9-8ae1-46fb-b950-6fe3b8945491"
      },
      "execution_count": 31,
      "outputs": [
        {
          "output_type": "execute_result",
          "data": {
            "text/plain": [
              "True"
            ]
          },
          "metadata": {},
          "execution_count": 31
        }
      ]
    },
    {
      "cell_type": "code",
      "source": [
        "if 0:\n",
        "    print(\"A\")"
      ],
      "metadata": {
        "id": "2wqAouFCd_B_"
      },
      "execution_count": null,
      "outputs": []
    },
    {
      "cell_type": "code",
      "source": [],
      "metadata": {
        "id": "r9ZgLrDld-9X"
      },
      "execution_count": null,
      "outputs": []
    },
    {
      "cell_type": "code",
      "source": [],
      "metadata": {
        "id": "Ehqgpl6eZQxL"
      },
      "execution_count": null,
      "outputs": []
    }
  ]
}